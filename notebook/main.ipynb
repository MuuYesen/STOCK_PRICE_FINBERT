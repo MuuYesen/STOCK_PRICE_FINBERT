{
 "cells": [
  {
   "cell_type": "markdown",
   "metadata": {
    "id": "SA9b7t0CBsc5"
   },
   "source": [
    "# 环境搭建"
   ]
  },
  {
   "cell_type": "code",
   "execution_count": null,
   "metadata": {
    "colab": {
     "base_uri": "https://localhost:8080/"
    },
    "executionInfo": {
     "elapsed": 4236,
     "status": "ok",
     "timestamp": 1608977222798,
     "user": {
      "displayName": "Xingming Zeng",
      "photoUrl": "https://lh3.googleusercontent.com/a-/AOh14Gg1zAEwRE9l60AQWAypJxdyFdkCJKuTmpgRLAOe=s64",
      "userId": "17085929984053572921"
     },
     "user_tz": -480
    },
    "id": "sD_XC5yIC1-n",
    "outputId": "b83bf04c-1223-4fdc-f99f-4d68743fa09c"
   },
   "outputs": [
    {
     "name": "stdout",
     "output_type": "stream",
     "text": [
      "Requirement already satisfied: transformers in /usr/local/lib/python3.6/dist-packages (4.1.1)\n",
      "Requirement already satisfied: tqdm>=4.27 in /usr/local/lib/python3.6/dist-packages (from transformers) (4.41.1)\n",
      "Requirement already satisfied: regex!=2019.12.17 in /usr/local/lib/python3.6/dist-packages (from transformers) (2019.12.20)\n",
      "Requirement already satisfied: numpy in /usr/local/lib/python3.6/dist-packages (from transformers) (1.19.4)\n",
      "Requirement already satisfied: tokenizers==0.9.4 in /usr/local/lib/python3.6/dist-packages (from transformers) (0.9.4)\n",
      "Requirement already satisfied: packaging in /usr/local/lib/python3.6/dist-packages (from transformers) (20.8)\n",
      "Requirement already satisfied: dataclasses; python_version < \"3.7\" in /usr/local/lib/python3.6/dist-packages (from transformers) (0.8)\n",
      "Requirement already satisfied: filelock in /usr/local/lib/python3.6/dist-packages (from transformers) (3.0.12)\n",
      "Requirement already satisfied: sacremoses in /usr/local/lib/python3.6/dist-packages (from transformers) (0.0.43)\n",
      "Requirement already satisfied: requests in /usr/local/lib/python3.6/dist-packages (from transformers) (2.23.0)\n",
      "Requirement already satisfied: pyparsing>=2.0.2 in /usr/local/lib/python3.6/dist-packages (from packaging->transformers) (2.4.7)\n",
      "Requirement already satisfied: joblib in /usr/local/lib/python3.6/dist-packages (from sacremoses->transformers) (1.0.0)\n",
      "Requirement already satisfied: click in /usr/local/lib/python3.6/dist-packages (from sacremoses->transformers) (7.1.2)\n",
      "Requirement already satisfied: six in /usr/local/lib/python3.6/dist-packages (from sacremoses->transformers) (1.15.0)\n",
      "Requirement already satisfied: chardet<4,>=3.0.2 in /usr/local/lib/python3.6/dist-packages (from requests->transformers) (3.0.4)\n",
      "Requirement already satisfied: certifi>=2017.4.17 in /usr/local/lib/python3.6/dist-packages (from requests->transformers) (2020.12.5)\n",
      "Requirement already satisfied: idna<3,>=2.5 in /usr/local/lib/python3.6/dist-packages (from requests->transformers) (2.10)\n",
      "Requirement already satisfied: urllib3!=1.25.0,!=1.25.1,<1.26,>=1.21.1 in /usr/local/lib/python3.6/dist-packages (from requests->transformers) (1.24.3)\n"
     ]
    }
   ],
   "source": [
    "pip install transformers"
   ]
  },
  {
   "cell_type": "code",
   "execution_count": null,
   "metadata": {
    "colab": {
     "base_uri": "https://localhost:8080/"
    },
    "executionInfo": {
     "elapsed": 4047,
     "status": "ok",
     "timestamp": 1608976372022,
     "user": {
      "displayName": "Xingming Zeng",
      "photoUrl": "https://lh3.googleusercontent.com/a-/AOh14Gg1zAEwRE9l60AQWAypJxdyFdkCJKuTmpgRLAOe=s64",
      "userId": "17085929984053572921"
     },
     "user_tz": -480
    },
    "id": "4L9kr7ukC96p",
    "outputId": "e6155a96-abe6-49c2-98a9-3b9e6f10f3f5"
   },
   "outputs": [
    {
     "name": "stdout",
     "output_type": "stream",
     "text": [
      "Requirement already satisfied: snownlp in /usr/local/lib/python3.6/dist-packages (0.12.3)\n"
     ]
    }
   ],
   "source": [
    "pip install snownlp"
   ]
  },
  {
   "cell_type": "code",
   "execution_count": null,
   "metadata": {
    "colab": {
     "base_uri": "https://localhost:8080/"
    },
    "executionInfo": {
     "elapsed": 781,
     "status": "ok",
     "timestamp": 1608977223494,
     "user": {
      "displayName": "Xingming Zeng",
      "photoUrl": "https://lh3.googleusercontent.com/a-/AOh14Gg1zAEwRE9l60AQWAypJxdyFdkCJKuTmpgRLAOe=s64",
      "userId": "17085929984053572921"
     },
     "user_tz": -480
    },
    "id": "J5uggzBECbQV",
    "outputId": "0f44b69c-4ee3-427c-cddc-2d6b3a2d865a"
   },
   "outputs": [
    {
     "name": "stdout",
     "output_type": "stream",
     "text": [
      "/content/drive/My Drive/Colab Notebooks/Finbert/2.0/notebook\n"
     ]
    }
   ],
   "source": [
    "import os\n",
    " \n",
    "print(os.getcwd())"
   ]
  },
  {
   "cell_type": "code",
   "execution_count": null,
   "metadata": {
    "id": "Z80DT64WCj-j"
   },
   "outputs": [],
   "source": [
    "path = \"/content/drive/My Drive/Colab Notebooks/Finbert/2.0/notebook/\"\n",
    "os.chdir(path)"
   ]
  },
  {
   "cell_type": "code",
   "execution_count": null,
   "metadata": {
    "id": "QxFRnSpiBsdG"
   },
   "outputs": [],
   "source": [
    "import sys\n",
    "sys.path.append('..')\n",
    "from finbert.finbert import Finbert\n",
    "from finbert.spider import Spider_For_GUBA\n",
    "from snownlp import sentiment\n",
    "from snownlp import SnowNLP\n",
    "\n",
    "import pandas as pd\n",
    "import numpy as np\n",
    "import re\n",
    "import time\n",
    "# pd.set_option('display.max_rows', None) # 显示全部行\n",
    "# pd.set_option('display.max_columns', None) # 显示全部列"
   ]
  },
  {
   "cell_type": "markdown",
   "metadata": {
    "id": "xg8_flgvBsdI"
   },
   "source": [
    "# 初始数据集获取"
   ]
  },
  {
   "cell_type": "code",
   "execution_count": null,
   "metadata": {
    "id": "kPP2lkUnBsdI"
   },
   "outputs": [],
   "source": [
    "sfgb = Spider_For_GUBA()"
   ]
  },
  {
   "cell_type": "code",
   "execution_count": null,
   "metadata": {
    "id": "Fsnev9eNBsdJ",
    "outputId": "f7718280-1f6f-46e8-b6df-39d86873dadb"
   },
   "outputs": [
    {
     "name": "stdout",
     "output_type": "stream",
     "text": [
      "page 8 : completed\n",
      "page 9 : completed\n",
      "page 10 : completed\n",
      "page 11 : completed\n",
      "page 12 : completed\n",
      "page 13 : completed\n",
      "page 14 : completed\n",
      "page 15 : completed\n",
      "page 16 : completed\n",
      "page 17 : completed\n",
      "page 18 : completed\n",
      "page 19 : completed\n",
      "page 20 : completed\n",
      "page 21 : completed\n",
      "page 22 : completed\n",
      "page 23 : completed\n",
      "page 24 : completed\n",
      "page 25 : completed\n",
      "page 26 : completed\n",
      "page 27 : completed\n",
      "page 28 : completed\n",
      "page 29 : completed\n",
      "page 30 : completed\n",
      "page 31 : completed\n",
      "page 32 : completed\n",
      "page 33 : completed\n",
      "page 34 : completed\n",
      "page 35 : completed\n",
      "page 36 : completed\n",
      "page 37 : completed\n",
      "page 38 : completed\n",
      "page 39 : completed\n",
      "page 40 : completed\n",
      "page 41 : completed\n",
      "page 42 : completed\n",
      "page 43 : completed\n",
      "page 44 : completed\n",
      "page 45 : completed\n",
      "page 46 : completed\n",
      "page 47 : completed\n",
      "page 48 : completed\n"
     ]
    }
   ],
   "source": [
    "data = sfgb.require_reviews(8,48) ### 特意放宽页码，保证核心数据的完整性"
   ]
  },
  {
   "cell_type": "code",
   "execution_count": null,
   "metadata": {
    "id": "Rd8llK5_BsdK"
   },
   "outputs": [],
   "source": [
    "data.to_csv('../data/corpus/raw_corpus.csv',encoding='utf-8',index=False)"
   ]
  },
  {
   "cell_type": "markdown",
   "metadata": {
    "id": "XO03b3A7BsdL"
   },
   "source": [
    "# 特征工程"
   ]
  },
  {
   "cell_type": "code",
   "execution_count": null,
   "metadata": {
    "id": "vXtaTrNkBsdM"
   },
   "outputs": [],
   "source": [
    "raw_data = pd.read_csv('../data/corpus/raw_corpus.csv')"
   ]
  },
  {
   "cell_type": "code",
   "execution_count": null,
   "metadata": {
    "id": "xjf6GzQfBsdM",
    "outputId": "69ba14ce-1655-47c2-f0d2-c12205914265"
   },
   "outputs": [
    {
     "data": {
      "text/html": [
       "<div>\n",
       "<style scoped>\n",
       "    .dataframe tbody tr th:only-of-type {\n",
       "        vertical-align: middle;\n",
       "    }\n",
       "\n",
       "    .dataframe tbody tr th {\n",
       "        vertical-align: top;\n",
       "    }\n",
       "\n",
       "    .dataframe thead th {\n",
       "        text-align: right;\n",
       "    }\n",
       "</style>\n",
       "<table border=\"1\" class=\"dataframe\">\n",
       "  <thead>\n",
       "    <tr style=\"text-align: right;\">\n",
       "      <th></th>\n",
       "      <th>text</th>\n",
       "      <th>date</th>\n",
       "    </tr>\n",
       "  </thead>\n",
       "  <tbody>\n",
       "    <tr>\n",
       "      <th>0</th>\n",
       "      <td>大忽悠，大</td>\n",
       "      <td>2020-11-11 19:29:24</td>\n",
       "    </tr>\n",
       "    <tr>\n",
       "      <th>1</th>\n",
       "      <td>你有狐狸的技术你来分析试试看有粉丝吗</td>\n",
       "      <td>2020-11-09 20:45:51</td>\n",
       "    </tr>\n",
       "    <tr>\n",
       "      <th>2</th>\n",
       "      <td>狐狸我爱你</td>\n",
       "      <td>2020-11-09 14:34:58</td>\n",
       "    </tr>\n",
       "    <tr>\n",
       "      <th>3</th>\n",
       "      <td>上周跟狐狸老师满仓干，哈哈，</td>\n",
       "      <td>2020-11-09 13:47:20</td>\n",
       "    </tr>\n",
       "    <tr>\n",
       "      <th>4</th>\n",
       "      <td>老师，今天涨这么好，后面会回调么</td>\n",
       "      <td>2020-11-09 12:07:09</td>\n",
       "    </tr>\n",
       "  </tbody>\n",
       "</table>\n",
       "</div>"
      ],
      "text/plain": [
       "                  text                 date\n",
       "0               大忽悠，大   2020-11-11 19:29:24\n",
       "1  你有狐狸的技术你来分析试试看有粉丝吗   2020-11-09 20:45:51\n",
       "2               狐狸我爱你   2020-11-09 14:34:58\n",
       "3      上周跟狐狸老师满仓干，哈哈，   2020-11-09 13:47:20\n",
       "4    老师，今天涨这么好，后面会回调么   2020-11-09 12:07:09"
      ]
     },
     "execution_count": 40,
     "metadata": {
      "tags": []
     },
     "output_type": "execute_result"
    }
   ],
   "source": [
    "raw_data.head()"
   ]
  },
  {
   "cell_type": "markdown",
   "metadata": {
    "id": "8XjKE7G2BsdN"
   },
   "source": [
    "## 类型检查"
   ]
  },
  {
   "cell_type": "code",
   "execution_count": null,
   "metadata": {
    "id": "EAHc0F55BsdO",
    "outputId": "a485346c-35d3-4872-cbaa-bb3e56c6b6c2"
   },
   "outputs": [
    {
     "name": "stdout",
     "output_type": "stream",
     "text": [
      "<class 'pandas.core.frame.DataFrame'>\n",
      "RangeIndex: 229904 entries, 0 to 229903\n",
      "Data columns (total 2 columns):\n",
      " #   Column  Non-Null Count   Dtype \n",
      "---  ------  --------------   ----- \n",
      " 0   text    229904 non-null  object\n",
      " 1   date    229904 non-null  object\n",
      "dtypes: object(2)\n",
      "memory usage: 3.5+ MB\n"
     ]
    }
   ],
   "source": [
    "raw_data.info()"
   ]
  },
  {
   "cell_type": "code",
   "execution_count": null,
   "metadata": {
    "id": "dPZzd-eCBsdP"
   },
   "outputs": [],
   "source": [
    "## 对date字段进行格式转化"
   ]
  },
  {
   "cell_type": "code",
   "execution_count": null,
   "metadata": {
    "id": "Z5L_BIAbBsdP"
   },
   "outputs": [],
   "source": [
    "raw_data['date'] = raw_data.date.str.slice(0,10)  "
   ]
  },
  {
   "cell_type": "code",
   "execution_count": null,
   "metadata": {
    "id": "asQAjQUqBsdQ",
    "outputId": "b34e161f-4997-41f6-e61a-73e4750ef5b7"
   },
   "outputs": [
    {
     "data": {
      "text/html": [
       "<div>\n",
       "<style scoped>\n",
       "    .dataframe tbody tr th:only-of-type {\n",
       "        vertical-align: middle;\n",
       "    }\n",
       "\n",
       "    .dataframe tbody tr th {\n",
       "        vertical-align: top;\n",
       "    }\n",
       "\n",
       "    .dataframe thead th {\n",
       "        text-align: right;\n",
       "    }\n",
       "</style>\n",
       "<table border=\"1\" class=\"dataframe\">\n",
       "  <thead>\n",
       "    <tr style=\"text-align: right;\">\n",
       "      <th></th>\n",
       "      <th>text</th>\n",
       "      <th>date</th>\n",
       "    </tr>\n",
       "  </thead>\n",
       "  <tbody>\n",
       "    <tr>\n",
       "      <th>0</th>\n",
       "      <td>大忽悠，大</td>\n",
       "      <td>2020-11-11</td>\n",
       "    </tr>\n",
       "    <tr>\n",
       "      <th>1</th>\n",
       "      <td>你有狐狸的技术你来分析试试看有粉丝吗</td>\n",
       "      <td>2020-11-09</td>\n",
       "    </tr>\n",
       "    <tr>\n",
       "      <th>2</th>\n",
       "      <td>狐狸我爱你</td>\n",
       "      <td>2020-11-09</td>\n",
       "    </tr>\n",
       "    <tr>\n",
       "      <th>3</th>\n",
       "      <td>上周跟狐狸老师满仓干，哈哈，</td>\n",
       "      <td>2020-11-09</td>\n",
       "    </tr>\n",
       "    <tr>\n",
       "      <th>4</th>\n",
       "      <td>老师，今天涨这么好，后面会回调么</td>\n",
       "      <td>2020-11-09</td>\n",
       "    </tr>\n",
       "  </tbody>\n",
       "</table>\n",
       "</div>"
      ],
      "text/plain": [
       "                  text        date\n",
       "0               大忽悠，大   2020-11-11\n",
       "1  你有狐狸的技术你来分析试试看有粉丝吗   2020-11-09\n",
       "2               狐狸我爱你   2020-11-09\n",
       "3      上周跟狐狸老师满仓干，哈哈，   2020-11-09\n",
       "4    老师，今天涨这么好，后面会回调么   2020-11-09"
      ]
     },
     "execution_count": 44,
     "metadata": {
      "tags": []
     },
     "output_type": "execute_result"
    }
   ],
   "source": [
    "raw_data.head()"
   ]
  },
  {
   "cell_type": "code",
   "execution_count": null,
   "metadata": {
    "id": "LB3A_pU4BsdR"
   },
   "outputs": [],
   "source": [
    "raw_data['date'] = raw_data.date.apply(lambda x : re.sub('-', '', x))"
   ]
  },
  {
   "cell_type": "code",
   "execution_count": null,
   "metadata": {
    "id": "f8iUBz4LBsdS",
    "outputId": "1a224023-e2e1-43aa-8600-a627bb482316"
   },
   "outputs": [
    {
     "data": {
      "text/html": [
       "<div>\n",
       "<style scoped>\n",
       "    .dataframe tbody tr th:only-of-type {\n",
       "        vertical-align: middle;\n",
       "    }\n",
       "\n",
       "    .dataframe tbody tr th {\n",
       "        vertical-align: top;\n",
       "    }\n",
       "\n",
       "    .dataframe thead th {\n",
       "        text-align: right;\n",
       "    }\n",
       "</style>\n",
       "<table border=\"1\" class=\"dataframe\">\n",
       "  <thead>\n",
       "    <tr style=\"text-align: right;\">\n",
       "      <th></th>\n",
       "      <th>text</th>\n",
       "      <th>date</th>\n",
       "    </tr>\n",
       "  </thead>\n",
       "  <tbody>\n",
       "    <tr>\n",
       "      <th>0</th>\n",
       "      <td>大忽悠，大</td>\n",
       "      <td>20201111</td>\n",
       "    </tr>\n",
       "    <tr>\n",
       "      <th>1</th>\n",
       "      <td>你有狐狸的技术你来分析试试看有粉丝吗</td>\n",
       "      <td>20201109</td>\n",
       "    </tr>\n",
       "    <tr>\n",
       "      <th>2</th>\n",
       "      <td>狐狸我爱你</td>\n",
       "      <td>20201109</td>\n",
       "    </tr>\n",
       "    <tr>\n",
       "      <th>3</th>\n",
       "      <td>上周跟狐狸老师满仓干，哈哈，</td>\n",
       "      <td>20201109</td>\n",
       "    </tr>\n",
       "    <tr>\n",
       "      <th>4</th>\n",
       "      <td>老师，今天涨这么好，后面会回调么</td>\n",
       "      <td>20201109</td>\n",
       "    </tr>\n",
       "  </tbody>\n",
       "</table>\n",
       "</div>"
      ],
      "text/plain": [
       "                  text      date\n",
       "0               大忽悠，大   20201111\n",
       "1  你有狐狸的技术你来分析试试看有粉丝吗   20201109\n",
       "2               狐狸我爱你   20201109\n",
       "3      上周跟狐狸老师满仓干，哈哈，   20201109\n",
       "4    老师，今天涨这么好，后面会回调么   20201109"
      ]
     },
     "execution_count": 46,
     "metadata": {
      "tags": []
     },
     "output_type": "execute_result"
    }
   ],
   "source": [
    "raw_data.head()"
   ]
  },
  {
   "cell_type": "code",
   "execution_count": null,
   "metadata": {
    "id": "F7gI0Z07BsdS"
   },
   "outputs": [],
   "source": []
  },
  {
   "cell_type": "code",
   "execution_count": null,
   "metadata": {
    "id": "PcWpX0koBsdT"
   },
   "outputs": [],
   "source": [
    "## 对text字段进行格式转化"
   ]
  },
  {
   "cell_type": "code",
   "execution_count": null,
   "metadata": {
    "id": "otDdwNHJBsdT",
    "outputId": "1dc57265-915d-4c06-9c27-ed5793248d5d"
   },
   "outputs": [
    {
     "data": {
      "text/plain": [
       "0                                                    大忽悠，大 \n",
       "1                                       你有狐狸的技术你来分析试试看有粉丝吗 \n",
       "2                                                    狐狸我爱你 \n",
       "3                                           上周跟狐狸老师满仓干，哈哈， \n",
       "4                                         老师，今天涨这么好，后面会回调么 \n",
       "                                ...                        \n",
       "229899                             不是多就是空呗  看空的理论依据 数据支撑呢？ \n",
       "229900                                               你是个傻子 \n",
       "229901    不论看多看空，像你这样天天唯我独尊幸灾乐祸的样子，好像只有人人都赔才能映衬你的正确，对付这种...\n",
       "229902    这种提醒有意义吗 谁都可以提醒你小心跌的风险 中国股市散户只能做多 风险之一就是下跌风险 每...\n",
       "229903                                       他又没讲对过，看个笑话吧。 \n",
       "Name: text, Length: 229904, dtype: object"
      ]
     },
     "execution_count": 48,
     "metadata": {
      "tags": []
     },
     "output_type": "execute_result"
    }
   ],
   "source": [
    "raw_data.text  "
   ]
  },
  {
   "cell_type": "code",
   "execution_count": null,
   "metadata": {
    "id": "FLBBhfxSBsdU"
   },
   "outputs": [],
   "source": [
    "raw_data['text'] = raw_data.text.apply(lambda x : re.sub('\\[[\\u4e00-\\u9fa5]*\\]', \"\", x)) ## 去表情"
   ]
  },
  {
   "cell_type": "code",
   "execution_count": null,
   "metadata": {
    "id": "jYY6GiDTBsdV"
   },
   "outputs": [],
   "source": [
    "raw_data['text'] = raw_data.text.str.strip() ## 去前后空格"
   ]
  },
  {
   "cell_type": "code",
   "execution_count": null,
   "metadata": {
    "id": "E8a29De-BsdV"
   },
   "outputs": [],
   "source": [
    "raw_data = raw_data[raw_data['text'] != ''].reset_index().drop('index',axis=1) ## 去除空行字符串"
   ]
  },
  {
   "cell_type": "code",
   "execution_count": null,
   "metadata": {
    "id": "iSRyMBiIBsdW",
    "outputId": "9b4dc666-3ab0-4750-8a2b-b3cf0ce29e4c"
   },
   "outputs": [
    {
     "data": {
      "text/html": [
       "<div>\n",
       "<style scoped>\n",
       "    .dataframe tbody tr th:only-of-type {\n",
       "        vertical-align: middle;\n",
       "    }\n",
       "\n",
       "    .dataframe tbody tr th {\n",
       "        vertical-align: top;\n",
       "    }\n",
       "\n",
       "    .dataframe thead th {\n",
       "        text-align: right;\n",
       "    }\n",
       "</style>\n",
       "<table border=\"1\" class=\"dataframe\">\n",
       "  <thead>\n",
       "    <tr style=\"text-align: right;\">\n",
       "      <th></th>\n",
       "      <th>text</th>\n",
       "      <th>date</th>\n",
       "    </tr>\n",
       "  </thead>\n",
       "  <tbody>\n",
       "    <tr>\n",
       "      <th>0</th>\n",
       "      <td>大忽悠，大</td>\n",
       "      <td>20201111</td>\n",
       "    </tr>\n",
       "    <tr>\n",
       "      <th>1</th>\n",
       "      <td>你有狐狸的技术你来分析试试看有粉丝吗</td>\n",
       "      <td>20201109</td>\n",
       "    </tr>\n",
       "    <tr>\n",
       "      <th>2</th>\n",
       "      <td>狐狸我爱你</td>\n",
       "      <td>20201109</td>\n",
       "    </tr>\n",
       "    <tr>\n",
       "      <th>3</th>\n",
       "      <td>上周跟狐狸老师满仓干，哈哈，</td>\n",
       "      <td>20201109</td>\n",
       "    </tr>\n",
       "    <tr>\n",
       "      <th>4</th>\n",
       "      <td>老师，今天涨这么好，后面会回调么</td>\n",
       "      <td>20201109</td>\n",
       "    </tr>\n",
       "    <tr>\n",
       "      <th>...</th>\n",
       "      <td>...</td>\n",
       "      <td>...</td>\n",
       "    </tr>\n",
       "    <tr>\n",
       "      <th>216001</th>\n",
       "      <td>不是多就是空呗  看空的理论依据 数据支撑呢？</td>\n",
       "      <td>20200505</td>\n",
       "    </tr>\n",
       "    <tr>\n",
       "      <th>216002</th>\n",
       "      <td>你是个傻子</td>\n",
       "      <td>20200505</td>\n",
       "    </tr>\n",
       "    <tr>\n",
       "      <th>216003</th>\n",
       "      <td>不论看多看空，像你这样天天唯我独尊幸灾乐祸的样子，好像只有人人都赔才能映衬你的正确，对付这种...</td>\n",
       "      <td>20200505</td>\n",
       "    </tr>\n",
       "    <tr>\n",
       "      <th>216004</th>\n",
       "      <td>这种提醒有意义吗 谁都可以提醒你小心跌的风险 中国股市散户只能做多 风险之一就是下跌风险 每...</td>\n",
       "      <td>20200506</td>\n",
       "    </tr>\n",
       "    <tr>\n",
       "      <th>216005</th>\n",
       "      <td>他又没讲对过，看个笑话吧。</td>\n",
       "      <td>20200505</td>\n",
       "    </tr>\n",
       "  </tbody>\n",
       "</table>\n",
       "<p>216006 rows × 2 columns</p>\n",
       "</div>"
      ],
      "text/plain": [
       "                                                     text      date\n",
       "0                                                   大忽悠，大  20201111\n",
       "1                                      你有狐狸的技术你来分析试试看有粉丝吗  20201109\n",
       "2                                                   狐狸我爱你  20201109\n",
       "3                                          上周跟狐狸老师满仓干，哈哈，  20201109\n",
       "4                                        老师，今天涨这么好，后面会回调么  20201109\n",
       "...                                                   ...       ...\n",
       "216001                            不是多就是空呗  看空的理论依据 数据支撑呢？  20200505\n",
       "216002                                              你是个傻子  20200505\n",
       "216003  不论看多看空，像你这样天天唯我独尊幸灾乐祸的样子，好像只有人人都赔才能映衬你的正确，对付这种...  20200505\n",
       "216004  这种提醒有意义吗 谁都可以提醒你小心跌的风险 中国股市散户只能做多 风险之一就是下跌风险 每...  20200506\n",
       "216005                                      他又没讲对过，看个笑话吧。  20200505\n",
       "\n",
       "[216006 rows x 2 columns]"
      ]
     },
     "execution_count": 52,
     "metadata": {
      "tags": []
     },
     "output_type": "execute_result"
    }
   ],
   "source": [
    "raw_data ##格式转换成功"
   ]
  },
  {
   "cell_type": "markdown",
   "metadata": {
    "id": "p9jgO_f2BsdW"
   },
   "source": [
    "## 描述性统计"
   ]
  },
  {
   "cell_type": "code",
   "execution_count": null,
   "metadata": {
    "id": "JbZRUVSgBsdW",
    "outputId": "29db9b8e-fedd-42d5-d844-5d7da1e07ac9",
    "scrolled": true
   },
   "outputs": [
    {
     "data": {
      "text/html": [
       "<div>\n",
       "<style scoped>\n",
       "    .dataframe tbody tr th:only-of-type {\n",
       "        vertical-align: middle;\n",
       "    }\n",
       "\n",
       "    .dataframe tbody tr th {\n",
       "        vertical-align: top;\n",
       "    }\n",
       "\n",
       "    .dataframe thead th {\n",
       "        text-align: right;\n",
       "    }\n",
       "</style>\n",
       "<table border=\"1\" class=\"dataframe\">\n",
       "  <thead>\n",
       "    <tr style=\"text-align: right;\">\n",
       "      <th></th>\n",
       "      <th>count</th>\n",
       "      <th>unique</th>\n",
       "      <th>top</th>\n",
       "      <th>freq</th>\n",
       "    </tr>\n",
       "  </thead>\n",
       "  <tbody>\n",
       "    <tr>\n",
       "      <th>text</th>\n",
       "      <td>216006</td>\n",
       "      <td>186584</td>\n",
       "      <td>支持</td>\n",
       "      <td>898</td>\n",
       "    </tr>\n",
       "    <tr>\n",
       "      <th>date</th>\n",
       "      <td>216006</td>\n",
       "      <td>336</td>\n",
       "      <td>20200902</td>\n",
       "      <td>3168</td>\n",
       "    </tr>\n",
       "  </tbody>\n",
       "</table>\n",
       "</div>"
      ],
      "text/plain": [
       "       count  unique       top  freq\n",
       "text  216006  186584        支持   898\n",
       "date  216006     336  20200902  3168"
      ]
     },
     "execution_count": 53,
     "metadata": {
      "tags": []
     },
     "output_type": "execute_result"
    }
   ],
   "source": [
    "raw_data.describe(include='all').T  # 显然text存在重复与冗余/异常"
   ]
  },
  {
   "cell_type": "markdown",
   "metadata": {
    "id": "mUZPh9c4BsdX"
   },
   "source": [
    "## 探索性分析"
   ]
  },
  {
   "cell_type": "code",
   "execution_count": null,
   "metadata": {
    "id": "HcatQpSeBsdX",
    "outputId": "9ecfd029-f3ca-4bc3-c8b4-82b2477d51ff"
   },
   "outputs": [
    {
     "data": {
      "text/plain": [
       "<AxesSubplot:>"
      ]
     },
     "execution_count": 54,
     "metadata": {
      "tags": []
     },
     "output_type": "execute_result"
    },
    {
     "data": {
      "image/png": "[encoded data removed]",
      "text/plain": [
       "<Figure size 1800x2880 with 1 Axes>"
      ]
     },
     "metadata": {
      "tags": []
     },
     "output_type": "display_data"
    }
   ],
   "source": [
    "a = pd.DataFrame(raw_data.date.value_counts().sort_index(ascending=False))\n",
    "a.plot(figsize=(25,40)) # 可见核心数据集-6~9月份的评论提取完整"
   ]
  },
  {
   "cell_type": "code",
   "execution_count": null,
   "metadata": {
    "id": "SOUlwrvNBsdY",
    "outputId": "05c6aea0-f89b-40eb-c2bb-931a232819f8"
   },
   "outputs": [
    {
     "data": {
      "text/html": [
       "<div>\n",
       "<style scoped>\n",
       "    .dataframe tbody tr th:only-of-type {\n",
       "        vertical-align: middle;\n",
       "    }\n",
       "\n",
       "    .dataframe tbody tr th {\n",
       "        vertical-align: top;\n",
       "    }\n",
       "\n",
       "    .dataframe thead th {\n",
       "        text-align: right;\n",
       "    }\n",
       "</style>\n",
       "<table border=\"1\" class=\"dataframe\">\n",
       "  <thead>\n",
       "    <tr style=\"text-align: right;\">\n",
       "      <th></th>\n",
       "      <th>text</th>\n",
       "    </tr>\n",
       "  </thead>\n",
       "  <tbody>\n",
       "    <tr>\n",
       "      <th>支持</th>\n",
       "      <td>898</td>\n",
       "    </tr>\n",
       "    <tr>\n",
       "      <th>图片评论</th>\n",
       "      <td>854</td>\n",
       "    </tr>\n",
       "    <tr>\n",
       "      <th>谢谢</th>\n",
       "      <td>728</td>\n",
       "    </tr>\n",
       "    <tr>\n",
       "      <th>抱歉！内容已删除</th>\n",
       "      <td>724</td>\n",
       "    </tr>\n",
       "    <tr>\n",
       "      <th>老师早上好</th>\n",
       "      <td>488</td>\n",
       "    </tr>\n",
       "  </tbody>\n",
       "</table>\n",
       "</div>"
      ],
      "text/plain": [
       "          text\n",
       "支持         898\n",
       "图片评论       854\n",
       "谢谢         728\n",
       "抱歉！内容已删除   724\n",
       "老师早上好      488"
      ]
     },
     "execution_count": 55,
     "metadata": {
      "tags": []
     },
     "output_type": "execute_result"
    }
   ],
   "source": [
    "b = pd.DataFrame(raw_data.text.value_counts().sort_values(ascending=False))\n",
    "b.head() ## 发现存在诸多表情  而这表情大多都是针对作者，而非股票，因此是冗余信息需剔除"
   ]
  },
  {
   "cell_type": "code",
   "execution_count": null,
   "metadata": {
    "id": "vAIFm7oaBsdY"
   },
   "outputs": [],
   "source": [
    "b.to_csv('../data/corpus/temp.csv',encoding='utf-8') ## 保存成csv，更细致观测频率高的评论是哪些"
   ]
  },
  {
   "cell_type": "markdown",
   "metadata": {
    "id": "zzkcTqwRBsdY"
   },
   "source": [
    "## 异常值处理"
   ]
  },
  {
   "cell_type": "code",
   "execution_count": null,
   "metadata": {
    "id": "-DwfdtLLBsdZ"
   },
   "outputs": [],
   "source": [
    "meanless_index = b[(b.text>29).values].index  ### 频数降序，碰到第一个含正常股票情绪的词，用它的频数来截断 因为前面大多是打招呼"
   ]
  },
  {
   "cell_type": "code",
   "execution_count": null,
   "metadata": {
    "id": "7b1cF19ZBsdZ",
    "outputId": "59ae34be-13c1-4b0f-8746-feee3e9f711b"
   },
   "outputs": [
    {
     "data": {
      "text/plain": [
       "Index(['支持', '图片评论', '谢谢', '抱歉！内容已删除', '老师早上好', '谢谢老师', '老师早', '早上好', '支持狐狸',\n",
       "       '666',\n",
       "       ...\n",
       "       'e好！', '蠢货，滚', '优秀', '人才', '感谢！', '牛人', '谢谢狐狸！', '熊哥早', 'SB', '额'],\n",
       "      dtype='object', length=141)"
      ]
     },
     "execution_count": 58,
     "metadata": {
      "tags": []
     },
     "output_type": "execute_result"
    }
   ],
   "source": [
    "meanless_index"
   ]
  },
  {
   "cell_type": "code",
   "execution_count": null,
   "metadata": {
    "id": "kYdmXhWEBsdZ",
    "outputId": "7f346b7d-3a7e-4f4d-bd91-927c74e7be6c"
   },
   "outputs": [
    {
     "data": {
      "text/plain": [
       "201000"
      ]
     },
     "execution_count": 59,
     "metadata": {
      "tags": []
     },
     "output_type": "execute_result"
    }
   ],
   "source": [
    "(raw_data.text.apply(lambda x:x not in meanless_index)).sum()"
   ]
  },
  {
   "cell_type": "code",
   "execution_count": null,
   "metadata": {
    "id": "cKEKf2pzBsdZ",
    "outputId": "7020b517-0b4c-485b-b3fc-b704c1462e1f"
   },
   "outputs": [
    {
     "data": {
      "text/html": [
       "<div>\n",
       "<style scoped>\n",
       "    .dataframe tbody tr th:only-of-type {\n",
       "        vertical-align: middle;\n",
       "    }\n",
       "\n",
       "    .dataframe tbody tr th {\n",
       "        vertical-align: top;\n",
       "    }\n",
       "\n",
       "    .dataframe thead th {\n",
       "        text-align: right;\n",
       "    }\n",
       "</style>\n",
       "<table border=\"1\" class=\"dataframe\">\n",
       "  <thead>\n",
       "    <tr style=\"text-align: right;\">\n",
       "      <th></th>\n",
       "      <th>text</th>\n",
       "      <th>date</th>\n",
       "    </tr>\n",
       "  </thead>\n",
       "  <tbody>\n",
       "    <tr>\n",
       "      <th>0</th>\n",
       "      <td>大忽悠，大</td>\n",
       "      <td>20201111</td>\n",
       "    </tr>\n",
       "    <tr>\n",
       "      <th>1</th>\n",
       "      <td>你有狐狸的技术你来分析试试看有粉丝吗</td>\n",
       "      <td>20201109</td>\n",
       "    </tr>\n",
       "    <tr>\n",
       "      <th>2</th>\n",
       "      <td>狐狸我爱你</td>\n",
       "      <td>20201109</td>\n",
       "    </tr>\n",
       "    <tr>\n",
       "      <th>3</th>\n",
       "      <td>上周跟狐狸老师满仓干，哈哈，</td>\n",
       "      <td>20201109</td>\n",
       "    </tr>\n",
       "    <tr>\n",
       "      <th>4</th>\n",
       "      <td>老师，今天涨这么好，后面会回调么</td>\n",
       "      <td>20201109</td>\n",
       "    </tr>\n",
       "    <tr>\n",
       "      <th>...</th>\n",
       "      <td>...</td>\n",
       "      <td>...</td>\n",
       "    </tr>\n",
       "    <tr>\n",
       "      <th>216001</th>\n",
       "      <td>不是多就是空呗  看空的理论依据 数据支撑呢？</td>\n",
       "      <td>20200505</td>\n",
       "    </tr>\n",
       "    <tr>\n",
       "      <th>216002</th>\n",
       "      <td>你是个傻子</td>\n",
       "      <td>20200505</td>\n",
       "    </tr>\n",
       "    <tr>\n",
       "      <th>216003</th>\n",
       "      <td>不论看多看空，像你这样天天唯我独尊幸灾乐祸的样子，好像只有人人都赔才能映衬你的正确，对付这种...</td>\n",
       "      <td>20200505</td>\n",
       "    </tr>\n",
       "    <tr>\n",
       "      <th>216004</th>\n",
       "      <td>这种提醒有意义吗 谁都可以提醒你小心跌的风险 中国股市散户只能做多 风险之一就是下跌风险 每...</td>\n",
       "      <td>20200506</td>\n",
       "    </tr>\n",
       "    <tr>\n",
       "      <th>216005</th>\n",
       "      <td>他又没讲对过，看个笑话吧。</td>\n",
       "      <td>20200505</td>\n",
       "    </tr>\n",
       "  </tbody>\n",
       "</table>\n",
       "<p>201000 rows × 2 columns</p>\n",
       "</div>"
      ],
      "text/plain": [
       "                                                     text      date\n",
       "0                                                   大忽悠，大  20201111\n",
       "1                                      你有狐狸的技术你来分析试试看有粉丝吗  20201109\n",
       "2                                                   狐狸我爱你  20201109\n",
       "3                                          上周跟狐狸老师满仓干，哈哈，  20201109\n",
       "4                                        老师，今天涨这么好，后面会回调么  20201109\n",
       "...                                                   ...       ...\n",
       "216001                            不是多就是空呗  看空的理论依据 数据支撑呢？  20200505\n",
       "216002                                              你是个傻子  20200505\n",
       "216003  不论看多看空，像你这样天天唯我独尊幸灾乐祸的样子，好像只有人人都赔才能映衬你的正确，对付这种...  20200505\n",
       "216004  这种提醒有意义吗 谁都可以提醒你小心跌的风险 中国股市散户只能做多 风险之一就是下跌风险 每...  20200506\n",
       "216005                                      他又没讲对过，看个笑话吧。  20200505\n",
       "\n",
       "[201000 rows x 2 columns]"
      ]
     },
     "execution_count": 60,
     "metadata": {
      "tags": []
     },
     "output_type": "execute_result"
    }
   ],
   "source": [
    "raw_data = raw_data[raw_data.text.apply(lambda x:x not in meanless_index)]\n",
    "raw_data  ### 虽然还留有一部分干扰评论，但都是频数较低的，到后面细分成天数汇总情感时，影响并不大"
   ]
  },
  {
   "cell_type": "code",
   "execution_count": null,
   "metadata": {
    "id": "p9cNrl3aBsda"
   },
   "outputs": [],
   "source": [
    "raw_data.to_csv('../data/corpus/raw_corpus_after.csv',encoding='utf-8',index=False)"
   ]
  },
  {
   "cell_type": "markdown",
   "metadata": {
    "id": "GTa5tY4IBsda"
   },
   "source": [
    "## 数据集划分"
   ]
  },
  {
   "cell_type": "code",
   "execution_count": null,
   "metadata": {
    "id": "-nYkEA-IBsda"
   },
   "outputs": [],
   "source": [
    "raw_data_after = pd.read_csv('../data/corpus/raw_corpus_after.csv')"
   ]
  },
  {
   "cell_type": "code",
   "execution_count": null,
   "metadata": {
    "id": "sQjZv7AOBsdb"
   },
   "outputs": [],
   "source": [
    "raw_data_after['date'] = raw_data_after.date.astype('object')"
   ]
  },
  {
   "cell_type": "code",
   "execution_count": null,
   "metadata": {
    "id": "-oy5vr6RBsdb",
    "outputId": "95f27e0b-7c6e-4753-fabe-4fe4523cc39b"
   },
   "outputs": [
    {
     "name": "stdout",
     "output_type": "stream",
     "text": [
      "<class 'pandas.core.frame.DataFrame'>\n",
      "RangeIndex: 201000 entries, 0 to 200999\n",
      "Data columns (total 2 columns):\n",
      " #   Column  Non-Null Count   Dtype \n",
      "---  ------  --------------   ----- \n",
      " 0   text    201000 non-null  object\n",
      " 1   date    201000 non-null  object\n",
      "dtypes: object(2)\n",
      "memory usage: 3.1+ MB\n"
     ]
    }
   ],
   "source": [
    "raw_data_after.info()"
   ]
  },
  {
   "cell_type": "code",
   "execution_count": null,
   "metadata": {
    "id": "0Em-_vKKBsdb",
    "outputId": "91f46b9c-0739-457d-e177-f14cfc1d4fda"
   },
   "outputs": [
    {
     "data": {
      "text/plain": [
       "True"
      ]
     },
     "execution_count": 65,
     "metadata": {
      "tags": []
     },
     "output_type": "execute_result"
    }
   ],
   "source": [
    "'20201127' < '2020926' ## 不能直接比较"
   ]
  },
  {
   "cell_type": "code",
   "execution_count": null,
   "metadata": {
    "id": "ybvirFnqBsdc",
    "outputId": "27653d13-28f0-4d12-b1dd-cafc5f91158d"
   },
   "outputs": [
    {
     "data": {
      "text/html": [
       "<div>\n",
       "<style scoped>\n",
       "    .dataframe tbody tr th:only-of-type {\n",
       "        vertical-align: middle;\n",
       "    }\n",
       "\n",
       "    .dataframe tbody tr th {\n",
       "        vertical-align: top;\n",
       "    }\n",
       "\n",
       "    .dataframe thead th {\n",
       "        text-align: right;\n",
       "    }\n",
       "</style>\n",
       "<table border=\"1\" class=\"dataframe\">\n",
       "  <thead>\n",
       "    <tr style=\"text-align: right;\">\n",
       "      <th></th>\n",
       "      <th>text</th>\n",
       "      <th>date</th>\n",
       "    </tr>\n",
       "  </thead>\n",
       "  <tbody>\n",
       "    <tr>\n",
       "      <th>509</th>\n",
       "      <td>静心持股：9月7日将擂响战鼓发起攻击直至9月28日止并一举收复沪3495点至3556点区间战...</td>\n",
       "      <td>20200830</td>\n",
       "    </tr>\n",
       "    <tr>\n",
       "      <th>512</th>\n",
       "      <td>渔歌老师晚上好！请问大盘是不是提前调整了啊？8月还会有新高吗？买了证券股哈投股份被套住了，看...</td>\n",
       "      <td>20200819</td>\n",
       "    </tr>\n",
       "    <tr>\n",
       "      <th>513</th>\n",
       "      <td>还是渔歌的有味道呀</td>\n",
       "      <td>20200817</td>\n",
       "    </tr>\n",
       "    <tr>\n",
       "      <th>514</th>\n",
       "      <td>股指夏季上升与反弹行情预计将延续至9月1日附近，参考沪指高度值在3495点上下，9月2日起将...</td>\n",
       "      <td>20200816</td>\n",
       "    </tr>\n",
       "    <tr>\n",
       "      <th>515</th>\n",
       "      <td>创业板目前怎么看</td>\n",
       "      <td>20200814</td>\n",
       "    </tr>\n",
       "    <tr>\n",
       "      <th>...</th>\n",
       "      <td>...</td>\n",
       "      <td>...</td>\n",
       "    </tr>\n",
       "    <tr>\n",
       "      <th>190233</th>\n",
       "      <td>大师级！</td>\n",
       "      <td>20200706</td>\n",
       "    </tr>\n",
       "    <tr>\n",
       "      <th>196100</th>\n",
       "      <td>起这个名字是 梦入神机 这位笔坛大神的忠粉，还是为了蹭他热度？</td>\n",
       "      <td>20200714</td>\n",
       "    </tr>\n",
       "    <tr>\n",
       "      <th>196197</th>\n",
       "      <td>听神机的明天清仓</td>\n",
       "      <td>20200628</td>\n",
       "    </tr>\n",
       "    <tr>\n",
       "      <th>196634</th>\n",
       "      <td>当然好了，我很好！捂股丰登呢</td>\n",
       "      <td>20200601</td>\n",
       "    </tr>\n",
       "    <tr>\n",
       "      <th>199728</th>\n",
       "      <td>止损的必要性，每一笔交易都应该有止损设置。</td>\n",
       "      <td>20200813</td>\n",
       "    </tr>\n",
       "  </tbody>\n",
       "</table>\n",
       "<p>105754 rows × 2 columns</p>\n",
       "</div>"
      ],
      "text/plain": [
       "                                                     text      date\n",
       "509     静心持股：9月7日将擂响战鼓发起攻击直至9月28日止并一举收复沪3495点至3556点区间战...  20200830\n",
       "512     渔歌老师晚上好！请问大盘是不是提前调整了啊？8月还会有新高吗？买了证券股哈投股份被套住了，看...  20200819\n",
       "513                                             还是渔歌的有味道呀  20200817\n",
       "514     股指夏季上升与反弹行情预计将延续至9月1日附近，参考沪指高度值在3495点上下，9月2日起将...  20200816\n",
       "515                                              创业板目前怎么看  20200814\n",
       "...                                                   ...       ...\n",
       "190233                                               大师级！  20200706\n",
       "196100                    起这个名字是 梦入神机 这位笔坛大神的忠粉，还是为了蹭他热度？  20200714\n",
       "196197                                           听神机的明天清仓  20200628\n",
       "196634                                     当然好了，我很好！捂股丰登呢  20200601\n",
       "199728                              止损的必要性，每一笔交易都应该有止损设置。  20200813\n",
       "\n",
       "[105754 rows x 2 columns]"
      ]
     },
     "execution_count": 66,
     "metadata": {
      "tags": []
     },
     "output_type": "execute_result"
    }
   ],
   "source": [
    "train_corpus_index = raw_data_after.date.apply(lambda x: time.strptime(str(x), \"%Y%m%d\")> time.strptime('20200531', \"%Y%m%d\") \n",
    "                          and time.strptime(str(x) , \"%Y%m%d\") < time.strptime('20200901', \"%Y%m%d\"))\n",
    "train_corpus = raw_data_after[train_corpus_index]\n",
    "train_corpus"
   ]
  },
  {
   "cell_type": "code",
   "execution_count": null,
   "metadata": {
    "id": "Tb_qpBRWBsdc",
    "outputId": "b03ea789-86b0-4ffa-94a9-b8a2c3b83500"
   },
   "outputs": [
    {
     "data": {
      "text/plain": [
       "20200601    2096\n",
       "20200602    1531\n",
       "20200603    1227\n",
       "20200604    1063\n",
       "20200605    1184\n",
       "            ... \n",
       "20200827    1055\n",
       "20200828    1031\n",
       "20200829     779\n",
       "20200830     325\n",
       "20200831     867\n",
       "Name: date, Length: 92, dtype: int64"
      ]
     },
     "execution_count": 67,
     "metadata": {
      "tags": []
     },
     "output_type": "execute_result"
    }
   ],
   "source": [
    "train_corpus.date.value_counts().sort_index()  ## 成功提取"
   ]
  },
  {
   "cell_type": "code",
   "execution_count": null,
   "metadata": {
    "id": "cI2rTJ1zBsdc",
    "outputId": "dc29b8d8-1e7c-4dd4-a3a4-4449fcf2f5b5"
   },
   "outputs": [
    {
     "data": {
      "text/html": [
       "<div>\n",
       "<style scoped>\n",
       "    .dataframe tbody tr th:only-of-type {\n",
       "        vertical-align: middle;\n",
       "    }\n",
       "\n",
       "    .dataframe tbody tr th {\n",
       "        vertical-align: top;\n",
       "    }\n",
       "\n",
       "    .dataframe thead th {\n",
       "        text-align: right;\n",
       "    }\n",
       "</style>\n",
       "<table border=\"1\" class=\"dataframe\">\n",
       "  <thead>\n",
       "    <tr style=\"text-align: right;\">\n",
       "      <th></th>\n",
       "      <th>text</th>\n",
       "      <th>date</th>\n",
       "    </tr>\n",
       "  </thead>\n",
       "  <tbody>\n",
       "    <tr>\n",
       "      <th>496</th>\n",
       "      <td>渔歌开新股</td>\n",
       "      <td>20200928</td>\n",
       "    </tr>\n",
       "    <tr>\n",
       "      <th>497</th>\n",
       "      <td>金秋十月，A股市场将红遍大江南北！但提请注意：不同股指不同个股因运行周期不同将分别于11月3...</td>\n",
       "      <td>20200927</td>\n",
       "    </tr>\n",
       "    <tr>\n",
       "      <th>498</th>\n",
       "      <td>大盘击破3200点后出现一波反弹。股指再度杀跌将受到89日均线触及性顶托向上反弹</td>\n",
       "      <td>20200924</td>\n",
       "    </tr>\n",
       "    <tr>\n",
       "      <th>499</th>\n",
       "      <td>周五应是中小阳</td>\n",
       "      <td>20200924</td>\n",
       "    </tr>\n",
       "    <tr>\n",
       "      <th>500</th>\n",
       "      <td>击破3200点后有一波诱多！</td>\n",
       "      <td>20200924</td>\n",
       "    </tr>\n",
       "    <tr>\n",
       "      <th>...</th>\n",
       "      <td>...</td>\n",
       "      <td>...</td>\n",
       "    </tr>\n",
       "    <tr>\n",
       "      <th>148717</th>\n",
       "      <td>现在才看到，太晚啦</td>\n",
       "      <td>20200910</td>\n",
       "    </tr>\n",
       "    <tr>\n",
       "      <th>152747</th>\n",
       "      <td>个股跌多涨少</td>\n",
       "      <td>20200922</td>\n",
       "    </tr>\n",
       "    <tr>\n",
       "      <th>163345</th>\n",
       "      <td>请老师欣赏！</td>\n",
       "      <td>20200909</td>\n",
       "    </tr>\n",
       "    <tr>\n",
       "      <th>166801</th>\n",
       "      <td>你就一sb</td>\n",
       "      <td>20200913</td>\n",
       "    </tr>\n",
       "    <tr>\n",
       "      <th>167090</th>\n",
       "      <td>老四平镇的</td>\n",
       "      <td>20200908</td>\n",
       "    </tr>\n",
       "  </tbody>\n",
       "</table>\n",
       "<p>35605 rows × 2 columns</p>\n",
       "</div>"
      ],
      "text/plain": [
       "                                                     text      date\n",
       "496                                                 渔歌开新股  20200928\n",
       "497     金秋十月，A股市场将红遍大江南北！但提请注意：不同股指不同个股因运行周期不同将分别于11月3...  20200927\n",
       "498              大盘击破3200点后出现一波反弹。股指再度杀跌将受到89日均线触及性顶托向上反弹  20200924\n",
       "499                                               周五应是中小阳  20200924\n",
       "500                                        击破3200点后有一波诱多！  20200924\n",
       "...                                                   ...       ...\n",
       "148717                                          现在才看到，太晚啦  20200910\n",
       "152747                                             个股跌多涨少  20200922\n",
       "163345                                             请老师欣赏！  20200909\n",
       "166801                                              你就一sb  20200913\n",
       "167090                                              老四平镇的  20200908\n",
       "\n",
       "[35605 rows x 2 columns]"
      ]
     },
     "execution_count": 68,
     "metadata": {
      "tags": []
     },
     "output_type": "execute_result"
    }
   ],
   "source": [
    "val_corpus_index = raw_data_after.date.apply(lambda x: time.strptime(str(x), \"%Y%m%d\")> time.strptime('20200831', \"%Y%m%d\") \n",
    "                          and time.strptime(str(x) , \"%Y%m%d\") < time.strptime('20201001', \"%Y%m%d\"))\n",
    "val_corpus = raw_data_after[val_corpus_index]\n",
    "val_corpus"
   ]
  },
  {
   "cell_type": "code",
   "execution_count": null,
   "metadata": {
    "id": "9IZSAUOzBsdd",
    "outputId": "6cfd20bf-acf8-46ba-e8e4-48ccbb682445"
   },
   "outputs": [
    {
     "data": {
      "text/plain": [
       "20200901     403\n",
       "20200902    2816\n",
       "20200903    1988\n",
       "20200904    2258\n",
       "20200905     677\n",
       "20200906     535\n",
       "20200907    1452\n",
       "20200908    2121\n",
       "20200909    2165\n",
       "20200910    1661\n",
       "20200911     871\n",
       "20200912     294\n",
       "20200913     472\n",
       "20200914     691\n",
       "20200915     948\n",
       "20200916    1403\n",
       "20200917    1171\n",
       "20200918    1327\n",
       "20200919     636\n",
       "20200920     842\n",
       "20200921    1595\n",
       "20200922    1179\n",
       "20200923     724\n",
       "20200924    1572\n",
       "20200925    1218\n",
       "20200926     259\n",
       "20200927     385\n",
       "20200928    1466\n",
       "20200929    1243\n",
       "20200930    1233\n",
       "Name: date, dtype: int64"
      ]
     },
     "execution_count": 69,
     "metadata": {
      "tags": []
     },
     "output_type": "execute_result"
    }
   ],
   "source": [
    "val_corpus.date.value_counts().sort_index()  ## 成功提取"
   ]
  },
  {
   "cell_type": "code",
   "execution_count": null,
   "metadata": {
    "id": "D5CaWZk_Bsdd"
   },
   "outputs": [],
   "source": [
    "train_corpus.to_csv('../data/corpus/train_corpus.csv',encoding='utf-8',index=False) ### 6-7"
   ]
  },
  {
   "cell_type": "code",
   "execution_count": null,
   "metadata": {
    "id": "woWSzFOFBsdd"
   },
   "outputs": [],
   "source": [
    "val_corpus.to_csv('../data/corpus/val_corpus.csv',encoding='utf-8',index=False)  ### 8-9"
   ]
  },
  {
   "cell_type": "markdown",
   "metadata": {
    "id": "tktr3VXUBsde"
   },
   "source": [
    "# SNOWNLP模型训练"
   ]
  },
  {
   "cell_type": "code",
   "execution_count": null,
   "metadata": {
    "id": "EG-3SzRnBsde"
   },
   "outputs": [],
   "source": [
    "data_T = pd.read_csv('../data/corpus/train_corpus.csv')"
   ]
  },
  {
   "cell_type": "code",
   "execution_count": null,
   "metadata": {
    "colab": {
     "base_uri": "https://localhost:8080/"
    },
    "executionInfo": {
     "elapsed": 1401,
     "status": "ok",
     "timestamp": 1608947791714,
     "user": {
      "displayName": "Xingming Zeng",
      "photoUrl": "https://lh3.googleusercontent.com/a-/AOh14Gg1zAEwRE9l60AQWAypJxdyFdkCJKuTmpgRLAOe=s64",
      "userId": "17085929984053572921"
     },
     "user_tz": -480
    },
    "id": "yd5Pxu3pBsde",
    "outputId": "24ddf82d-26ad-4454-b006-1a97c1f719e5"
   },
   "outputs": [
    {
     "data": {
      "text/plain": [
       "(105754, 2)"
      ]
     },
     "execution_count": 8,
     "metadata": {
      "tags": []
     },
     "output_type": "execute_result"
    }
   ],
   "source": [
    "data_T.shape"
   ]
  },
  {
   "cell_type": "code",
   "execution_count": null,
   "metadata": {
    "id": "PlTBCDvhBsdf"
   },
   "outputs": [],
   "source": [
    "sentiment.train(\n",
    "    '../data/corpus/SNOWNLP/neg.txt',  ### 用train、val数据集分类成两类，作为语料库\n",
    "    '../data/corpus/SNOWNLP/pos.txt'\n",
    ")\n",
    "sentiment.save('./sentiment.marshal.2')"
   ]
  },
  {
   "cell_type": "code",
   "execution_count": null,
   "metadata": {
    "colab": {
     "base_uri": "https://localhost:8080/",
     "height": 395
    },
    "executionInfo": {
     "elapsed": 239906,
     "status": "error",
     "timestamp": 1608948030231,
     "user": {
      "displayName": "Xingming Zeng",
      "photoUrl": "https://lh3.googleusercontent.com/a-/AOh14Gg1zAEwRE9l60AQWAypJxdyFdkCJKuTmpgRLAOe=s64",
      "userId": "17085929984053572921"
     },
     "user_tz": -480
    },
    "id": "m9a6J4dGBsdf",
    "outputId": "af9c9808-b690-4e85-8673-3ba22541a92b"
   },
   "outputs": [
    {
     "ename": "KeyboardInterrupt",
     "evalue": "ignored",
     "output_type": "error",
     "traceback": [
      "\u001b[0;31m---------------------------------------------------------------------------\u001b[0m",
      "\u001b[0;31mKeyboardInterrupt\u001b[0m                         Traceback (most recent call last)",
      "\u001b[0;32m<ipython-input-10-44f20ca654f1>\u001b[0m in \u001b[0;36m<module>\u001b[0;34m()\u001b[0m\n\u001b[1;32m      1\u001b[0m \u001b[0mpredict\u001b[0m \u001b[0;34m=\u001b[0m \u001b[0;34m[\u001b[0m\u001b[0;34m]\u001b[0m\u001b[0;34m\u001b[0m\u001b[0;34m\u001b[0m\u001b[0m\n\u001b[1;32m      2\u001b[0m \u001b[0;32mfor\u001b[0m \u001b[0mreview\u001b[0m \u001b[0;32min\u001b[0m \u001b[0mdata_T\u001b[0m\u001b[0;34m.\u001b[0m\u001b[0mtext\u001b[0m\u001b[0;34m:\u001b[0m\u001b[0;34m\u001b[0m\u001b[0;34m\u001b[0m\u001b[0m\n\u001b[0;32m----> 3\u001b[0;31m     \u001b[0mpos\u001b[0m \u001b[0;34m=\u001b[0m \u001b[0mSnowNLP\u001b[0m\u001b[0;34m(\u001b[0m\u001b[0mreview\u001b[0m\u001b[0;34m)\u001b[0m\u001b[0;34m.\u001b[0m\u001b[0msentiments\u001b[0m\u001b[0;34m\u001b[0m\u001b[0;34m\u001b[0m\u001b[0m\n\u001b[0m\u001b[1;32m      4\u001b[0m     \u001b[0mthres\u001b[0m \u001b[0;34m=\u001b[0m \u001b[0;36m0.49\u001b[0m\u001b[0;34m\u001b[0m\u001b[0;34m\u001b[0m\u001b[0m\n\u001b[1;32m      5\u001b[0m     \u001b[0;32mif\u001b[0m \u001b[0mpos\u001b[0m \u001b[0;34m>\u001b[0m \u001b[0;36m0.5\u001b[0m\u001b[0;34m+\u001b[0m\u001b[0mthres\u001b[0m\u001b[0;34m:\u001b[0m\u001b[0;34m\u001b[0m\u001b[0;34m\u001b[0m\u001b[0m\n",
      "\u001b[0;32m/usr/local/lib/python3.6/dist-packages/snownlp/__init__.py\u001b[0m in \u001b[0;36msentiments\u001b[0;34m(self)\u001b[0m\n\u001b[1;32m     35\u001b[0m     \u001b[0;34m@\u001b[0m\u001b[0mproperty\u001b[0m\u001b[0;34m\u001b[0m\u001b[0;34m\u001b[0m\u001b[0m\n\u001b[1;32m     36\u001b[0m     \u001b[0;32mdef\u001b[0m \u001b[0msentiments\u001b[0m\u001b[0;34m(\u001b[0m\u001b[0mself\u001b[0m\u001b[0;34m)\u001b[0m\u001b[0;34m:\u001b[0m\u001b[0;34m\u001b[0m\u001b[0;34m\u001b[0m\u001b[0m\n\u001b[0;32m---> 37\u001b[0;31m         \u001b[0;32mreturn\u001b[0m \u001b[0msentiment\u001b[0m\u001b[0;34m.\u001b[0m\u001b[0mclassify\u001b[0m\u001b[0;34m(\u001b[0m\u001b[0mself\u001b[0m\u001b[0;34m.\u001b[0m\u001b[0mdoc\u001b[0m\u001b[0;34m)\u001b[0m\u001b[0;34m\u001b[0m\u001b[0;34m\u001b[0m\u001b[0m\n\u001b[0m\u001b[1;32m     38\u001b[0m \u001b[0;34m\u001b[0m\u001b[0m\n\u001b[1;32m     39\u001b[0m     \u001b[0;34m@\u001b[0m\u001b[0mproperty\u001b[0m\u001b[0;34m\u001b[0m\u001b[0;34m\u001b[0m\u001b[0m\n",
      "\u001b[0;32m/usr/local/lib/python3.6/dist-packages/snownlp/sentiment/__init__.py\u001b[0m in \u001b[0;36mclassify\u001b[0;34m(sent)\u001b[0m\n\u001b[1;32m     65\u001b[0m \u001b[0;34m\u001b[0m\u001b[0m\n\u001b[1;32m     66\u001b[0m \u001b[0;32mdef\u001b[0m \u001b[0mclassify\u001b[0m\u001b[0;34m(\u001b[0m\u001b[0msent\u001b[0m\u001b[0;34m)\u001b[0m\u001b[0;34m:\u001b[0m\u001b[0;34m\u001b[0m\u001b[0;34m\u001b[0m\u001b[0m\n\u001b[0;32m---> 67\u001b[0;31m     \u001b[0;32mreturn\u001b[0m \u001b[0mclassifier\u001b[0m\u001b[0;34m.\u001b[0m\u001b[0mclassify\u001b[0m\u001b[0;34m(\u001b[0m\u001b[0msent\u001b[0m\u001b[0;34m)\u001b[0m\u001b[0;34m\u001b[0m\u001b[0;34m\u001b[0m\u001b[0m\n\u001b[0m",
      "\u001b[0;32m/usr/local/lib/python3.6/dist-packages/snownlp/sentiment/__init__.py\u001b[0m in \u001b[0;36mclassify\u001b[0;34m(self, sent)\u001b[0m\n\u001b[1;32m     38\u001b[0m \u001b[0;34m\u001b[0m\u001b[0m\n\u001b[1;32m     39\u001b[0m     \u001b[0;32mdef\u001b[0m \u001b[0mclassify\u001b[0m\u001b[0;34m(\u001b[0m\u001b[0mself\u001b[0m\u001b[0;34m,\u001b[0m \u001b[0msent\u001b[0m\u001b[0;34m)\u001b[0m\u001b[0;34m:\u001b[0m\u001b[0;34m\u001b[0m\u001b[0;34m\u001b[0m\u001b[0m\n\u001b[0;32m---> 40\u001b[0;31m         \u001b[0mret\u001b[0m\u001b[0;34m,\u001b[0m \u001b[0mprob\u001b[0m \u001b[0;34m=\u001b[0m \u001b[0mself\u001b[0m\u001b[0;34m.\u001b[0m\u001b[0mclassifier\u001b[0m\u001b[0;34m.\u001b[0m\u001b[0mclassify\u001b[0m\u001b[0;34m(\u001b[0m\u001b[0mself\u001b[0m\u001b[0;34m.\u001b[0m\u001b[0mhandle\u001b[0m\u001b[0;34m(\u001b[0m\u001b[0msent\u001b[0m\u001b[0;34m)\u001b[0m\u001b[0;34m)\u001b[0m\u001b[0;34m\u001b[0m\u001b[0;34m\u001b[0m\u001b[0m\n\u001b[0m\u001b[1;32m     41\u001b[0m         \u001b[0;32mif\u001b[0m \u001b[0mret\u001b[0m \u001b[0;34m==\u001b[0m \u001b[0;34m'pos'\u001b[0m\u001b[0;34m:\u001b[0m\u001b[0;34m\u001b[0m\u001b[0;34m\u001b[0m\u001b[0m\n\u001b[1;32m     42\u001b[0m             \u001b[0;32mreturn\u001b[0m \u001b[0mprob\u001b[0m\u001b[0;34m\u001b[0m\u001b[0;34m\u001b[0m\u001b[0m\n",
      "\u001b[0;32m/usr/local/lib/python3.6/dist-packages/snownlp/sentiment/__init__.py\u001b[0m in \u001b[0;36mhandle\u001b[0;34m(self, doc)\u001b[0m\n\u001b[1;32m     25\u001b[0m \u001b[0;34m\u001b[0m\u001b[0m\n\u001b[1;32m     26\u001b[0m     \u001b[0;32mdef\u001b[0m \u001b[0mhandle\u001b[0m\u001b[0;34m(\u001b[0m\u001b[0mself\u001b[0m\u001b[0;34m,\u001b[0m \u001b[0mdoc\u001b[0m\u001b[0;34m)\u001b[0m\u001b[0;34m:\u001b[0m\u001b[0;34m\u001b[0m\u001b[0;34m\u001b[0m\u001b[0m\n\u001b[0;32m---> 27\u001b[0;31m         \u001b[0mwords\u001b[0m \u001b[0;34m=\u001b[0m \u001b[0mseg\u001b[0m\u001b[0;34m.\u001b[0m\u001b[0mseg\u001b[0m\u001b[0;34m(\u001b[0m\u001b[0mdoc\u001b[0m\u001b[0;34m)\u001b[0m\u001b[0;34m\u001b[0m\u001b[0;34m\u001b[0m\u001b[0m\n\u001b[0m\u001b[1;32m     28\u001b[0m         \u001b[0mwords\u001b[0m \u001b[0;34m=\u001b[0m \u001b[0mnormal\u001b[0m\u001b[0;34m.\u001b[0m\u001b[0mfilter_stop\u001b[0m\u001b[0;34m(\u001b[0m\u001b[0mwords\u001b[0m\u001b[0;34m)\u001b[0m\u001b[0;34m\u001b[0m\u001b[0;34m\u001b[0m\u001b[0m\n\u001b[1;32m     29\u001b[0m         \u001b[0;32mreturn\u001b[0m \u001b[0mwords\u001b[0m\u001b[0;34m\u001b[0m\u001b[0;34m\u001b[0m\u001b[0m\n",
      "\u001b[0;32m/usr/local/lib/python3.6/dist-packages/snownlp/seg/__init__.py\u001b[0m in \u001b[0;36mseg\u001b[0;34m(sent)\u001b[0m\n\u001b[1;32m     21\u001b[0m             \u001b[0;32mcontinue\u001b[0m\u001b[0;34m\u001b[0m\u001b[0;34m\u001b[0m\u001b[0m\n\u001b[1;32m     22\u001b[0m         \u001b[0;32mif\u001b[0m \u001b[0mre_zh\u001b[0m\u001b[0;34m.\u001b[0m\u001b[0mmatch\u001b[0m\u001b[0;34m(\u001b[0m\u001b[0ms\u001b[0m\u001b[0;34m)\u001b[0m\u001b[0;34m:\u001b[0m\u001b[0;34m\u001b[0m\u001b[0;34m\u001b[0m\u001b[0m\n\u001b[0;32m---> 23\u001b[0;31m             \u001b[0mwords\u001b[0m \u001b[0;34m+=\u001b[0m \u001b[0msingle_seg\u001b[0m\u001b[0;34m(\u001b[0m\u001b[0ms\u001b[0m\u001b[0;34m)\u001b[0m\u001b[0;34m\u001b[0m\u001b[0;34m\u001b[0m\u001b[0m\n\u001b[0m\u001b[1;32m     24\u001b[0m         \u001b[0;32melse\u001b[0m\u001b[0;34m:\u001b[0m\u001b[0;34m\u001b[0m\u001b[0;34m\u001b[0m\u001b[0m\n\u001b[1;32m     25\u001b[0m             \u001b[0;32mfor\u001b[0m \u001b[0mword\u001b[0m \u001b[0;32min\u001b[0m \u001b[0ms\u001b[0m\u001b[0;34m.\u001b[0m\u001b[0msplit\u001b[0m\u001b[0;34m(\u001b[0m\u001b[0;34m)\u001b[0m\u001b[0;34m:\u001b[0m\u001b[0;34m\u001b[0m\u001b[0;34m\u001b[0m\u001b[0m\n",
      "\u001b[0;32m/usr/local/lib/python3.6/dist-packages/snownlp/seg/__init__.py\u001b[0m in \u001b[0;36msingle_seg\u001b[0;34m(sent)\u001b[0m\n\u001b[1;32m     45\u001b[0m \u001b[0;34m\u001b[0m\u001b[0m\n\u001b[1;32m     46\u001b[0m \u001b[0;32mdef\u001b[0m \u001b[0msingle_seg\u001b[0m\u001b[0;34m(\u001b[0m\u001b[0msent\u001b[0m\u001b[0;34m)\u001b[0m\u001b[0;34m:\u001b[0m\u001b[0;34m\u001b[0m\u001b[0;34m\u001b[0m\u001b[0m\n\u001b[0;32m---> 47\u001b[0;31m     \u001b[0;32mreturn\u001b[0m \u001b[0mlist\u001b[0m\u001b[0;34m(\u001b[0m\u001b[0msegger\u001b[0m\u001b[0;34m.\u001b[0m\u001b[0mseg\u001b[0m\u001b[0;34m(\u001b[0m\u001b[0msent\u001b[0m\u001b[0;34m)\u001b[0m\u001b[0;34m)\u001b[0m\u001b[0;34m\u001b[0m\u001b[0;34m\u001b[0m\u001b[0m\n\u001b[0m",
      "\u001b[0;32m/usr/local/lib/python3.6/dist-packages/snownlp/seg/seg.py\u001b[0m in \u001b[0;36mseg\u001b[0;34m(self, sentence)\u001b[0m\n\u001b[1;32m     36\u001b[0m \u001b[0;34m\u001b[0m\u001b[0m\n\u001b[1;32m     37\u001b[0m     \u001b[0;32mdef\u001b[0m \u001b[0mseg\u001b[0m\u001b[0;34m(\u001b[0m\u001b[0mself\u001b[0m\u001b[0;34m,\u001b[0m \u001b[0msentence\u001b[0m\u001b[0;34m)\u001b[0m\u001b[0;34m:\u001b[0m\u001b[0;34m\u001b[0m\u001b[0;34m\u001b[0m\u001b[0m\n\u001b[0;32m---> 38\u001b[0;31m         \u001b[0mret\u001b[0m \u001b[0;34m=\u001b[0m \u001b[0mself\u001b[0m\u001b[0;34m.\u001b[0m\u001b[0msegger\u001b[0m\u001b[0;34m.\u001b[0m\u001b[0mtag\u001b[0m\u001b[0;34m(\u001b[0m\u001b[0msentence\u001b[0m\u001b[0;34m)\u001b[0m\u001b[0;34m\u001b[0m\u001b[0;34m\u001b[0m\u001b[0m\n\u001b[0m\u001b[1;32m     39\u001b[0m         \u001b[0mtmp\u001b[0m \u001b[0;34m=\u001b[0m \u001b[0;34m''\u001b[0m\u001b[0;34m\u001b[0m\u001b[0;34m\u001b[0m\u001b[0m\n\u001b[1;32m     40\u001b[0m         \u001b[0;32mfor\u001b[0m \u001b[0mi\u001b[0m \u001b[0;32min\u001b[0m \u001b[0mret\u001b[0m\u001b[0;34m:\u001b[0m\u001b[0;34m\u001b[0m\u001b[0;34m\u001b[0m\u001b[0m\n",
      "\u001b[0;32m/usr/local/lib/python3.6/dist-packages/snownlp/seg/y09_2047.py\u001b[0m in \u001b[0;36mtag\u001b[0;34m(self, data)\u001b[0m\n\u001b[1;32m    117\u001b[0m             \u001b[0;32mfor\u001b[0m \u001b[0ms\u001b[0m \u001b[0;32min\u001b[0m \u001b[0mself\u001b[0m\u001b[0;34m.\u001b[0m\u001b[0mstatus\u001b[0m\u001b[0;34m:\u001b[0m\u001b[0;34m\u001b[0m\u001b[0;34m\u001b[0m\u001b[0m\n\u001b[1;32m    118\u001b[0m                 \u001b[0;32mfor\u001b[0m \u001b[0mpre\u001b[0m \u001b[0;32min\u001b[0m \u001b[0mnow\u001b[0m\u001b[0;34m:\u001b[0m\u001b[0;34m\u001b[0m\u001b[0;34m\u001b[0m\u001b[0m\n\u001b[0;32m--> 119\u001b[0;31m                     \u001b[0mp\u001b[0m \u001b[0;34m=\u001b[0m \u001b[0mpre\u001b[0m\u001b[0;34m[\u001b[0m\u001b[0;36m1\u001b[0m\u001b[0;34m]\u001b[0m\u001b[0;34m+\u001b[0m\u001b[0mself\u001b[0m\u001b[0;34m.\u001b[0m\u001b[0mlog_prob\u001b[0m\u001b[0;34m(\u001b[0m\u001b[0mpre\u001b[0m\u001b[0;34m[\u001b[0m\u001b[0;36m0\u001b[0m\u001b[0;34m]\u001b[0m\u001b[0;34m[\u001b[0m\u001b[0;36m0\u001b[0m\u001b[0;34m]\u001b[0m\u001b[0;34m,\u001b[0m \u001b[0mpre\u001b[0m\u001b[0;34m[\u001b[0m\u001b[0;36m0\u001b[0m\u001b[0;34m]\u001b[0m\u001b[0;34m[\u001b[0m\u001b[0;36m1\u001b[0m\u001b[0;34m]\u001b[0m\u001b[0;34m,\u001b[0m \u001b[0;34m(\u001b[0m\u001b[0mw\u001b[0m\u001b[0;34m,\u001b[0m \u001b[0ms\u001b[0m\u001b[0;34m)\u001b[0m\u001b[0;34m)\u001b[0m\u001b[0;34m\u001b[0m\u001b[0;34m\u001b[0m\u001b[0m\n\u001b[0m\u001b[1;32m    120\u001b[0m                     if (not (pre[0][1],\n\u001b[1;32m    121\u001b[0m                              \u001b[0;34m(\u001b[0m\u001b[0mw\u001b[0m\u001b[0;34m,\u001b[0m \u001b[0ms\u001b[0m\u001b[0;34m)\u001b[0m\u001b[0;34m)\u001b[0m \u001b[0;32min\u001b[0m \u001b[0mstage\u001b[0m\u001b[0;34m)\u001b[0m \u001b[0;32mor\u001b[0m \u001b[0mp\u001b[0m \u001b[0;34m>\u001b[0m \u001b[0mstage\u001b[0m\u001b[0;34m[\u001b[0m\u001b[0;34m(\u001b[0m\u001b[0mpre\u001b[0m\u001b[0;34m[\u001b[0m\u001b[0;36m0\u001b[0m\u001b[0;34m]\u001b[0m\u001b[0;34m[\u001b[0m\u001b[0;36m1\u001b[0m\u001b[0;34m]\u001b[0m\u001b[0;34m,\u001b[0m\u001b[0;34m\u001b[0m\u001b[0;34m\u001b[0m\u001b[0m\n",
      "\u001b[0;32m/usr/local/lib/python3.6/dist-packages/snownlp/seg/y09_2047.py\u001b[0m in \u001b[0;36mlog_prob\u001b[0;34m(self, s1, s2, s3)\u001b[0m\n\u001b[1;32m     95\u001b[0m         tri = self.div(self.l3*self.tri.get((s1, s2, s3))[1],\n\u001b[1;32m     96\u001b[0m                        self.bi.get((s1, s2))[1])\n\u001b[0;32m---> 97\u001b[0;31m         \u001b[0;32mif\u001b[0m \u001b[0muni\u001b[0m\u001b[0;34m+\u001b[0m\u001b[0mbi\u001b[0m\u001b[0;34m+\u001b[0m\u001b[0mtri\u001b[0m \u001b[0;34m==\u001b[0m \u001b[0;36m0\u001b[0m\u001b[0;34m:\u001b[0m\u001b[0;34m\u001b[0m\u001b[0;34m\u001b[0m\u001b[0m\n\u001b[0m\u001b[1;32m     98\u001b[0m             \u001b[0;32mreturn\u001b[0m \u001b[0mfloat\u001b[0m\u001b[0;34m(\u001b[0m\u001b[0;34m'-inf'\u001b[0m\u001b[0;34m)\u001b[0m\u001b[0;34m\u001b[0m\u001b[0;34m\u001b[0m\u001b[0m\n\u001b[1;32m     99\u001b[0m         \u001b[0;32mreturn\u001b[0m \u001b[0mlog\u001b[0m\u001b[0;34m(\u001b[0m\u001b[0muni\u001b[0m\u001b[0;34m+\u001b[0m\u001b[0mbi\u001b[0m\u001b[0;34m+\u001b[0m\u001b[0mtri\u001b[0m\u001b[0;34m)\u001b[0m\u001b[0;34m\u001b[0m\u001b[0;34m\u001b[0m\u001b[0m\n",
      "\u001b[0;31mKeyboardInterrupt\u001b[0m: "
     ]
    }
   ],
   "source": [
    "predict = []\n",
    "for review in data_T.text:\n",
    "    pos = SnowNLP(review).sentiments\n",
    "    thres = 0.49\n",
    "    if pos > 0.5+thres:\n",
    "        predict.append(2)\n",
    "    elif pos < 0.5-thres:\n",
    "        predict.append(0)\n",
    "    else:\n",
    "        predict.append(1)\n",
    "        \n",
    "pre = pd.Series(predict) "
   ]
  },
  {
   "cell_type": "code",
   "execution_count": null,
   "metadata": {
    "id": "JRowh1HyBsdf"
   },
   "outputs": [],
   "source": [
    "pre.shape"
   ]
  },
  {
   "cell_type": "code",
   "execution_count": null,
   "metadata": {
    "id": "sRyFek2DBsdf"
   },
   "outputs": [],
   "source": [
    "data_T['target'] = pre\n",
    "data_T.shape"
   ]
  },
  {
   "cell_type": "code",
   "execution_count": null,
   "metadata": {
    "id": "YFYW_i5ZBsdg"
   },
   "outputs": [],
   "source": [
    "data_T ### 得到最保守的正确标签的样本数据集  0.01 0.99"
   ]
  },
  {
   "cell_type": "code",
   "execution_count": null,
   "metadata": {
    "id": "tlG-gc3pBsdg"
   },
   "outputs": [],
   "source": [
    "label_map_reverse ={0:'negative',1:'neutral',2:'positive',}\n",
    "data_T['target'] = [label_map_reverse[x] for x in data_T.target]"
   ]
  },
  {
   "cell_type": "code",
   "execution_count": null,
   "metadata": {
    "collapsed": true,
    "id": "1azneNJ-Bsdh"
   },
   "outputs": [],
   "source": [
    "data_T"
   ]
  },
  {
   "cell_type": "code",
   "execution_count": null,
   "metadata": {
    "id": "1SqQcqPUBsdh"
   },
   "outputs": [],
   "source": [
    "data_T.to_csv('../data/corpus/train.csv',encoding='utf-8',index=False)"
   ]
  },
  {
   "cell_type": "markdown",
   "metadata": {
    "id": "r2a5IJ8eBsdh"
   },
   "source": [
    "# FINBERT模型训练"
   ]
  },
  {
   "cell_type": "code",
   "execution_count": null,
   "metadata": {
    "id": "cNLxoND5Bsdi"
   },
   "outputs": [],
   "source": [
    "data_T = pd.read_csv('../data/corpus/train.csv')"
   ]
  },
  {
   "cell_type": "code",
   "execution_count": null,
   "metadata": {
    "id": "dkKMWk15Bsdi"
   },
   "outputs": [],
   "source": [
    "X,y = data_T['text'],data_T['target']"
   ]
  },
  {
   "cell_type": "code",
   "execution_count": null,
   "metadata": {
    "colab": {
     "base_uri": "https://localhost:8080/"
    },
    "collapsed": true,
    "executionInfo": {
     "elapsed": 4883,
     "status": "ok",
     "timestamp": 1608977252520,
     "user": {
      "displayName": "Xingming Zeng",
      "photoUrl": "https://lh3.googleusercontent.com/a-/AOh14Gg1zAEwRE9l60AQWAypJxdyFdkCJKuTmpgRLAOe=s64",
      "userId": "17085929984053572921"
     },
     "user_tz": -480
    },
    "id": "P0dUAENPBsdi",
    "outputId": "bd8aea6d-d3d3-47ba-ad77-9ba554584a20"
   },
   "outputs": [
    {
     "name": "stderr",
     "output_type": "stream",
     "text": [
      "Some weights of the model checkpoint at /content/drive/My Drive/Colab Notebooks/Finbert/2.0/notebook/../models/language_model/ were not used when initializing BertForSequenceClassification: ['state_dict']\n",
      "- This IS expected if you are initializing BertForSequenceClassification from the checkpoint of a model trained on another task or with another architecture (e.g. initializing a BertForSequenceClassification model from a BertForPreTraining model).\n",
      "- This IS NOT expected if you are initializing BertForSequenceClassification from the checkpoint of a model that you expect to be exactly identical (initializing a BertForSequenceClassification model from a BertForSequenceClassification model).\n",
      "Some weights of BertForSequenceClassification were not initialized from the model checkpoint at /content/drive/My Drive/Colab Notebooks/Finbert/2.0/notebook/../models/language_model/ and are newly initialized: ['embeddings.word_embeddings.weight', 'embeddings.position_embeddings.weight', 'embeddings.token_type_embeddings.weight', 'embeddings.LayerNorm.weight', 'embeddings.LayerNorm.bias', 'encoder.layer.0.attention.self.query.weight', 'encoder.layer.0.attention.self.query.bias', 'encoder.layer.0.attention.self.key.weight', 'encoder.layer.0.attention.self.key.bias', 'encoder.layer.0.attention.self.value.weight', 'encoder.layer.0.attention.self.value.bias', 'encoder.layer.0.attention.output.dense.weight', 'encoder.layer.0.attention.output.dense.bias', 'encoder.layer.0.attention.output.LayerNorm.weight', 'encoder.layer.0.attention.output.LayerNorm.bias', 'encoder.layer.0.intermediate.dense.weight', 'encoder.layer.0.intermediate.dense.bias', 'encoder.layer.0.output.dense.weight', 'encoder.layer.0.output.dense.bias', 'encoder.layer.0.output.LayerNorm.weight', 'encoder.layer.0.output.LayerNorm.bias', 'encoder.layer.1.attention.self.query.weight', 'encoder.layer.1.attention.self.query.bias', 'encoder.layer.1.attention.self.key.weight', 'encoder.layer.1.attention.self.key.bias', 'encoder.layer.1.attention.self.value.weight', 'encoder.layer.1.attention.self.value.bias', 'encoder.layer.1.attention.output.dense.weight', 'encoder.layer.1.attention.output.dense.bias', 'encoder.layer.1.attention.output.LayerNorm.weight', 'encoder.layer.1.attention.output.LayerNorm.bias', 'encoder.layer.1.intermediate.dense.weight', 'encoder.layer.1.intermediate.dense.bias', 'encoder.layer.1.output.dense.weight', 'encoder.layer.1.output.dense.bias', 'encoder.layer.1.output.LayerNorm.weight', 'encoder.layer.1.output.LayerNorm.bias', 'encoder.layer.2.attention.self.query.weight', 'encoder.layer.2.attention.self.query.bias', 'encoder.layer.2.attention.self.key.weight', 'encoder.layer.2.attention.self.key.bias', 'encoder.layer.2.attention.self.value.weight', 'encoder.layer.2.attention.self.value.bias', 'encoder.layer.2.attention.output.dense.weight', 'encoder.layer.2.attention.output.dense.bias', 'encoder.layer.2.attention.output.LayerNorm.weight', 'encoder.layer.2.attention.output.LayerNorm.bias', 'encoder.layer.2.intermediate.dense.weight', 'encoder.layer.2.intermediate.dense.bias', 'encoder.layer.2.output.dense.weight', 'encoder.layer.2.output.dense.bias', 'encoder.layer.2.output.LayerNorm.weight', 'encoder.layer.2.output.LayerNorm.bias', 'encoder.layer.3.attention.self.query.weight', 'encoder.layer.3.attention.self.query.bias', 'encoder.layer.3.attention.self.key.weight', 'encoder.layer.3.attention.self.key.bias', 'encoder.layer.3.attention.self.value.weight', 'encoder.layer.3.attention.self.value.bias', 'encoder.layer.3.attention.output.dense.weight', 'encoder.layer.3.attention.output.dense.bias', 'encoder.layer.3.attention.output.LayerNorm.weight', 'encoder.layer.3.attention.output.LayerNorm.bias', 'encoder.layer.3.intermediate.dense.weight', 'encoder.layer.3.intermediate.dense.bias', 'encoder.layer.3.output.dense.weight', 'encoder.layer.3.output.dense.bias', 'encoder.layer.3.output.LayerNorm.weight', 'encoder.layer.3.output.LayerNorm.bias', 'encoder.layer.4.attention.self.query.weight', 'encoder.layer.4.attention.self.query.bias', 'encoder.layer.4.attention.self.key.weight', 'encoder.layer.4.attention.self.key.bias', 'encoder.layer.4.attention.self.value.weight', 'encoder.layer.4.attention.self.value.bias', 'encoder.layer.4.attention.output.dense.weight', 'encoder.layer.4.attention.output.dense.bias', 'encoder.layer.4.attention.output.LayerNorm.weight', 'encoder.layer.4.attention.output.LayerNorm.bias', 'encoder.layer.4.intermediate.dense.weight', 'encoder.layer.4.intermediate.dense.bias', 'encoder.layer.4.output.dense.weight', 'encoder.layer.4.output.dense.bias', 'encoder.layer.4.output.LayerNorm.weight', 'encoder.layer.4.output.LayerNorm.bias', 'encoder.layer.5.attention.self.query.weight', 'encoder.layer.5.attention.self.query.bias', 'encoder.layer.5.attention.self.key.weight', 'encoder.layer.5.attention.self.key.bias', 'encoder.layer.5.attention.self.value.weight', 'encoder.layer.5.attention.self.value.bias', 'encoder.layer.5.attention.output.dense.weight', 'encoder.layer.5.attention.output.dense.bias', 'encoder.layer.5.attention.output.LayerNorm.weight', 'encoder.layer.5.attention.output.LayerNorm.bias', 'encoder.layer.5.intermediate.dense.weight', 'encoder.layer.5.intermediate.dense.bias', 'encoder.layer.5.output.dense.weight', 'encoder.layer.5.output.dense.bias', 'encoder.layer.5.output.LayerNorm.weight', 'encoder.layer.5.output.LayerNorm.bias', 'encoder.layer.6.attention.self.query.weight', 'encoder.layer.6.attention.self.query.bias', 'encoder.layer.6.attention.self.key.weight', 'encoder.layer.6.attention.self.key.bias', 'encoder.layer.6.attention.self.value.weight', 'encoder.layer.6.attention.self.value.bias', 'encoder.layer.6.attention.output.dense.weight', 'encoder.layer.6.attention.output.dense.bias', 'encoder.layer.6.attention.output.LayerNorm.weight', 'encoder.layer.6.attention.output.LayerNorm.bias', 'encoder.layer.6.intermediate.dense.weight', 'encoder.layer.6.intermediate.dense.bias', 'encoder.layer.6.output.dense.weight', 'encoder.layer.6.output.dense.bias', 'encoder.layer.6.output.LayerNorm.weight', 'encoder.layer.6.output.LayerNorm.bias', 'encoder.layer.7.attention.self.query.weight', 'encoder.layer.7.attention.self.query.bias', 'encoder.layer.7.attention.self.key.weight', 'encoder.layer.7.attention.self.key.bias', 'encoder.layer.7.attention.self.value.weight', 'encoder.layer.7.attention.self.value.bias', 'encoder.layer.7.attention.output.dense.weight', 'encoder.layer.7.attention.output.dense.bias', 'encoder.layer.7.attention.output.LayerNorm.weight', 'encoder.layer.7.attention.output.LayerNorm.bias', 'encoder.layer.7.intermediate.dense.weight', 'encoder.layer.7.intermediate.dense.bias', 'encoder.layer.7.output.dense.weight', 'encoder.layer.7.output.dense.bias', 'encoder.layer.7.output.LayerNorm.weight', 'encoder.layer.7.output.LayerNorm.bias', 'encoder.layer.8.attention.self.query.weight', 'encoder.layer.8.attention.self.query.bias', 'encoder.layer.8.attention.self.key.weight', 'encoder.layer.8.attention.self.key.bias', 'encoder.layer.8.attention.self.value.weight', 'encoder.layer.8.attention.self.value.bias', 'encoder.layer.8.attention.output.dense.weight', 'encoder.layer.8.attention.output.dense.bias', 'encoder.layer.8.attention.output.LayerNorm.weight', 'encoder.layer.8.attention.output.LayerNorm.bias', 'encoder.layer.8.intermediate.dense.weight', 'encoder.layer.8.intermediate.dense.bias', 'encoder.layer.8.output.dense.weight', 'encoder.layer.8.output.dense.bias', 'encoder.layer.8.output.LayerNorm.weight', 'encoder.layer.8.output.LayerNorm.bias', 'encoder.layer.9.attention.self.query.weight', 'encoder.layer.9.attention.self.query.bias', 'encoder.layer.9.attention.self.key.weight', 'encoder.layer.9.attention.self.key.bias', 'encoder.layer.9.attention.self.value.weight', 'encoder.layer.9.attention.self.value.bias', 'encoder.layer.9.attention.output.dense.weight', 'encoder.layer.9.attention.output.dense.bias', 'encoder.layer.9.attention.output.LayerNorm.weight', 'encoder.layer.9.attention.output.LayerNorm.bias', 'encoder.layer.9.intermediate.dense.weight', 'encoder.layer.9.intermediate.dense.bias', 'encoder.layer.9.output.dense.weight', 'encoder.layer.9.output.dense.bias', 'encoder.layer.9.output.LayerNorm.weight', 'encoder.layer.9.output.LayerNorm.bias', 'encoder.layer.10.attention.self.query.weight', 'encoder.layer.10.attention.self.query.bias', 'encoder.layer.10.attention.self.key.weight', 'encoder.layer.10.attention.self.key.bias', 'encoder.layer.10.attention.self.value.weight', 'encoder.layer.10.attention.self.value.bias', 'encoder.layer.10.attention.output.dense.weight', 'encoder.layer.10.attention.output.dense.bias', 'encoder.layer.10.attention.output.LayerNorm.weight', 'encoder.layer.10.attention.output.LayerNorm.bias', 'encoder.layer.10.intermediate.dense.weight', 'encoder.layer.10.intermediate.dense.bias', 'encoder.layer.10.output.dense.weight', 'encoder.layer.10.output.dense.bias', 'encoder.layer.10.output.LayerNorm.weight', 'encoder.layer.10.output.LayerNorm.bias', 'encoder.layer.11.attention.self.query.weight', 'encoder.layer.11.attention.self.query.bias', 'encoder.layer.11.attention.self.key.weight', 'encoder.layer.11.attention.self.key.bias', 'encoder.layer.11.attention.self.value.weight', 'encoder.layer.11.attention.self.value.bias', 'encoder.layer.11.attention.output.dense.weight', 'encoder.layer.11.attention.output.dense.bias', 'encoder.layer.11.attention.output.LayerNorm.weight', 'encoder.layer.11.attention.output.LayerNorm.bias', 'encoder.layer.11.intermediate.dense.weight', 'encoder.layer.11.intermediate.dense.bias', 'encoder.layer.11.output.dense.weight', 'encoder.layer.11.output.dense.bias', 'encoder.layer.11.output.LayerNorm.weight', 'encoder.layer.11.output.LayerNorm.bias', 'pooler.dense.weight', 'pooler.dense.bias', 'classifier.bias', 'classifier.weight']\n",
      "You should probably TRAIN this model on a down-stream task to be able to use it for predictions and inference.\n"
     ]
    }
   ],
   "source": [
    "fb = Finbert(label_map={'negative':0,'neutral':1,'positive':2},num_train_epochs=20)"
   ]
  },
  {
   "cell_type": "code",
   "execution_count": null,
   "metadata": {
    "collapsed": true,
    "id": "A4robER5Bsdi"
   },
   "outputs": [],
   "source": [
    "fb.fit(X,y,'balanced')"
   ]
  },
  {
   "cell_type": "code",
   "execution_count": null,
   "metadata": {
    "colab": {
     "base_uri": "https://localhost:8080/",
     "height": 195,
     "referenced_widgets": [
      "71c647bae2984bd3a757dd1c2a7b28a9",
      "70a1a30affd44a728f5e2a2c1180848a",
      "4d6238452cff4b7e8272111190f3f2bf",
      "e836c17c985b4192878f1ec80c00a575",
      "ccac799053b648a7a823cba2a660aa53",
      "1a52c621796548aea2b265099b4e3336",
      "5960c5e22fc54250954cd6fb1aae51d1",
      "fc67d2556ed245559406a9e6bb7a842f"
     ]
    },
    "executionInfo": {
     "elapsed": 197685,
     "status": "ok",
     "timestamp": 1608977456182,
     "user": {
      "displayName": "Xingming Zeng",
      "photoUrl": "https://lh3.googleusercontent.com/a-/AOh14Gg1zAEwRE9l60AQWAypJxdyFdkCJKuTmpgRLAOe=s64",
      "userId": "17085929984053572921"
     },
     "user_tz": -480
    },
    "id": "RCfo1ffkuLyo",
    "outputId": "e989822a-c273-4977-ae15-280b7f1a4722"
   },
   "outputs": [
    {
     "name": "stderr",
     "output_type": "stream",
     "text": [
      "Truncation was not explicitly activated but `max_length` is provided a specific value, please use `truncation=True` to explicitly truncate examples to max length. Defaulting to 'longest_first' truncation strategy. If you encode pairs of sequences (GLUE-style) with the tokenizer you can select this strategy more precisely by providing a specific strategy to `truncation`.\n",
      "/usr/local/lib/python3.6/dist-packages/transformers/tokenization_utils_base.py:2179: FutureWarning: The `pad_to_max_length` argument is deprecated and will be removed in a future version, use `padding=True` or `padding='longest'` to pad to the longest sequence in the batch, or use `padding='max_length'` to pad to a max length. In this case, you can give a specific length with `max_length` (e.g. `max_length=45`) or leave max_length to None to pad to the maximal input size of the model (e.g. 512 for Bert).\n",
      "  FutureWarning,\n"
     ]
    },
    {
     "data": {
      "application/vnd.jupyter.widget-view+json": {
       "model_id": "71c647bae2984bd3a757dd1c2a7b28a9",
       "version_major": 2,
       "version_minor": 0
      },
      "text/plain": [
       "HBox(children=(FloatProgress(value=0.0, description='Iteration', max=32.0, style=ProgressStyle(description_wid…"
      ]
     },
     "metadata": {
      "tags": []
     },
     "output_type": "display_data"
    },
    {
     "name": "stderr",
     "output_type": "stream",
     "text": [
      "../finbert/finbert.py:39: UserWarning: Implicit dimension choice for softmax has been deprecated. Change the call to include dim=X as an argument.\n",
      "  logits = F.softmax(res.logits)\n"
     ]
    },
    {
     "name": "stdout",
     "output_type": "stream",
     "text": [
      "\n"
     ]
    },
    {
     "data": {
      "text/plain": [
       "0.875"
      ]
     },
     "execution_count": 29,
     "metadata": {
      "tags": []
     },
     "output_type": "execute_result"
    }
   ],
   "source": [
    "fb.score(X,y)"
   ]
  },
  {
   "cell_type": "code",
   "execution_count": null,
   "metadata": {
    "id": "lhbnNmyiuLiu"
   },
   "outputs": [],
   "source": []
  },
  {
   "cell_type": "code",
   "execution_count": 117,
   "metadata": {
    "executionInfo": {
     "elapsed": 707,
     "status": "ok",
     "timestamp": 1608986814002,
     "user": {
      "displayName": "Xingming Zeng",
      "photoUrl": "https://lh3.googleusercontent.com/a-/AOh14Gg1zAEwRE9l60AQWAypJxdyFdkCJKuTmpgRLAOe=s64",
      "userId": "17085929984053572921"
     },
     "user_tz": -480
    },
    "id": "wxzQI4MIVlQn"
   },
   "outputs": [],
   "source": [
    "data = pd.read_csv('../data/corpus/val_corpus.csv')"
   ]
  },
  {
   "cell_type": "code",
   "execution_count": 118,
   "metadata": {
    "colab": {
     "base_uri": "https://localhost:8080/"
    },
    "executionInfo": {
     "elapsed": 466,
     "status": "ok",
     "timestamp": 1608986815101,
     "user": {
      "displayName": "Xingming Zeng",
      "photoUrl": "https://lh3.googleusercontent.com/a-/AOh14Gg1zAEwRE9l60AQWAypJxdyFdkCJKuTmpgRLAOe=s64",
      "userId": "17085929984053572921"
     },
     "user_tz": -480
    },
    "id": "fF-yoNAwbRMH",
    "outputId": "058eb6be-6dc9-4c1b-f1ff-d7a30fd9c704"
   },
   "outputs": [
    {
     "data": {
      "text/plain": [
       "(35605, 2)"
      ]
     },
     "execution_count": 118,
     "metadata": {
      "tags": []
     },
     "output_type": "execute_result"
    }
   ],
   "source": [
    "data.shape"
   ]
  },
  {
   "cell_type": "code",
   "execution_count": 47,
   "metadata": {
    "colab": {
     "base_uri": "https://localhost:8080/",
     "height": 204
    },
    "executionInfo": {
     "elapsed": 674,
     "status": "ok",
     "timestamp": 1608985691205,
     "user": {
      "displayName": "Xingming Zeng",
      "photoUrl": "https://lh3.googleusercontent.com/a-/AOh14Gg1zAEwRE9l60AQWAypJxdyFdkCJKuTmpgRLAOe=s64",
      "userId": "17085929984053572921"
     },
     "user_tz": -480
    },
    "id": "CjM6xyNsbZpi",
    "outputId": "2e7b0940-fa4a-44e1-b19f-581e53e5cce2"
   },
   "outputs": [
    {
     "data": {
      "text/html": [
       "<div>\n",
       "<style scoped>\n",
       "    .dataframe tbody tr th:only-of-type {\n",
       "        vertical-align: middle;\n",
       "    }\n",
       "\n",
       "    .dataframe tbody tr th {\n",
       "        vertical-align: top;\n",
       "    }\n",
       "\n",
       "    .dataframe thead th {\n",
       "        text-align: right;\n",
       "    }\n",
       "</style>\n",
       "<table border=\"1\" class=\"dataframe\">\n",
       "  <thead>\n",
       "    <tr style=\"text-align: right;\">\n",
       "      <th></th>\n",
       "      <th>text</th>\n",
       "      <th>date</th>\n",
       "    </tr>\n",
       "  </thead>\n",
       "  <tbody>\n",
       "    <tr>\n",
       "      <th>0</th>\n",
       "      <td>渔歌开新股</td>\n",
       "      <td>20200928</td>\n",
       "    </tr>\n",
       "    <tr>\n",
       "      <th>1</th>\n",
       "      <td>金秋十月，A股市场将红遍大江南北！但提请注意：不同股指不同个股因运行周期不同将分别于11月3...</td>\n",
       "      <td>20200927</td>\n",
       "    </tr>\n",
       "    <tr>\n",
       "      <th>2</th>\n",
       "      <td>大盘击破3200点后出现一波反弹。股指再度杀跌将受到89日均线触及性顶托向上反弹</td>\n",
       "      <td>20200924</td>\n",
       "    </tr>\n",
       "    <tr>\n",
       "      <th>3</th>\n",
       "      <td>周五应是中小阳</td>\n",
       "      <td>20200924</td>\n",
       "    </tr>\n",
       "    <tr>\n",
       "      <th>4</th>\n",
       "      <td>击破3200点后有一波诱多！</td>\n",
       "      <td>20200924</td>\n",
       "    </tr>\n",
       "  </tbody>\n",
       "</table>\n",
       "</div>"
      ],
      "text/plain": [
       "                                                text      date\n",
       "0                                              渔歌开新股  20200928\n",
       "1  金秋十月，A股市场将红遍大江南北！但提请注意：不同股指不同个股因运行周期不同将分别于11月3...  20200927\n",
       "2           大盘击破3200点后出现一波反弹。股指再度杀跌将受到89日均线触及性顶托向上反弹  20200924\n",
       "3                                            周五应是中小阳  20200924\n",
       "4                                     击破3200点后有一波诱多！  20200924"
      ]
     },
     "execution_count": 47,
     "metadata": {
      "tags": []
     },
     "output_type": "execute_result"
    }
   ],
   "source": [
    "data.head()"
   ]
  },
  {
   "cell_type": "code",
   "execution_count": null,
   "metadata": {
    "colab": {
     "background_save": true,
     "base_uri": "https://localhost:8080/",
     "height": 141,
     "referenced_widgets": [
      "90b5497f444b4713a85b10d99eede7b8",
      "c8bc22e9a49d4603bb8a9e779430c88e",
      "66723a011adc4704880644660022aeea",
      "72a57f4435ee4a1ba98aa411e22de359",
      "2cb8196e450a4cb5be0a4af735636ff6",
      "14ca68aa1be84c518cdafadea7a7d39f",
      "221f0e32aa094e6989a138f8dc1a49d2",
      "8093eb6f15e947d79b612d5299a31811"
     ]
    },
    "id": "4JtkOcuubR_4",
    "outputId": "c13f2289-bef8-4600-aab3-b5b692252e0d"
   },
   "outputs": [
    {
     "name": "stderr",
     "output_type": "stream",
     "text": [
      "/usr/local/lib/python3.6/dist-packages/transformers/tokenization_utils_base.py:2179: FutureWarning: The `pad_to_max_length` argument is deprecated and will be removed in a future version, use `padding=True` or `padding='longest'` to pad to the longest sequence in the batch, or use `padding='max_length'` to pad to a max length. In this case, you can give a specific length with `max_length` (e.g. `max_length=45`) or leave max_length to None to pad to the maximal input size of the model (e.g. 512 for Bert).\n",
      "  FutureWarning,\n"
     ]
    },
    {
     "data": {
      "application/vnd.jupyter.widget-view+json": {
       "model_id": "90b5497f444b4713a85b10d99eede7b8",
       "version_major": 2,
       "version_minor": 0
      },
      "text/plain": [
       "HBox(children=(FloatProgress(value=0.0, description='Iteration', max=1113.0, style=ProgressStyle(description_w…"
      ]
     },
     "metadata": {
      "tags": []
     },
     "output_type": "display_data"
    },
    {
     "name": "stderr",
     "output_type": "stream",
     "text": [
      "../finbert/finbert.py:39: UserWarning: Implicit dimension choice for softmax has been deprecated. Change the call to include dim=X as an argument.\n",
      "  logits = F.softmax(res.logits)\n"
     ]
    },
    {
     "name": "stdout",
     "output_type": "stream",
     "text": [
      "\n"
     ]
    },
    {
     "data": {
      "text/html": [
       "<div>\n",
       "<style scoped>\n",
       "    .dataframe tbody tr th:only-of-type {\n",
       "        vertical-align: middle;\n",
       "    }\n",
       "\n",
       "    .dataframe tbody tr th {\n",
       "        vertical-align: top;\n",
       "    }\n",
       "\n",
       "    .dataframe thead tr th {\n",
       "        text-align: left;\n",
       "    }\n",
       "</style>\n",
       "<table border=\"1\" class=\"dataframe\">\n",
       "  <thead>\n",
       "    <tr>\n",
       "      <th></th>\n",
       "      <th>negative</th>\n",
       "      <th>neutral</th>\n",
       "      <th>positive</th>\n",
       "    </tr>\n",
       "  </thead>\n",
       "  <tbody>\n",
       "    <tr>\n",
       "      <th>0</th>\n",
       "      <td>0.231446</td>\n",
       "      <td>0.416021</td>\n",
       "      <td>0.352533</td>\n",
       "    </tr>\n",
       "    <tr>\n",
       "      <th>1</th>\n",
       "      <td>0.261853</td>\n",
       "      <td>0.378733</td>\n",
       "      <td>0.359414</td>\n",
       "    </tr>\n",
       "    <tr>\n",
       "      <th>2</th>\n",
       "      <td>0.263063</td>\n",
       "      <td>0.379470</td>\n",
       "      <td>0.357467</td>\n",
       "    </tr>\n",
       "    <tr>\n",
       "      <th>3</th>\n",
       "      <td>0.255966</td>\n",
       "      <td>0.393773</td>\n",
       "      <td>0.350261</td>\n",
       "    </tr>\n",
       "    <tr>\n",
       "      <th>4</th>\n",
       "      <td>0.276426</td>\n",
       "      <td>0.404814</td>\n",
       "      <td>0.318761</td>\n",
       "    </tr>\n",
       "    <tr>\n",
       "      <th>...</th>\n",
       "      <td>...</td>\n",
       "      <td>...</td>\n",
       "      <td>...</td>\n",
       "    </tr>\n",
       "    <tr>\n",
       "      <th>35600</th>\n",
       "      <td>0.260347</td>\n",
       "      <td>0.405647</td>\n",
       "      <td>0.334006</td>\n",
       "    </tr>\n",
       "    <tr>\n",
       "      <th>35601</th>\n",
       "      <td>0.257000</td>\n",
       "      <td>0.424201</td>\n",
       "      <td>0.318799</td>\n",
       "    </tr>\n",
       "    <tr>\n",
       "      <th>35602</th>\n",
       "      <td>0.271113</td>\n",
       "      <td>0.408246</td>\n",
       "      <td>0.320641</td>\n",
       "    </tr>\n",
       "    <tr>\n",
       "      <th>35603</th>\n",
       "      <td>0.249104</td>\n",
       "      <td>0.397457</td>\n",
       "      <td>0.353439</td>\n",
       "    </tr>\n",
       "    <tr>\n",
       "      <th>35604</th>\n",
       "      <td>0.245000</td>\n",
       "      <td>0.399904</td>\n",
       "      <td>0.355096</td>\n",
       "    </tr>\n",
       "  </tbody>\n",
       "</table>\n",
       "<p>35605 rows × 3 columns</p>\n",
       "</div>"
      ],
      "text/plain": [
       "       negative   neutral  positive\n",
       "0      0.231446  0.416021  0.352533\n",
       "1      0.261853  0.378733  0.359414\n",
       "2      0.263063  0.379470  0.357467\n",
       "3      0.255966  0.393773  0.350261\n",
       "4      0.276426  0.404814  0.318761\n",
       "...         ...       ...       ...\n",
       "35600  0.260347  0.405647  0.334006\n",
       "35601  0.257000  0.424201  0.318799\n",
       "35602  0.271113  0.408246  0.320641\n",
       "35603  0.249104  0.397457  0.353439\n",
       "35604  0.245000  0.399904  0.355096\n",
       "\n",
       "[35605 rows x 3 columns]"
      ]
     },
     "execution_count": 0,
     "metadata": {
      "tags": []
     },
     "output_type": "execute_result"
    }
   ],
   "source": [
    "res = fb.predict_proba(data.text)\n",
    "res"
   ]
  },
  {
   "cell_type": "code",
   "execution_count": 40,
   "metadata": {
    "colab": {
     "base_uri": "https://localhost:8080/",
     "height": 419
    },
    "executionInfo": {
     "elapsed": 763,
     "status": "ok",
     "timestamp": 1608985426735,
     "user": {
      "displayName": "Xingming Zeng",
      "photoUrl": "https://lh3.googleusercontent.com/a-/AOh14Gg1zAEwRE9l60AQWAypJxdyFdkCJKuTmpgRLAOe=s64",
      "userId": "17085929984053572921"
     },
     "user_tz": -480
    },
    "id": "KxzSzc3v-vm6",
    "outputId": "0f18d549-6474-469a-c516-121df521928e"
   },
   "outputs": [
    {
     "data": {
      "text/html": [
       "<div>\n",
       "<style scoped>\n",
       "    .dataframe tbody tr th:only-of-type {\n",
       "        vertical-align: middle;\n",
       "    }\n",
       "\n",
       "    .dataframe tbody tr th {\n",
       "        vertical-align: top;\n",
       "    }\n",
       "\n",
       "    .dataframe thead th {\n",
       "        text-align: right;\n",
       "    }\n",
       "</style>\n",
       "<table border=\"1\" class=\"dataframe\">\n",
       "  <thead>\n",
       "    <tr style=\"text-align: right;\">\n",
       "      <th></th>\n",
       "      <th>text</th>\n",
       "      <th>date</th>\n",
       "    </tr>\n",
       "  </thead>\n",
       "  <tbody>\n",
       "    <tr>\n",
       "      <th>0</th>\n",
       "      <td>渔歌开新股</td>\n",
       "      <td>20200928</td>\n",
       "    </tr>\n",
       "    <tr>\n",
       "      <th>1</th>\n",
       "      <td>金秋十月，A股市场将红遍大江南北！但提请注意：不同股指不同个股因运行周期不同将分别于11月3...</td>\n",
       "      <td>20200927</td>\n",
       "    </tr>\n",
       "    <tr>\n",
       "      <th>2</th>\n",
       "      <td>大盘击破3200点后出现一波反弹。股指再度杀跌将受到89日均线触及性顶托向上反弹</td>\n",
       "      <td>20200924</td>\n",
       "    </tr>\n",
       "    <tr>\n",
       "      <th>3</th>\n",
       "      <td>周五应是中小阳</td>\n",
       "      <td>20200924</td>\n",
       "    </tr>\n",
       "    <tr>\n",
       "      <th>4</th>\n",
       "      <td>击破3200点后有一波诱多！</td>\n",
       "      <td>20200924</td>\n",
       "    </tr>\n",
       "    <tr>\n",
       "      <th>...</th>\n",
       "      <td>...</td>\n",
       "      <td>...</td>\n",
       "    </tr>\n",
       "    <tr>\n",
       "      <th>35600</th>\n",
       "      <td>现在才看到，太晚啦</td>\n",
       "      <td>20200910</td>\n",
       "    </tr>\n",
       "    <tr>\n",
       "      <th>35601</th>\n",
       "      <td>个股跌多涨少</td>\n",
       "      <td>20200922</td>\n",
       "    </tr>\n",
       "    <tr>\n",
       "      <th>35602</th>\n",
       "      <td>请老师欣赏！</td>\n",
       "      <td>20200909</td>\n",
       "    </tr>\n",
       "    <tr>\n",
       "      <th>35603</th>\n",
       "      <td>你就一sb</td>\n",
       "      <td>20200913</td>\n",
       "    </tr>\n",
       "    <tr>\n",
       "      <th>35604</th>\n",
       "      <td>老四平镇的</td>\n",
       "      <td>20200908</td>\n",
       "    </tr>\n",
       "  </tbody>\n",
       "</table>\n",
       "<p>35605 rows × 2 columns</p>\n",
       "</div>"
      ],
      "text/plain": [
       "                                                    text      date\n",
       "0                                                  渔歌开新股  20200928\n",
       "1      金秋十月，A股市场将红遍大江南北！但提请注意：不同股指不同个股因运行周期不同将分别于11月3...  20200927\n",
       "2               大盘击破3200点后出现一波反弹。股指再度杀跌将受到89日均线触及性顶托向上反弹  20200924\n",
       "3                                                周五应是中小阳  20200924\n",
       "4                                         击破3200点后有一波诱多！  20200924\n",
       "...                                                  ...       ...\n",
       "35600                                          现在才看到，太晚啦  20200910\n",
       "35601                                             个股跌多涨少  20200922\n",
       "35602                                             请老师欣赏！  20200909\n",
       "35603                                              你就一sb  20200913\n",
       "35604                                              老四平镇的  20200908\n",
       "\n",
       "[35605 rows x 2 columns]"
      ]
     },
     "execution_count": 40,
     "metadata": {
      "tags": []
     },
     "output_type": "execute_result"
    }
   ],
   "source": [
    "data"
   ]
  },
  {
   "cell_type": "code",
   "execution_count": 119,
   "metadata": {
    "colab": {
     "base_uri": "https://localhost:8080/",
     "height": 453
    },
    "executionInfo": {
     "elapsed": 688,
     "status": "ok",
     "timestamp": 1608986821993,
     "user": {
      "displayName": "Xingming Zeng",
      "photoUrl": "https://lh3.googleusercontent.com/a-/AOh14Gg1zAEwRE9l60AQWAypJxdyFdkCJKuTmpgRLAOe=s64",
      "userId": "17085929984053572921"
     },
     "user_tz": -480
    },
    "id": "r19OTOpK_obn",
    "outputId": "fc5d7dab-d143-4439-d889-3d289a54b3e1"
   },
   "outputs": [
    {
     "data": {
      "text/html": [
       "<div>\n",
       "<style scoped>\n",
       "    .dataframe tbody tr th:only-of-type {\n",
       "        vertical-align: middle;\n",
       "    }\n",
       "\n",
       "    .dataframe tbody tr th {\n",
       "        vertical-align: top;\n",
       "    }\n",
       "\n",
       "    .dataframe thead th {\n",
       "        text-align: right;\n",
       "    }\n",
       "</style>\n",
       "<table border=\"1\" class=\"dataframe\">\n",
       "  <thead>\n",
       "    <tr style=\"text-align: right;\">\n",
       "      <th></th>\n",
       "      <th>text</th>\n",
       "      <th>date</th>\n",
       "      <th>(negative,)</th>\n",
       "      <th>(neutral,)</th>\n",
       "      <th>(positive,)</th>\n",
       "    </tr>\n",
       "  </thead>\n",
       "  <tbody>\n",
       "    <tr>\n",
       "      <th>0</th>\n",
       "      <td>渔歌开新股</td>\n",
       "      <td>20200928</td>\n",
       "      <td>0.231446</td>\n",
       "      <td>0.416021</td>\n",
       "      <td>0.352533</td>\n",
       "    </tr>\n",
       "    <tr>\n",
       "      <th>1</th>\n",
       "      <td>金秋十月，A股市场将红遍大江南北！但提请注意：不同股指不同个股因运行周期不同将分别于11月3...</td>\n",
       "      <td>20200927</td>\n",
       "      <td>0.261853</td>\n",
       "      <td>0.378733</td>\n",
       "      <td>0.359414</td>\n",
       "    </tr>\n",
       "    <tr>\n",
       "      <th>2</th>\n",
       "      <td>大盘击破3200点后出现一波反弹。股指再度杀跌将受到89日均线触及性顶托向上反弹</td>\n",
       "      <td>20200924</td>\n",
       "      <td>0.263063</td>\n",
       "      <td>0.379470</td>\n",
       "      <td>0.357467</td>\n",
       "    </tr>\n",
       "    <tr>\n",
       "      <th>3</th>\n",
       "      <td>周五应是中小阳</td>\n",
       "      <td>20200924</td>\n",
       "      <td>0.255966</td>\n",
       "      <td>0.393773</td>\n",
       "      <td>0.350261</td>\n",
       "    </tr>\n",
       "    <tr>\n",
       "      <th>4</th>\n",
       "      <td>击破3200点后有一波诱多！</td>\n",
       "      <td>20200924</td>\n",
       "      <td>0.276426</td>\n",
       "      <td>0.404814</td>\n",
       "      <td>0.318761</td>\n",
       "    </tr>\n",
       "    <tr>\n",
       "      <th>...</th>\n",
       "      <td>...</td>\n",
       "      <td>...</td>\n",
       "      <td>...</td>\n",
       "      <td>...</td>\n",
       "      <td>...</td>\n",
       "    </tr>\n",
       "    <tr>\n",
       "      <th>35600</th>\n",
       "      <td>现在才看到，太晚啦</td>\n",
       "      <td>20200910</td>\n",
       "      <td>0.260347</td>\n",
       "      <td>0.405647</td>\n",
       "      <td>0.334006</td>\n",
       "    </tr>\n",
       "    <tr>\n",
       "      <th>35601</th>\n",
       "      <td>个股跌多涨少</td>\n",
       "      <td>20200922</td>\n",
       "      <td>0.257000</td>\n",
       "      <td>0.424201</td>\n",
       "      <td>0.318799</td>\n",
       "    </tr>\n",
       "    <tr>\n",
       "      <th>35602</th>\n",
       "      <td>请老师欣赏！</td>\n",
       "      <td>20200909</td>\n",
       "      <td>0.271113</td>\n",
       "      <td>0.408246</td>\n",
       "      <td>0.320641</td>\n",
       "    </tr>\n",
       "    <tr>\n",
       "      <th>35603</th>\n",
       "      <td>你就一sb</td>\n",
       "      <td>20200913</td>\n",
       "      <td>0.249104</td>\n",
       "      <td>0.397457</td>\n",
       "      <td>0.353439</td>\n",
       "    </tr>\n",
       "    <tr>\n",
       "      <th>35604</th>\n",
       "      <td>老四平镇的</td>\n",
       "      <td>20200908</td>\n",
       "      <td>0.245000</td>\n",
       "      <td>0.399904</td>\n",
       "      <td>0.355096</td>\n",
       "    </tr>\n",
       "  </tbody>\n",
       "</table>\n",
       "<p>35605 rows × 5 columns</p>\n",
       "</div>"
      ],
      "text/plain": [
       "                                                    text  ...  (positive,)\n",
       "0                                                  渔歌开新股  ...     0.352533\n",
       "1      金秋十月，A股市场将红遍大江南北！但提请注意：不同股指不同个股因运行周期不同将分别于11月3...  ...     0.359414\n",
       "2               大盘击破3200点后出现一波反弹。股指再度杀跌将受到89日均线触及性顶托向上反弹  ...     0.357467\n",
       "3                                                周五应是中小阳  ...     0.350261\n",
       "4                                         击破3200点后有一波诱多！  ...     0.318761\n",
       "...                                                  ...  ...          ...\n",
       "35600                                          现在才看到，太晚啦  ...     0.334006\n",
       "35601                                             个股跌多涨少  ...     0.318799\n",
       "35602                                             请老师欣赏！  ...     0.320641\n",
       "35603                                              你就一sb  ...     0.353439\n",
       "35604                                              老四平镇的  ...     0.355096\n",
       "\n",
       "[35605 rows x 5 columns]"
      ]
     },
     "execution_count": 119,
     "metadata": {
      "tags": []
     },
     "output_type": "execute_result"
    }
   ],
   "source": [
    "data = pd.concat([data,res],axis=1)\n",
    "data"
   ]
  },
  {
   "cell_type": "code",
   "execution_count": 120,
   "metadata": {
    "colab": {
     "base_uri": "https://localhost:8080/",
     "height": 453
    },
    "executionInfo": {
     "elapsed": 712,
     "status": "ok",
     "timestamp": 1608986826215,
     "user": {
      "displayName": "Xingming Zeng",
      "photoUrl": "https://lh3.googleusercontent.com/a-/AOh14Gg1zAEwRE9l60AQWAypJxdyFdkCJKuTmpgRLAOe=s64",
      "userId": "17085929984053572921"
     },
     "user_tz": -480
    },
    "id": "0QWSU5YzAz94",
    "outputId": "681024dc-16d7-458a-bfe4-670a04ae918f"
   },
   "outputs": [
    {
     "data": {
      "text/html": [
       "<div>\n",
       "<style scoped>\n",
       "    .dataframe tbody tr th:only-of-type {\n",
       "        vertical-align: middle;\n",
       "    }\n",
       "\n",
       "    .dataframe tbody tr th {\n",
       "        vertical-align: top;\n",
       "    }\n",
       "\n",
       "    .dataframe thead th {\n",
       "        text-align: right;\n",
       "    }\n",
       "</style>\n",
       "<table border=\"1\" class=\"dataframe\">\n",
       "  <thead>\n",
       "    <tr style=\"text-align: right;\">\n",
       "      <th></th>\n",
       "      <th>text</th>\n",
       "      <th>date</th>\n",
       "      <th>(negative,)</th>\n",
       "      <th>(neutral,)</th>\n",
       "      <th>(positive,)</th>\n",
       "    </tr>\n",
       "  </thead>\n",
       "  <tbody>\n",
       "    <tr>\n",
       "      <th>0</th>\n",
       "      <td>渔歌开新股</td>\n",
       "      <td>20200928</td>\n",
       "      <td>0.231446</td>\n",
       "      <td>0.416021</td>\n",
       "      <td>0.352533</td>\n",
       "    </tr>\n",
       "    <tr>\n",
       "      <th>1</th>\n",
       "      <td>金秋十月，A股市场将红遍大江南北！但提请注意：不同股指不同个股因运行周期不同将分别于11月3...</td>\n",
       "      <td>20200927</td>\n",
       "      <td>0.261853</td>\n",
       "      <td>0.378733</td>\n",
       "      <td>0.359414</td>\n",
       "    </tr>\n",
       "    <tr>\n",
       "      <th>2</th>\n",
       "      <td>大盘击破3200点后出现一波反弹。股指再度杀跌将受到89日均线触及性顶托向上反弹</td>\n",
       "      <td>20200924</td>\n",
       "      <td>0.263063</td>\n",
       "      <td>0.379470</td>\n",
       "      <td>0.357467</td>\n",
       "    </tr>\n",
       "    <tr>\n",
       "      <th>3</th>\n",
       "      <td>周五应是中小阳</td>\n",
       "      <td>20200924</td>\n",
       "      <td>0.255966</td>\n",
       "      <td>0.393773</td>\n",
       "      <td>0.350261</td>\n",
       "    </tr>\n",
       "    <tr>\n",
       "      <th>4</th>\n",
       "      <td>击破3200点后有一波诱多！</td>\n",
       "      <td>20200924</td>\n",
       "      <td>0.276426</td>\n",
       "      <td>0.404814</td>\n",
       "      <td>0.318761</td>\n",
       "    </tr>\n",
       "    <tr>\n",
       "      <th>...</th>\n",
       "      <td>...</td>\n",
       "      <td>...</td>\n",
       "      <td>...</td>\n",
       "      <td>...</td>\n",
       "      <td>...</td>\n",
       "    </tr>\n",
       "    <tr>\n",
       "      <th>35600</th>\n",
       "      <td>现在才看到，太晚啦</td>\n",
       "      <td>20200910</td>\n",
       "      <td>0.260347</td>\n",
       "      <td>0.405647</td>\n",
       "      <td>0.334006</td>\n",
       "    </tr>\n",
       "    <tr>\n",
       "      <th>35601</th>\n",
       "      <td>个股跌多涨少</td>\n",
       "      <td>20200922</td>\n",
       "      <td>0.257000</td>\n",
       "      <td>0.424201</td>\n",
       "      <td>0.318799</td>\n",
       "    </tr>\n",
       "    <tr>\n",
       "      <th>35602</th>\n",
       "      <td>请老师欣赏！</td>\n",
       "      <td>20200909</td>\n",
       "      <td>0.271113</td>\n",
       "      <td>0.408246</td>\n",
       "      <td>0.320641</td>\n",
       "    </tr>\n",
       "    <tr>\n",
       "      <th>35603</th>\n",
       "      <td>你就一sb</td>\n",
       "      <td>20200913</td>\n",
       "      <td>0.249104</td>\n",
       "      <td>0.397457</td>\n",
       "      <td>0.353439</td>\n",
       "    </tr>\n",
       "    <tr>\n",
       "      <th>35604</th>\n",
       "      <td>老四平镇的</td>\n",
       "      <td>20200908</td>\n",
       "      <td>0.245000</td>\n",
       "      <td>0.399904</td>\n",
       "      <td>0.355096</td>\n",
       "    </tr>\n",
       "  </tbody>\n",
       "</table>\n",
       "<p>35605 rows × 5 columns</p>\n",
       "</div>"
      ],
      "text/plain": [
       "                                                    text  ...  (positive,)\n",
       "0                                                  渔歌开新股  ...     0.352533\n",
       "1      金秋十月，A股市场将红遍大江南北！但提请注意：不同股指不同个股因运行周期不同将分别于11月3...  ...     0.359414\n",
       "2               大盘击破3200点后出现一波反弹。股指再度杀跌将受到89日均线触及性顶托向上反弹  ...     0.357467\n",
       "3                                                周五应是中小阳  ...     0.350261\n",
       "4                                         击破3200点后有一波诱多！  ...     0.318761\n",
       "...                                                  ...  ...          ...\n",
       "35600                                          现在才看到，太晚啦  ...     0.334006\n",
       "35601                                             个股跌多涨少  ...     0.318799\n",
       "35602                                             请老师欣赏！  ...     0.320641\n",
       "35603                                              你就一sb  ...     0.353439\n",
       "35604                                              老四平镇的  ...     0.355096\n",
       "\n",
       "[35605 rows x 5 columns]"
      ]
     },
     "execution_count": 120,
     "metadata": {
      "tags": []
     },
     "output_type": "execute_result"
    }
   ],
   "source": [
    "data = data.rename(columns={'(negative,)':'negative','(neutral,)':'neutral','(positive,)':'positive'})\n",
    "data"
   ]
  },
  {
   "cell_type": "code",
   "execution_count": 121,
   "metadata": {
    "executionInfo": {
     "elapsed": 1024,
     "status": "ok",
     "timestamp": 1608986836815,
     "user": {
      "displayName": "Xingming Zeng",
      "photoUrl": "https://lh3.googleusercontent.com/a-/AOh14Gg1zAEwRE9l60AQWAypJxdyFdkCJKuTmpgRLAOe=s64",
      "userId": "17085929984053572921"
     },
     "user_tz": -480
    },
    "id": "xoP_FinTvu93"
   },
   "outputs": [],
   "source": [
    "data = data[np.argmax(np.array(res),axis=1)!=1]"
   ]
  },
  {
   "cell_type": "code",
   "execution_count": 122,
   "metadata": {
    "colab": {
     "base_uri": "https://localhost:8080/",
     "height": 453
    },
    "executionInfo": {
     "elapsed": 1641,
     "status": "ok",
     "timestamp": 1608986837456,
     "user": {
      "displayName": "Xingming Zeng",
      "photoUrl": "https://lh3.googleusercontent.com/a-/AOh14Gg1zAEwRE9l60AQWAypJxdyFdkCJKuTmpgRLAOe=s64",
      "userId": "17085929984053572921"
     },
     "user_tz": -480
    },
    "id": "DPt4eJRI-3jg",
    "outputId": "4c16faa8-0d59-4f01-b3f6-4c87e93fb419"
   },
   "outputs": [
    {
     "data": {
      "text/html": [
       "<div>\n",
       "<style scoped>\n",
       "    .dataframe tbody tr th:only-of-type {\n",
       "        vertical-align: middle;\n",
       "    }\n",
       "\n",
       "    .dataframe tbody tr th {\n",
       "        vertical-align: top;\n",
       "    }\n",
       "\n",
       "    .dataframe thead th {\n",
       "        text-align: right;\n",
       "    }\n",
       "</style>\n",
       "<table border=\"1\" class=\"dataframe\">\n",
       "  <thead>\n",
       "    <tr style=\"text-align: right;\">\n",
       "      <th></th>\n",
       "      <th>text</th>\n",
       "      <th>date</th>\n",
       "      <th>(negative,)</th>\n",
       "      <th>(neutral,)</th>\n",
       "      <th>(positive,)</th>\n",
       "    </tr>\n",
       "  </thead>\n",
       "  <tbody>\n",
       "    <tr>\n",
       "      <th>14</th>\n",
       "      <td>这也是你说的：发表于 2020-08-16 11:43:18\\n股指夏季上升与反弹行情预计将...</td>\n",
       "      <td>20200901</td>\n",
       "      <td>0.251251</td>\n",
       "      <td>0.370802</td>\n",
       "      <td>0.377948</td>\n",
       "    </tr>\n",
       "    <tr>\n",
       "      <th>74</th>\n",
       "      <td>你厉害</td>\n",
       "      <td>20200902</td>\n",
       "      <td>0.240470</td>\n",
       "      <td>0.379233</td>\n",
       "      <td>0.380298</td>\n",
       "    </tr>\n",
       "    <tr>\n",
       "      <th>186</th>\n",
       "      <td>有个投资人说你是抄他的，你俩到底谁抄谁？</td>\n",
       "      <td>20200923</td>\n",
       "      <td>0.262344</td>\n",
       "      <td>0.365847</td>\n",
       "      <td>0.371809</td>\n",
       "    </tr>\n",
       "    <tr>\n",
       "      <th>210</th>\n",
       "      <td>辛苦啦，谢谢你！</td>\n",
       "      <td>20200923</td>\n",
       "      <td>0.280261</td>\n",
       "      <td>0.353563</td>\n",
       "      <td>0.366176</td>\n",
       "    </tr>\n",
       "    <tr>\n",
       "      <th>233</th>\n",
       "      <td>谢谢小狐狸</td>\n",
       "      <td>20200923</td>\n",
       "      <td>0.273576</td>\n",
       "      <td>0.352146</td>\n",
       "      <td>0.374278</td>\n",
       "    </tr>\n",
       "    <tr>\n",
       "      <th>...</th>\n",
       "      <td>...</td>\n",
       "      <td>...</td>\n",
       "      <td>...</td>\n",
       "      <td>...</td>\n",
       "      <td>...</td>\n",
       "    </tr>\n",
       "    <tr>\n",
       "      <th>35289</th>\n",
       "      <td>大盘随时会拉升的，这里消化以后可以进场的</td>\n",
       "      <td>20200902</td>\n",
       "      <td>0.255132</td>\n",
       "      <td>0.372347</td>\n",
       "      <td>0.372521</td>\n",
       "    </tr>\n",
       "    <tr>\n",
       "      <th>35342</th>\n",
       "      <td>666666</td>\n",
       "      <td>20200901</td>\n",
       "      <td>0.229128</td>\n",
       "      <td>0.372691</td>\n",
       "      <td>0.398180</td>\n",
       "    </tr>\n",
       "    <tr>\n",
       "      <th>35347</th>\n",
       "      <td>道声谢谢</td>\n",
       "      <td>20200901</td>\n",
       "      <td>0.271553</td>\n",
       "      <td>0.360831</td>\n",
       "      <td>0.367616</td>\n",
       "    </tr>\n",
       "    <tr>\n",
       "      <th>35453</th>\n",
       "      <td>预测暴跌了。跟现实暴跌差的时间也太多了把。自从神机预测暴跌很长时间了大盘还没出现暴跌过，如果...</td>\n",
       "      <td>20200901</td>\n",
       "      <td>0.266849</td>\n",
       "      <td>0.365772</td>\n",
       "      <td>0.367379</td>\n",
       "    </tr>\n",
       "    <tr>\n",
       "      <th>35480</th>\n",
       "      <td>刺激啊</td>\n",
       "      <td>20200901</td>\n",
       "      <td>0.262133</td>\n",
       "      <td>0.360610</td>\n",
       "      <td>0.377257</td>\n",
       "    </tr>\n",
       "  </tbody>\n",
       "</table>\n",
       "<p>1009 rows × 5 columns</p>\n",
       "</div>"
      ],
      "text/plain": [
       "                                                    text  ...  (positive,)\n",
       "14     这也是你说的：发表于 2020-08-16 11:43:18\\n股指夏季上升与反弹行情预计将...  ...     0.377948\n",
       "74                                                   你厉害  ...     0.380298\n",
       "186                                 有个投资人说你是抄他的，你俩到底谁抄谁？  ...     0.371809\n",
       "210                                             辛苦啦，谢谢你！  ...     0.366176\n",
       "233                                                谢谢小狐狸  ...     0.374278\n",
       "...                                                  ...  ...          ...\n",
       "35289                               大盘随时会拉升的，这里消化以后可以进场的  ...     0.372521\n",
       "35342                                             666666  ...     0.398180\n",
       "35347                                               道声谢谢  ...     0.367616\n",
       "35453  预测暴跌了。跟现实暴跌差的时间也太多了把。自从神机预测暴跌很长时间了大盘还没出现暴跌过，如果...  ...     0.367379\n",
       "35480                                                刺激啊  ...     0.377257\n",
       "\n",
       "[1009 rows x 5 columns]"
      ]
     },
     "execution_count": 122,
     "metadata": {
      "tags": []
     },
     "output_type": "execute_result"
    }
   ],
   "source": [
    "data"
   ]
  },
  {
   "cell_type": "code",
   "execution_count": 123,
   "metadata": {
    "colab": {
     "base_uri": "https://localhost:8080/",
     "height": 581
    },
    "executionInfo": {
     "elapsed": 1626,
     "status": "ok",
     "timestamp": 1608986837458,
     "user": {
      "displayName": "Xingming Zeng",
      "photoUrl": "https://lh3.googleusercontent.com/a-/AOh14Gg1zAEwRE9l60AQWAypJxdyFdkCJKuTmpgRLAOe=s64",
      "userId": "17085929984053572921"
     },
     "user_tz": -480
    },
    "id": "GNZU1nUXcUC1",
    "outputId": "54994d76-f271-490a-aa98-8a02710876cf"
   },
   "outputs": [
    {
     "name": "stderr",
     "output_type": "stream",
     "text": [
      "/usr/local/lib/python3.6/dist-packages/ipykernel_launcher.py:1: SettingWithCopyWarning: \n",
      "A value is trying to be set on a copy of a slice from a DataFrame.\n",
      "Try using .loc[row_indexer,col_indexer] = value instead\n",
      "\n",
      "See the caveats in the documentation: https://pandas.pydata.org/pandas-docs/stable/user_guide/indexing.html#returning-a-view-versus-a-copy\n",
      "  \"\"\"Entry point for launching an IPython kernel.\n"
     ]
    },
    {
     "data": {
      "text/html": [
       "<div>\n",
       "<style scoped>\n",
       "    .dataframe tbody tr th:only-of-type {\n",
       "        vertical-align: middle;\n",
       "    }\n",
       "\n",
       "    .dataframe tbody tr th {\n",
       "        vertical-align: top;\n",
       "    }\n",
       "\n",
       "    .dataframe thead th {\n",
       "        text-align: right;\n",
       "    }\n",
       "</style>\n",
       "<table border=\"1\" class=\"dataframe\">\n",
       "  <thead>\n",
       "    <tr style=\"text-align: right;\">\n",
       "      <th></th>\n",
       "      <th>text</th>\n",
       "      <th>date</th>\n",
       "      <th>(negative,)</th>\n",
       "      <th>(neutral,)</th>\n",
       "      <th>(positive,)</th>\n",
       "      <th>sentiment_score</th>\n",
       "    </tr>\n",
       "  </thead>\n",
       "  <tbody>\n",
       "    <tr>\n",
       "      <th>14</th>\n",
       "      <td>这也是你说的：发表于 2020-08-16 11:43:18\\n股指夏季上升与反弹行情预计将...</td>\n",
       "      <td>20200901</td>\n",
       "      <td>0.251251</td>\n",
       "      <td>0.370802</td>\n",
       "      <td>0.377948</td>\n",
       "      <td>0.126697</td>\n",
       "    </tr>\n",
       "    <tr>\n",
       "      <th>74</th>\n",
       "      <td>你厉害</td>\n",
       "      <td>20200902</td>\n",
       "      <td>0.240470</td>\n",
       "      <td>0.379233</td>\n",
       "      <td>0.380298</td>\n",
       "      <td>0.139828</td>\n",
       "    </tr>\n",
       "    <tr>\n",
       "      <th>186</th>\n",
       "      <td>有个投资人说你是抄他的，你俩到底谁抄谁？</td>\n",
       "      <td>20200923</td>\n",
       "      <td>0.262344</td>\n",
       "      <td>0.365847</td>\n",
       "      <td>0.371809</td>\n",
       "      <td>0.109464</td>\n",
       "    </tr>\n",
       "    <tr>\n",
       "      <th>210</th>\n",
       "      <td>辛苦啦，谢谢你！</td>\n",
       "      <td>20200923</td>\n",
       "      <td>0.280261</td>\n",
       "      <td>0.353563</td>\n",
       "      <td>0.366176</td>\n",
       "      <td>0.085916</td>\n",
       "    </tr>\n",
       "    <tr>\n",
       "      <th>233</th>\n",
       "      <td>谢谢小狐狸</td>\n",
       "      <td>20200923</td>\n",
       "      <td>0.273576</td>\n",
       "      <td>0.352146</td>\n",
       "      <td>0.374278</td>\n",
       "      <td>0.100702</td>\n",
       "    </tr>\n",
       "    <tr>\n",
       "      <th>...</th>\n",
       "      <td>...</td>\n",
       "      <td>...</td>\n",
       "      <td>...</td>\n",
       "      <td>...</td>\n",
       "      <td>...</td>\n",
       "      <td>...</td>\n",
       "    </tr>\n",
       "    <tr>\n",
       "      <th>35289</th>\n",
       "      <td>大盘随时会拉升的，这里消化以后可以进场的</td>\n",
       "      <td>20200902</td>\n",
       "      <td>0.255132</td>\n",
       "      <td>0.372347</td>\n",
       "      <td>0.372521</td>\n",
       "      <td>0.117389</td>\n",
       "    </tr>\n",
       "    <tr>\n",
       "      <th>35342</th>\n",
       "      <td>666666</td>\n",
       "      <td>20200901</td>\n",
       "      <td>0.229128</td>\n",
       "      <td>0.372691</td>\n",
       "      <td>0.398180</td>\n",
       "      <td>0.169052</td>\n",
       "    </tr>\n",
       "    <tr>\n",
       "      <th>35347</th>\n",
       "      <td>道声谢谢</td>\n",
       "      <td>20200901</td>\n",
       "      <td>0.271553</td>\n",
       "      <td>0.360831</td>\n",
       "      <td>0.367616</td>\n",
       "      <td>0.096064</td>\n",
       "    </tr>\n",
       "    <tr>\n",
       "      <th>35453</th>\n",
       "      <td>预测暴跌了。跟现实暴跌差的时间也太多了把。自从神机预测暴跌很长时间了大盘还没出现暴跌过，如果...</td>\n",
       "      <td>20200901</td>\n",
       "      <td>0.266849</td>\n",
       "      <td>0.365772</td>\n",
       "      <td>0.367379</td>\n",
       "      <td>0.100530</td>\n",
       "    </tr>\n",
       "    <tr>\n",
       "      <th>35480</th>\n",
       "      <td>刺激啊</td>\n",
       "      <td>20200901</td>\n",
       "      <td>0.262133</td>\n",
       "      <td>0.360610</td>\n",
       "      <td>0.377257</td>\n",
       "      <td>0.115123</td>\n",
       "    </tr>\n",
       "  </tbody>\n",
       "</table>\n",
       "<p>1009 rows × 6 columns</p>\n",
       "</div>"
      ],
      "text/plain": [
       "                                                    text  ...  sentiment_score\n",
       "14     这也是你说的：发表于 2020-08-16 11:43:18\\n股指夏季上升与反弹行情预计将...  ...         0.126697\n",
       "74                                                   你厉害  ...         0.139828\n",
       "186                                 有个投资人说你是抄他的，你俩到底谁抄谁？  ...         0.109464\n",
       "210                                             辛苦啦，谢谢你！  ...         0.085916\n",
       "233                                                谢谢小狐狸  ...         0.100702\n",
       "...                                                  ...  ...              ...\n",
       "35289                               大盘随时会拉升的，这里消化以后可以进场的  ...         0.117389\n",
       "35342                                             666666  ...         0.169052\n",
       "35347                                               道声谢谢  ...         0.096064\n",
       "35453  预测暴跌了。跟现实暴跌差的时间也太多了把。自从神机预测暴跌很长时间了大盘还没出现暴跌过，如果...  ...         0.100530\n",
       "35480                                                刺激啊  ...         0.115123\n",
       "\n",
       "[1009 rows x 6 columns]"
      ]
     },
     "execution_count": 123,
     "metadata": {
      "tags": []
     },
     "output_type": "execute_result"
    }
   ],
   "source": [
    "data['sentiment_score'] = data.iloc[:,4] - data.iloc[:,2]\n",
    "data"
   ]
  },
  {
   "cell_type": "code",
   "execution_count": 124,
   "metadata": {
    "executionInfo": {
     "elapsed": 1619,
     "status": "ok",
     "timestamp": 1608986837463,
     "user": {
      "displayName": "Xingming Zeng",
      "photoUrl": "https://lh3.googleusercontent.com/a-/AOh14Gg1zAEwRE9l60AQWAypJxdyFdkCJKuTmpgRLAOe=s64",
      "userId": "17085929984053572921"
     },
     "user_tz": -480
    },
    "id": "uacgvNIVciSy"
   },
   "outputs": [],
   "source": [
    "data.to_csv('../data/dataset/raw_data.csv',encoding='utf-8',index=False)"
   ]
  },
  {
   "cell_type": "markdown",
   "metadata": {
    "id": "6ItJogT8e1co"
   },
   "source": [
    "# 单日情感汇总"
   ]
  },
  {
   "cell_type": "code",
   "execution_count": 125,
   "metadata": {
    "executionInfo": {
     "elapsed": 1615,
     "status": "ok",
     "timestamp": 1608986837465,
     "user": {
      "displayName": "Xingming Zeng",
      "photoUrl": "https://lh3.googleusercontent.com/a-/AOh14Gg1zAEwRE9l60AQWAypJxdyFdkCJKuTmpgRLAOe=s64",
      "userId": "17085929984053572921"
     },
     "user_tz": -480
    },
    "id": "x1w0AADmebLZ"
   },
   "outputs": [],
   "source": [
    "data = pd.read_csv('../data/dataset/raw_data.csv',encoding='utf-8')"
   ]
  },
  {
   "cell_type": "code",
   "execution_count": 126,
   "metadata": {
    "colab": {
     "base_uri": "https://localhost:8080/",
     "height": 470
    },
    "executionInfo": {
     "elapsed": 1606,
     "status": "ok",
     "timestamp": 1608986837466,
     "user": {
      "displayName": "Xingming Zeng",
      "photoUrl": "https://lh3.googleusercontent.com/a-/AOh14Gg1zAEwRE9l60AQWAypJxdyFdkCJKuTmpgRLAOe=s64",
      "userId": "17085929984053572921"
     },
     "user_tz": -480
    },
    "id": "a-HR0jBfgmBB",
    "outputId": "75c47971-ee55-4f63-b639-163012aa8ef9"
   },
   "outputs": [
    {
     "data": {
      "text/html": [
       "<div>\n",
       "<style scoped>\n",
       "    .dataframe tbody tr th:only-of-type {\n",
       "        vertical-align: middle;\n",
       "    }\n",
       "\n",
       "    .dataframe tbody tr th {\n",
       "        vertical-align: top;\n",
       "    }\n",
       "\n",
       "    .dataframe thead th {\n",
       "        text-align: right;\n",
       "    }\n",
       "</style>\n",
       "<table border=\"1\" class=\"dataframe\">\n",
       "  <thead>\n",
       "    <tr style=\"text-align: right;\">\n",
       "      <th></th>\n",
       "      <th>text</th>\n",
       "      <th>date</th>\n",
       "      <th>('negative',)</th>\n",
       "      <th>('neutral',)</th>\n",
       "      <th>('positive',)</th>\n",
       "      <th>sentiment_score</th>\n",
       "    </tr>\n",
       "  </thead>\n",
       "  <tbody>\n",
       "    <tr>\n",
       "      <th>0</th>\n",
       "      <td>这也是你说的：发表于 2020-08-16 11:43:18\\n股指夏季上升与反弹行情预计将...</td>\n",
       "      <td>20200901</td>\n",
       "      <td>0.251251</td>\n",
       "      <td>0.370802</td>\n",
       "      <td>0.377948</td>\n",
       "      <td>0.126697</td>\n",
       "    </tr>\n",
       "    <tr>\n",
       "      <th>1</th>\n",
       "      <td>你厉害</td>\n",
       "      <td>20200902</td>\n",
       "      <td>0.240470</td>\n",
       "      <td>0.379233</td>\n",
       "      <td>0.380298</td>\n",
       "      <td>0.139828</td>\n",
       "    </tr>\n",
       "    <tr>\n",
       "      <th>2</th>\n",
       "      <td>有个投资人说你是抄他的，你俩到底谁抄谁？</td>\n",
       "      <td>20200923</td>\n",
       "      <td>0.262344</td>\n",
       "      <td>0.365847</td>\n",
       "      <td>0.371809</td>\n",
       "      <td>0.109464</td>\n",
       "    </tr>\n",
       "    <tr>\n",
       "      <th>3</th>\n",
       "      <td>辛苦啦，谢谢你！</td>\n",
       "      <td>20200923</td>\n",
       "      <td>0.280261</td>\n",
       "      <td>0.353563</td>\n",
       "      <td>0.366176</td>\n",
       "      <td>0.085916</td>\n",
       "    </tr>\n",
       "    <tr>\n",
       "      <th>4</th>\n",
       "      <td>谢谢小狐狸</td>\n",
       "      <td>20200923</td>\n",
       "      <td>0.273576</td>\n",
       "      <td>0.352146</td>\n",
       "      <td>0.374278</td>\n",
       "      <td>0.100702</td>\n",
       "    </tr>\n",
       "    <tr>\n",
       "      <th>...</th>\n",
       "      <td>...</td>\n",
       "      <td>...</td>\n",
       "      <td>...</td>\n",
       "      <td>...</td>\n",
       "      <td>...</td>\n",
       "      <td>...</td>\n",
       "    </tr>\n",
       "    <tr>\n",
       "      <th>1004</th>\n",
       "      <td>大盘随时会拉升的，这里消化以后可以进场的</td>\n",
       "      <td>20200902</td>\n",
       "      <td>0.255132</td>\n",
       "      <td>0.372347</td>\n",
       "      <td>0.372521</td>\n",
       "      <td>0.117389</td>\n",
       "    </tr>\n",
       "    <tr>\n",
       "      <th>1005</th>\n",
       "      <td>666666</td>\n",
       "      <td>20200901</td>\n",
       "      <td>0.229128</td>\n",
       "      <td>0.372691</td>\n",
       "      <td>0.398180</td>\n",
       "      <td>0.169052</td>\n",
       "    </tr>\n",
       "    <tr>\n",
       "      <th>1006</th>\n",
       "      <td>道声谢谢</td>\n",
       "      <td>20200901</td>\n",
       "      <td>0.271553</td>\n",
       "      <td>0.360831</td>\n",
       "      <td>0.367616</td>\n",
       "      <td>0.096064</td>\n",
       "    </tr>\n",
       "    <tr>\n",
       "      <th>1007</th>\n",
       "      <td>预测暴跌了。跟现实暴跌差的时间也太多了把。自从神机预测暴跌很长时间了大盘还没出现暴跌过，如果...</td>\n",
       "      <td>20200901</td>\n",
       "      <td>0.266849</td>\n",
       "      <td>0.365772</td>\n",
       "      <td>0.367379</td>\n",
       "      <td>0.100530</td>\n",
       "    </tr>\n",
       "    <tr>\n",
       "      <th>1008</th>\n",
       "      <td>刺激啊</td>\n",
       "      <td>20200901</td>\n",
       "      <td>0.262133</td>\n",
       "      <td>0.360610</td>\n",
       "      <td>0.377257</td>\n",
       "      <td>0.115123</td>\n",
       "    </tr>\n",
       "  </tbody>\n",
       "</table>\n",
       "<p>1009 rows × 6 columns</p>\n",
       "</div>"
      ],
      "text/plain": [
       "                                                   text  ...  sentiment_score\n",
       "0     这也是你说的：发表于 2020-08-16 11:43:18\\n股指夏季上升与反弹行情预计将...  ...         0.126697\n",
       "1                                                   你厉害  ...         0.139828\n",
       "2                                  有个投资人说你是抄他的，你俩到底谁抄谁？  ...         0.109464\n",
       "3                                              辛苦啦，谢谢你！  ...         0.085916\n",
       "4                                                 谢谢小狐狸  ...         0.100702\n",
       "...                                                 ...  ...              ...\n",
       "1004                               大盘随时会拉升的，这里消化以后可以进场的  ...         0.117389\n",
       "1005                                             666666  ...         0.169052\n",
       "1006                                               道声谢谢  ...         0.096064\n",
       "1007  预测暴跌了。跟现实暴跌差的时间也太多了把。自从神机预测暴跌很长时间了大盘还没出现暴跌过，如果...  ...         0.100530\n",
       "1008                                                刺激啊  ...         0.115123\n",
       "\n",
       "[1009 rows x 6 columns]"
      ]
     },
     "execution_count": 126,
     "metadata": {
      "tags": []
     },
     "output_type": "execute_result"
    }
   ],
   "source": [
    "data"
   ]
  },
  {
   "cell_type": "code",
   "execution_count": 128,
   "metadata": {
    "colab": {
     "base_uri": "https://localhost:8080/"
    },
    "collapsed": true,
    "executionInfo": {
     "elapsed": 2839,
     "status": "ok",
     "timestamp": 1608986838719,
     "user": {
      "displayName": "Xingming Zeng",
      "photoUrl": "https://lh3.googleusercontent.com/a-/AOh14Gg1zAEwRE9l60AQWAypJxdyFdkCJKuTmpgRLAOe=s64",
      "userId": "17085929984053572921"
     },
     "user_tz": -480
    },
    "id": "ThEfocFNgmn9",
    "outputId": "83f94942-5956-4274-aa10-651ec3734d9a"
   },
   "outputs": [
    {
     "data": {
      "text/plain": [
       "date\n",
       "20200901    1.132737\n",
       "20200902    9.976435\n",
       "20200903    8.414232\n",
       "20200904    6.710577\n",
       "20200905    1.580076\n",
       "20200906    3.290361\n",
       "20200907    3.607998\n",
       "20200908    8.998715\n",
       "20200909    6.097884\n",
       "20200910    3.471963\n",
       "20200911    3.693090\n",
       "20200912    1.230233\n",
       "20200913    3.776500\n",
       "20200914    3.084860\n",
       "20200915    2.748819\n",
       "20200916    4.995061\n",
       "20200917    3.407770\n",
       "20200918    3.039009\n",
       "20200919    2.151128\n",
       "20200920    2.261104\n",
       "20200921    5.062647\n",
       "20200922    4.166118\n",
       "20200923    1.760465\n",
       "20200924    3.715903\n",
       "20200925    3.752125\n",
       "20200926    0.817194\n",
       "20200927    0.602948\n",
       "20200928    3.882129\n",
       "20200929    3.726630\n",
       "Name: sentiment_score, dtype: float64"
      ]
     },
     "execution_count": 128,
     "metadata": {
      "tags": []
     },
     "output_type": "execute_result"
    }
   ],
   "source": [
    "data = data.groupby('date')['sentiment_score'].sum()[:-1]\n",
    "data"
   ]
  },
  {
   "cell_type": "code",
   "execution_count": 129,
   "metadata": {
    "colab": {
     "base_uri": "https://localhost:8080/",
     "height": 297
    },
    "executionInfo": {
     "elapsed": 2826,
     "status": "ok",
     "timestamp": 1608986838720,
     "user": {
      "displayName": "Xingming Zeng",
      "photoUrl": "https://lh3.googleusercontent.com/a-/AOh14Gg1zAEwRE9l60AQWAypJxdyFdkCJKuTmpgRLAOe=s64",
      "userId": "17085929984053572921"
     },
     "user_tz": -480
    },
    "id": "V2yqAmi4w9rl",
    "outputId": "70a5e390-7ac2-4052-cbc8-330a6d3966ed"
   },
   "outputs": [
    {
     "data": {
      "text/plain": [
       "<matplotlib.axes._subplots.AxesSubplot at 0x7f8e8062be10>"
      ]
     },
     "execution_count": 129,
     "metadata": {
      "tags": []
     },
     "output_type": "execute_result"
    },
    {
     "data": {
      "image/png": "[encoded data removed]",
      "text/plain": [
       "<Figure size 432x288 with 1 Axes>"
      ]
     },
     "metadata": {
      "needs_background": "light",
      "tags": []
     },
     "output_type": "display_data"
    }
   ],
   "source": [
    "data.plot()"
   ]
  },
  {
   "cell_type": "code",
   "execution_count": 130,
   "metadata": {
    "colab": {
     "base_uri": "https://localhost:8080/",
     "height": 948
    },
    "collapsed": true,
    "executionInfo": {
     "elapsed": 2813,
     "status": "ok",
     "timestamp": 1608986838722,
     "user": {
      "displayName": "Xingming Zeng",
      "photoUrl": "https://lh3.googleusercontent.com/a-/AOh14Gg1zAEwRE9l60AQWAypJxdyFdkCJKuTmpgRLAOe=s64",
      "userId": "17085929984053572921"
     },
     "user_tz": -480
    },
    "id": "yhHBRa5MzH6s",
    "outputId": "40139d2b-68f6-4d1c-8cb3-d034a2ec14c2"
   },
   "outputs": [
    {
     "data": {
      "text/html": [
       "<div>\n",
       "<style scoped>\n",
       "    .dataframe tbody tr th:only-of-type {\n",
       "        vertical-align: middle;\n",
       "    }\n",
       "\n",
       "    .dataframe tbody tr th {\n",
       "        vertical-align: top;\n",
       "    }\n",
       "\n",
       "    .dataframe thead th {\n",
       "        text-align: right;\n",
       "    }\n",
       "</style>\n",
       "<table border=\"1\" class=\"dataframe\">\n",
       "  <thead>\n",
       "    <tr style=\"text-align: right;\">\n",
       "      <th></th>\n",
       "      <th>date</th>\n",
       "      <th>sentiment_score</th>\n",
       "    </tr>\n",
       "  </thead>\n",
       "  <tbody>\n",
       "    <tr>\n",
       "      <th>0</th>\n",
       "      <td>20200901</td>\n",
       "      <td>1.132737</td>\n",
       "    </tr>\n",
       "    <tr>\n",
       "      <th>1</th>\n",
       "      <td>20200902</td>\n",
       "      <td>9.976435</td>\n",
       "    </tr>\n",
       "    <tr>\n",
       "      <th>2</th>\n",
       "      <td>20200903</td>\n",
       "      <td>8.414232</td>\n",
       "    </tr>\n",
       "    <tr>\n",
       "      <th>3</th>\n",
       "      <td>20200904</td>\n",
       "      <td>6.710577</td>\n",
       "    </tr>\n",
       "    <tr>\n",
       "      <th>4</th>\n",
       "      <td>20200905</td>\n",
       "      <td>1.580076</td>\n",
       "    </tr>\n",
       "    <tr>\n",
       "      <th>5</th>\n",
       "      <td>20200906</td>\n",
       "      <td>3.290361</td>\n",
       "    </tr>\n",
       "    <tr>\n",
       "      <th>6</th>\n",
       "      <td>20200907</td>\n",
       "      <td>3.607998</td>\n",
       "    </tr>\n",
       "    <tr>\n",
       "      <th>7</th>\n",
       "      <td>20200908</td>\n",
       "      <td>8.998715</td>\n",
       "    </tr>\n",
       "    <tr>\n",
       "      <th>8</th>\n",
       "      <td>20200909</td>\n",
       "      <td>6.097884</td>\n",
       "    </tr>\n",
       "    <tr>\n",
       "      <th>9</th>\n",
       "      <td>20200910</td>\n",
       "      <td>3.471963</td>\n",
       "    </tr>\n",
       "    <tr>\n",
       "      <th>10</th>\n",
       "      <td>20200911</td>\n",
       "      <td>3.693090</td>\n",
       "    </tr>\n",
       "    <tr>\n",
       "      <th>11</th>\n",
       "      <td>20200912</td>\n",
       "      <td>1.230233</td>\n",
       "    </tr>\n",
       "    <tr>\n",
       "      <th>12</th>\n",
       "      <td>20200913</td>\n",
       "      <td>3.776500</td>\n",
       "    </tr>\n",
       "    <tr>\n",
       "      <th>13</th>\n",
       "      <td>20200914</td>\n",
       "      <td>3.084860</td>\n",
       "    </tr>\n",
       "    <tr>\n",
       "      <th>14</th>\n",
       "      <td>20200915</td>\n",
       "      <td>2.748819</td>\n",
       "    </tr>\n",
       "    <tr>\n",
       "      <th>15</th>\n",
       "      <td>20200916</td>\n",
       "      <td>4.995061</td>\n",
       "    </tr>\n",
       "    <tr>\n",
       "      <th>16</th>\n",
       "      <td>20200917</td>\n",
       "      <td>3.407770</td>\n",
       "    </tr>\n",
       "    <tr>\n",
       "      <th>17</th>\n",
       "      <td>20200918</td>\n",
       "      <td>3.039009</td>\n",
       "    </tr>\n",
       "    <tr>\n",
       "      <th>18</th>\n",
       "      <td>20200919</td>\n",
       "      <td>2.151128</td>\n",
       "    </tr>\n",
       "    <tr>\n",
       "      <th>19</th>\n",
       "      <td>20200920</td>\n",
       "      <td>2.261104</td>\n",
       "    </tr>\n",
       "    <tr>\n",
       "      <th>20</th>\n",
       "      <td>20200921</td>\n",
       "      <td>5.062647</td>\n",
       "    </tr>\n",
       "    <tr>\n",
       "      <th>21</th>\n",
       "      <td>20200922</td>\n",
       "      <td>4.166118</td>\n",
       "    </tr>\n",
       "    <tr>\n",
       "      <th>22</th>\n",
       "      <td>20200923</td>\n",
       "      <td>1.760465</td>\n",
       "    </tr>\n",
       "    <tr>\n",
       "      <th>23</th>\n",
       "      <td>20200924</td>\n",
       "      <td>3.715903</td>\n",
       "    </tr>\n",
       "    <tr>\n",
       "      <th>24</th>\n",
       "      <td>20200925</td>\n",
       "      <td>3.752125</td>\n",
       "    </tr>\n",
       "    <tr>\n",
       "      <th>25</th>\n",
       "      <td>20200926</td>\n",
       "      <td>0.817194</td>\n",
       "    </tr>\n",
       "    <tr>\n",
       "      <th>26</th>\n",
       "      <td>20200927</td>\n",
       "      <td>0.602948</td>\n",
       "    </tr>\n",
       "    <tr>\n",
       "      <th>27</th>\n",
       "      <td>20200928</td>\n",
       "      <td>3.882129</td>\n",
       "    </tr>\n",
       "    <tr>\n",
       "      <th>28</th>\n",
       "      <td>20200929</td>\n",
       "      <td>3.726630</td>\n",
       "    </tr>\n",
       "  </tbody>\n",
       "</table>\n",
       "</div>"
      ],
      "text/plain": [
       "        date  sentiment_score\n",
       "0   20200901         1.132737\n",
       "1   20200902         9.976435\n",
       "2   20200903         8.414232\n",
       "3   20200904         6.710577\n",
       "4   20200905         1.580076\n",
       "5   20200906         3.290361\n",
       "6   20200907         3.607998\n",
       "7   20200908         8.998715\n",
       "8   20200909         6.097884\n",
       "9   20200910         3.471963\n",
       "10  20200911         3.693090\n",
       "11  20200912         1.230233\n",
       "12  20200913         3.776500\n",
       "13  20200914         3.084860\n",
       "14  20200915         2.748819\n",
       "15  20200916         4.995061\n",
       "16  20200917         3.407770\n",
       "17  20200918         3.039009\n",
       "18  20200919         2.151128\n",
       "19  20200920         2.261104\n",
       "20  20200921         5.062647\n",
       "21  20200922         4.166118\n",
       "22  20200923         1.760465\n",
       "23  20200924         3.715903\n",
       "24  20200925         3.752125\n",
       "25  20200926         0.817194\n",
       "26  20200927         0.602948\n",
       "27  20200928         3.882129\n",
       "28  20200929         3.726630"
      ]
     },
     "execution_count": 130,
     "metadata": {
      "tags": []
     },
     "output_type": "execute_result"
    }
   ],
   "source": [
    "data = data.reset_index()\n",
    "data"
   ]
  },
  {
   "cell_type": "markdown",
   "metadata": {
    "executionInfo": {
     "elapsed": 2803,
     "status": "ok",
     "timestamp": 1608986838724,
     "user": {
      "displayName": "Xingming Zeng",
      "photoUrl": "https://lh3.googleusercontent.com/a-/AOh14Gg1zAEwRE9l60AQWAypJxdyFdkCJKuTmpgRLAOe=s64",
      "userId": "17085929984053572921"
     },
     "user_tz": -480
    },
    "id": "TUUzBCjLzIMO"
   },
   "source": [
    "# 收盘价数据加载"
   ]
  },
  {
   "cell_type": "code",
   "execution_count": 131,
   "metadata": {
    "colab": {
     "base_uri": "https://localhost:8080/",
     "height": 948
    },
    "collapsed": true,
    "executionInfo": {
     "elapsed": 2796,
     "status": "ok",
     "timestamp": 1608986838727,
     "user": {
      "displayName": "Xingming Zeng",
      "photoUrl": "https://lh3.googleusercontent.com/a-/AOh14Gg1zAEwRE9l60AQWAypJxdyFdkCJKuTmpgRLAOe=s64",
      "userId": "17085929984053572921"
     },
     "user_tz": -480
    },
    "id": "-5G_5_JIhsHx",
    "outputId": "816ecdc6-b349-4fba-acb1-570a252e7656"
   },
   "outputs": [
    {
     "data": {
      "text/html": [
       "<div>\n",
       "<style scoped>\n",
       "    .dataframe tbody tr th:only-of-type {\n",
       "        vertical-align: middle;\n",
       "    }\n",
       "\n",
       "    .dataframe tbody tr th {\n",
       "        vertical-align: top;\n",
       "    }\n",
       "\n",
       "    .dataframe thead th {\n",
       "        text-align: right;\n",
       "    }\n",
       "</style>\n",
       "<table border=\"1\" class=\"dataframe\">\n",
       "  <thead>\n",
       "    <tr style=\"text-align: right;\">\n",
       "      <th></th>\n",
       "      <th>date</th>\n",
       "      <th>value</th>\n",
       "    </tr>\n",
       "  </thead>\n",
       "  <tbody>\n",
       "    <tr>\n",
       "      <th>0</th>\n",
       "      <td>20200930</td>\n",
       "      <td>3218.0521</td>\n",
       "    </tr>\n",
       "    <tr>\n",
       "      <th>1</th>\n",
       "      <td>20200929</td>\n",
       "      <td>3224.3593</td>\n",
       "    </tr>\n",
       "    <tr>\n",
       "      <th>2</th>\n",
       "      <td>20200928</td>\n",
       "      <td>3217.5346</td>\n",
       "    </tr>\n",
       "    <tr>\n",
       "      <th>3</th>\n",
       "      <td>20200927</td>\n",
       "      <td>NaN</td>\n",
       "    </tr>\n",
       "    <tr>\n",
       "      <th>4</th>\n",
       "      <td>20200926</td>\n",
       "      <td>NaN</td>\n",
       "    </tr>\n",
       "    <tr>\n",
       "      <th>5</th>\n",
       "      <td>20200925</td>\n",
       "      <td>3219.4179</td>\n",
       "    </tr>\n",
       "    <tr>\n",
       "      <th>6</th>\n",
       "      <td>20200924</td>\n",
       "      <td>3223.1764</td>\n",
       "    </tr>\n",
       "    <tr>\n",
       "      <th>7</th>\n",
       "      <td>20200923</td>\n",
       "      <td>3279.7105</td>\n",
       "    </tr>\n",
       "    <tr>\n",
       "      <th>8</th>\n",
       "      <td>20200922</td>\n",
       "      <td>3274.3015</td>\n",
       "    </tr>\n",
       "    <tr>\n",
       "      <th>9</th>\n",
       "      <td>20200921</td>\n",
       "      <td>3316.9351</td>\n",
       "    </tr>\n",
       "    <tr>\n",
       "      <th>10</th>\n",
       "      <td>20200920</td>\n",
       "      <td>NaN</td>\n",
       "    </tr>\n",
       "    <tr>\n",
       "      <th>11</th>\n",
       "      <td>20200919</td>\n",
       "      <td>NaN</td>\n",
       "    </tr>\n",
       "    <tr>\n",
       "      <th>12</th>\n",
       "      <td>20200918</td>\n",
       "      <td>3338.0897</td>\n",
       "    </tr>\n",
       "    <tr>\n",
       "      <th>13</th>\n",
       "      <td>20200917</td>\n",
       "      <td>3270.4350</td>\n",
       "    </tr>\n",
       "    <tr>\n",
       "      <th>14</th>\n",
       "      <td>20200916</td>\n",
       "      <td>3283.9244</td>\n",
       "    </tr>\n",
       "    <tr>\n",
       "      <th>15</th>\n",
       "      <td>20200915</td>\n",
       "      <td>3295.6795</td>\n",
       "    </tr>\n",
       "    <tr>\n",
       "      <th>16</th>\n",
       "      <td>20200914</td>\n",
       "      <td>3278.8138</td>\n",
       "    </tr>\n",
       "    <tr>\n",
       "      <th>17</th>\n",
       "      <td>20200913</td>\n",
       "      <td>NaN</td>\n",
       "    </tr>\n",
       "    <tr>\n",
       "      <th>18</th>\n",
       "      <td>20200912</td>\n",
       "      <td>NaN</td>\n",
       "    </tr>\n",
       "    <tr>\n",
       "      <th>19</th>\n",
       "      <td>20200911</td>\n",
       "      <td>3260.3461</td>\n",
       "    </tr>\n",
       "    <tr>\n",
       "      <th>20</th>\n",
       "      <td>20200910</td>\n",
       "      <td>3234.8234</td>\n",
       "    </tr>\n",
       "    <tr>\n",
       "      <th>21</th>\n",
       "      <td>20200909</td>\n",
       "      <td>3254.6279</td>\n",
       "    </tr>\n",
       "    <tr>\n",
       "      <th>22</th>\n",
       "      <td>20200908</td>\n",
       "      <td>3316.4170</td>\n",
       "    </tr>\n",
       "    <tr>\n",
       "      <th>23</th>\n",
       "      <td>20200907</td>\n",
       "      <td>3292.5907</td>\n",
       "    </tr>\n",
       "    <tr>\n",
       "      <th>24</th>\n",
       "      <td>20200906</td>\n",
       "      <td>NaN</td>\n",
       "    </tr>\n",
       "    <tr>\n",
       "      <th>25</th>\n",
       "      <td>20200905</td>\n",
       "      <td>NaN</td>\n",
       "    </tr>\n",
       "    <tr>\n",
       "      <th>26</th>\n",
       "      <td>20200904</td>\n",
       "      <td>3355.3666</td>\n",
       "    </tr>\n",
       "    <tr>\n",
       "      <th>27</th>\n",
       "      <td>20200903</td>\n",
       "      <td>3384.9806</td>\n",
       "    </tr>\n",
       "    <tr>\n",
       "      <th>28</th>\n",
       "      <td>20200902</td>\n",
       "      <td>3404.8017</td>\n",
       "    </tr>\n",
       "  </tbody>\n",
       "</table>\n",
       "</div>"
      ],
      "text/plain": [
       "        date      value\n",
       "0   20200930  3218.0521\n",
       "1   20200929  3224.3593\n",
       "2   20200928  3217.5346\n",
       "3   20200927        NaN\n",
       "4   20200926        NaN\n",
       "5   20200925  3219.4179\n",
       "6   20200924  3223.1764\n",
       "7   20200923  3279.7105\n",
       "8   20200922  3274.3015\n",
       "9   20200921  3316.9351\n",
       "10  20200920        NaN\n",
       "11  20200919        NaN\n",
       "12  20200918  3338.0897\n",
       "13  20200917  3270.4350\n",
       "14  20200916  3283.9244\n",
       "15  20200915  3295.6795\n",
       "16  20200914  3278.8138\n",
       "17  20200913        NaN\n",
       "18  20200912        NaN\n",
       "19  20200911  3260.3461\n",
       "20  20200910  3234.8234\n",
       "21  20200909  3254.6279\n",
       "22  20200908  3316.4170\n",
       "23  20200907  3292.5907\n",
       "24  20200906        NaN\n",
       "25  20200905        NaN\n",
       "26  20200904  3355.3666\n",
       "27  20200903  3384.9806\n",
       "28  20200902  3404.8017"
      ]
     },
     "execution_count": 131,
     "metadata": {
      "tags": []
     },
     "output_type": "execute_result"
    }
   ],
   "source": [
    "import pandas as pd\n",
    "data_value = pd.read_csv('../data/dataset/value.csv',encoding='utf-8')\n",
    "data_value"
   ]
  },
  {
   "cell_type": "code",
   "execution_count": 132,
   "metadata": {
    "colab": {
     "base_uri": "https://localhost:8080/",
     "height": 948
    },
    "collapsed": true,
    "executionInfo": {
     "elapsed": 2784,
     "status": "ok",
     "timestamp": 1608986838729,
     "user": {
      "displayName": "Xingming Zeng",
      "photoUrl": "https://lh3.googleusercontent.com/a-/AOh14Gg1zAEwRE9l60AQWAypJxdyFdkCJKuTmpgRLAOe=s64",
      "userId": "17085929984053572921"
     },
     "user_tz": -480
    },
    "id": "XDkOGxvUlepF",
    "outputId": "9091b6e0-99e6-4222-ade0-8bbd668daaa5"
   },
   "outputs": [
    {
     "data": {
      "text/html": [
       "<div>\n",
       "<style scoped>\n",
       "    .dataframe tbody tr th:only-of-type {\n",
       "        vertical-align: middle;\n",
       "    }\n",
       "\n",
       "    .dataframe tbody tr th {\n",
       "        vertical-align: top;\n",
       "    }\n",
       "\n",
       "    .dataframe thead th {\n",
       "        text-align: right;\n",
       "    }\n",
       "</style>\n",
       "<table border=\"1\" class=\"dataframe\">\n",
       "  <thead>\n",
       "    <tr style=\"text-align: right;\">\n",
       "      <th></th>\n",
       "      <th>date</th>\n",
       "      <th>value</th>\n",
       "    </tr>\n",
       "  </thead>\n",
       "  <tbody>\n",
       "    <tr>\n",
       "      <th>0</th>\n",
       "      <td>20200930</td>\n",
       "      <td>3218.0521</td>\n",
       "    </tr>\n",
       "    <tr>\n",
       "      <th>1</th>\n",
       "      <td>20200929</td>\n",
       "      <td>3224.3593</td>\n",
       "    </tr>\n",
       "    <tr>\n",
       "      <th>2</th>\n",
       "      <td>20200928</td>\n",
       "      <td>3217.5346</td>\n",
       "    </tr>\n",
       "    <tr>\n",
       "      <th>3</th>\n",
       "      <td>20200927</td>\n",
       "      <td>3217.5346</td>\n",
       "    </tr>\n",
       "    <tr>\n",
       "      <th>4</th>\n",
       "      <td>20200926</td>\n",
       "      <td>3219.4179</td>\n",
       "    </tr>\n",
       "    <tr>\n",
       "      <th>5</th>\n",
       "      <td>20200925</td>\n",
       "      <td>3219.4179</td>\n",
       "    </tr>\n",
       "    <tr>\n",
       "      <th>6</th>\n",
       "      <td>20200924</td>\n",
       "      <td>3223.1764</td>\n",
       "    </tr>\n",
       "    <tr>\n",
       "      <th>7</th>\n",
       "      <td>20200923</td>\n",
       "      <td>3279.7105</td>\n",
       "    </tr>\n",
       "    <tr>\n",
       "      <th>8</th>\n",
       "      <td>20200922</td>\n",
       "      <td>3274.3015</td>\n",
       "    </tr>\n",
       "    <tr>\n",
       "      <th>9</th>\n",
       "      <td>20200921</td>\n",
       "      <td>3316.9351</td>\n",
       "    </tr>\n",
       "    <tr>\n",
       "      <th>10</th>\n",
       "      <td>20200920</td>\n",
       "      <td>3316.9351</td>\n",
       "    </tr>\n",
       "    <tr>\n",
       "      <th>11</th>\n",
       "      <td>20200919</td>\n",
       "      <td>3338.0897</td>\n",
       "    </tr>\n",
       "    <tr>\n",
       "      <th>12</th>\n",
       "      <td>20200918</td>\n",
       "      <td>3338.0897</td>\n",
       "    </tr>\n",
       "    <tr>\n",
       "      <th>13</th>\n",
       "      <td>20200917</td>\n",
       "      <td>3270.4350</td>\n",
       "    </tr>\n",
       "    <tr>\n",
       "      <th>14</th>\n",
       "      <td>20200916</td>\n",
       "      <td>3283.9244</td>\n",
       "    </tr>\n",
       "    <tr>\n",
       "      <th>15</th>\n",
       "      <td>20200915</td>\n",
       "      <td>3295.6795</td>\n",
       "    </tr>\n",
       "    <tr>\n",
       "      <th>16</th>\n",
       "      <td>20200914</td>\n",
       "      <td>3278.8138</td>\n",
       "    </tr>\n",
       "    <tr>\n",
       "      <th>17</th>\n",
       "      <td>20200913</td>\n",
       "      <td>3278.8138</td>\n",
       "    </tr>\n",
       "    <tr>\n",
       "      <th>18</th>\n",
       "      <td>20200912</td>\n",
       "      <td>3260.3461</td>\n",
       "    </tr>\n",
       "    <tr>\n",
       "      <th>19</th>\n",
       "      <td>20200911</td>\n",
       "      <td>3260.3461</td>\n",
       "    </tr>\n",
       "    <tr>\n",
       "      <th>20</th>\n",
       "      <td>20200910</td>\n",
       "      <td>3234.8234</td>\n",
       "    </tr>\n",
       "    <tr>\n",
       "      <th>21</th>\n",
       "      <td>20200909</td>\n",
       "      <td>3254.6279</td>\n",
       "    </tr>\n",
       "    <tr>\n",
       "      <th>22</th>\n",
       "      <td>20200908</td>\n",
       "      <td>3316.4170</td>\n",
       "    </tr>\n",
       "    <tr>\n",
       "      <th>23</th>\n",
       "      <td>20200907</td>\n",
       "      <td>3292.5907</td>\n",
       "    </tr>\n",
       "    <tr>\n",
       "      <th>24</th>\n",
       "      <td>20200906</td>\n",
       "      <td>3292.5907</td>\n",
       "    </tr>\n",
       "    <tr>\n",
       "      <th>25</th>\n",
       "      <td>20200905</td>\n",
       "      <td>3355.3666</td>\n",
       "    </tr>\n",
       "    <tr>\n",
       "      <th>26</th>\n",
       "      <td>20200904</td>\n",
       "      <td>3355.3666</td>\n",
       "    </tr>\n",
       "    <tr>\n",
       "      <th>27</th>\n",
       "      <td>20200903</td>\n",
       "      <td>3384.9806</td>\n",
       "    </tr>\n",
       "    <tr>\n",
       "      <th>28</th>\n",
       "      <td>20200902</td>\n",
       "      <td>3404.8017</td>\n",
       "    </tr>\n",
       "  </tbody>\n",
       "</table>\n",
       "</div>"
      ],
      "text/plain": [
       "        date      value\n",
       "0   20200930  3218.0521\n",
       "1   20200929  3224.3593\n",
       "2   20200928  3217.5346\n",
       "3   20200927  3217.5346\n",
       "4   20200926  3219.4179\n",
       "5   20200925  3219.4179\n",
       "6   20200924  3223.1764\n",
       "7   20200923  3279.7105\n",
       "8   20200922  3274.3015\n",
       "9   20200921  3316.9351\n",
       "10  20200920  3316.9351\n",
       "11  20200919  3338.0897\n",
       "12  20200918  3338.0897\n",
       "13  20200917  3270.4350\n",
       "14  20200916  3283.9244\n",
       "15  20200915  3295.6795\n",
       "16  20200914  3278.8138\n",
       "17  20200913  3278.8138\n",
       "18  20200912  3260.3461\n",
       "19  20200911  3260.3461\n",
       "20  20200910  3234.8234\n",
       "21  20200909  3254.6279\n",
       "22  20200908  3316.4170\n",
       "23  20200907  3292.5907\n",
       "24  20200906  3292.5907\n",
       "25  20200905  3355.3666\n",
       "26  20200904  3355.3666\n",
       "27  20200903  3384.9806\n",
       "28  20200902  3404.8017"
      ]
     },
     "execution_count": 132,
     "metadata": {
      "tags": []
     },
     "output_type": "execute_result"
    }
   ],
   "source": [
    "data_value['value'] = data_value['value'].interpolate(method='nearest')\n",
    "data_value"
   ]
  },
  {
   "cell_type": "code",
   "execution_count": 133,
   "metadata": {
    "colab": {
     "base_uri": "https://localhost:8080/"
    },
    "collapsed": true,
    "executionInfo": {
     "elapsed": 2762,
     "status": "ok",
     "timestamp": 1608986838730,
     "user": {
      "displayName": "Xingming Zeng",
      "photoUrl": "https://lh3.googleusercontent.com/a-/AOh14Gg1zAEwRE9l60AQWAypJxdyFdkCJKuTmpgRLAOe=s64",
      "userId": "17085929984053572921"
     },
     "user_tz": -480
    },
    "id": "en0AG6GCl-3W",
    "outputId": "53c7aa1f-d5e8-4e4a-8f9a-d50322df782d"
   },
   "outputs": [
    {
     "name": "stdout",
     "output_type": "stream",
     "text": [
      "<class 'pandas.core.frame.DataFrame'>\n",
      "RangeIndex: 29 entries, 0 to 28\n",
      "Data columns (total 2 columns):\n",
      " #   Column  Non-Null Count  Dtype  \n",
      "---  ------  --------------  -----  \n",
      " 0   date    29 non-null     int64  \n",
      " 1   value   29 non-null     float64\n",
      "dtypes: float64(1), int64(1)\n",
      "memory usage: 592.0 bytes\n"
     ]
    }
   ],
   "source": [
    "data_value.info()"
   ]
  },
  {
   "cell_type": "code",
   "execution_count": 134,
   "metadata": {
    "executionInfo": {
     "elapsed": 2743,
     "status": "ok",
     "timestamp": 1608986838731,
     "user": {
      "displayName": "Xingming Zeng",
      "photoUrl": "https://lh3.googleusercontent.com/a-/AOh14Gg1zAEwRE9l60AQWAypJxdyFdkCJKuTmpgRLAOe=s64",
      "userId": "17085929984053572921"
     },
     "user_tz": -480
    },
    "id": "g3_BxPeismQR"
   },
   "outputs": [],
   "source": [
    "data_value['date'] = data_value['date'].astype(object)"
   ]
  },
  {
   "cell_type": "code",
   "execution_count": 135,
   "metadata": {
    "colab": {
     "base_uri": "https://localhost:8080/"
    },
    "executionInfo": {
     "elapsed": 2730,
     "status": "ok",
     "timestamp": 1608986838732,
     "user": {
      "displayName": "Xingming Zeng",
      "photoUrl": "https://lh3.googleusercontent.com/a-/AOh14Gg1zAEwRE9l60AQWAypJxdyFdkCJKuTmpgRLAOe=s64",
      "userId": "17085929984053572921"
     },
     "user_tz": -480
    },
    "id": "iMhhNDXKs7fm",
    "outputId": "6558ac36-5d35-449a-8604-93be446e10b0"
   },
   "outputs": [
    {
     "name": "stdout",
     "output_type": "stream",
     "text": [
      "<class 'pandas.core.frame.DataFrame'>\n",
      "RangeIndex: 29 entries, 0 to 28\n",
      "Data columns (total 2 columns):\n",
      " #   Column  Non-Null Count  Dtype  \n",
      "---  ------  --------------  -----  \n",
      " 0   date    29 non-null     object \n",
      " 1   value   29 non-null     float64\n",
      "dtypes: float64(1), object(1)\n",
      "memory usage: 592.0+ bytes\n"
     ]
    }
   ],
   "source": [
    "data_value.info()"
   ]
  },
  {
   "cell_type": "code",
   "execution_count": 136,
   "metadata": {
    "colab": {
     "base_uri": "https://localhost:8080/",
     "height": 297
    },
    "executionInfo": {
     "elapsed": 3312,
     "status": "ok",
     "timestamp": 1608986839340,
     "user": {
      "displayName": "Xingming Zeng",
      "photoUrl": "https://lh3.googleusercontent.com/a-/AOh14Gg1zAEwRE9l60AQWAypJxdyFdkCJKuTmpgRLAOe=s64",
      "userId": "17085929984053572921"
     },
     "user_tz": -480
    },
    "id": "RYrpAfpKsstn",
    "outputId": "5012a40c-5401-41be-bd8f-4925b1385917"
   },
   "outputs": [
    {
     "data": {
      "text/plain": [
       "<matplotlib.axes._subplots.AxesSubplot at 0x7f8e806189b0>"
      ]
     },
     "execution_count": 136,
     "metadata": {
      "tags": []
     },
     "output_type": "execute_result"
    },
    {
     "data": {
      "image/png": "[encoded data removed]",
      "text/plain": [
       "<Figure size 432x288 with 1 Axes>"
      ]
     },
     "metadata": {
      "needs_background": "light",
      "tags": []
     },
     "output_type": "display_data"
    }
   ],
   "source": [
    "data_value.plot(x='date',y='value')"
   ]
  },
  {
   "cell_type": "code",
   "execution_count": 137,
   "metadata": {
    "executionInfo": {
     "elapsed": 3297,
     "status": "ok",
     "timestamp": 1608986839342,
     "user": {
      "displayName": "Xingming Zeng",
      "photoUrl": "https://lh3.googleusercontent.com/a-/AOh14Gg1zAEwRE9l60AQWAypJxdyFdkCJKuTmpgRLAOe=s64",
      "userId": "17085929984053572921"
     },
     "user_tz": -480
    },
    "id": "GyHsUCXC0lso"
   },
   "outputs": [],
   "source": [
    "data_value = data_value[::-1]"
   ]
  },
  {
   "cell_type": "code",
   "execution_count": 138,
   "metadata": {
    "executionInfo": {
     "elapsed": 3288,
     "status": "ok",
     "timestamp": 1608986839344,
     "user": {
      "displayName": "Xingming Zeng",
      "photoUrl": "https://lh3.googleusercontent.com/a-/AOh14Gg1zAEwRE9l60AQWAypJxdyFdkCJKuTmpgRLAOe=s64",
      "userId": "17085929984053572921"
     },
     "user_tz": -480
    },
    "id": "sWkUUk5Nuocy"
   },
   "outputs": [],
   "source": [
    "data.to_csv('../data/dataset/sentimet_data.csv',encoding='utf-8',index=False)"
   ]
  },
  {
   "cell_type": "code",
   "execution_count": 139,
   "metadata": {
    "executionInfo": {
     "elapsed": 3278,
     "status": "ok",
     "timestamp": 1608986839345,
     "user": {
      "displayName": "Xingming Zeng",
      "photoUrl": "https://lh3.googleusercontent.com/a-/AOh14Gg1zAEwRE9l60AQWAypJxdyFdkCJKuTmpgRLAOe=s64",
      "userId": "17085929984053572921"
     },
     "user_tz": -480
    },
    "id": "yzns8Sgdu19w"
   },
   "outputs": [],
   "source": [
    "data_value.to_csv('../data/dataset/value_data.csv',encoding='utf-8',index=False)"
   ]
  },
  {
   "cell_type": "markdown",
   "metadata": {
    "id": "245G2sr-uioW"
   },
   "source": [
    "# 相关性检验"
   ]
  },
  {
   "cell_type": "code",
   "execution_count": 140,
   "metadata": {
    "executionInfo": {
     "elapsed": 3270,
     "status": "ok",
     "timestamp": 1608986839347,
     "user": {
      "displayName": "Xingming Zeng",
      "photoUrl": "https://lh3.googleusercontent.com/a-/AOh14Gg1zAEwRE9l60AQWAypJxdyFdkCJKuTmpgRLAOe=s64",
      "userId": "17085929984053572921"
     },
     "user_tz": -480
    },
    "id": "SeBunMvbvAj-"
   },
   "outputs": [],
   "source": [
    "sentiment_data = pd.read_csv('../data/dataset/sentimet_data.csv')\n",
    "value_data = pd.read_csv('../data/dataset/value_data.csv')"
   ]
  },
  {
   "cell_type": "code",
   "execution_count": 141,
   "metadata": {
    "colab": {
     "base_uri": "https://localhost:8080/",
     "height": 948
    },
    "collapsed": true,
    "executionInfo": {
     "elapsed": 3257,
     "status": "ok",
     "timestamp": 1608986839348,
     "user": {
      "displayName": "Xingming Zeng",
      "photoUrl": "https://lh3.googleusercontent.com/a-/AOh14Gg1zAEwRE9l60AQWAypJxdyFdkCJKuTmpgRLAOe=s64",
      "userId": "17085929984053572921"
     },
     "user_tz": -480
    },
    "id": "PyjcK4YhzAZb",
    "outputId": "931fcd78-f675-4433-92c0-ec7cbc13af67"
   },
   "outputs": [
    {
     "data": {
      "text/html": [
       "<div>\n",
       "<style scoped>\n",
       "    .dataframe tbody tr th:only-of-type {\n",
       "        vertical-align: middle;\n",
       "    }\n",
       "\n",
       "    .dataframe tbody tr th {\n",
       "        vertical-align: top;\n",
       "    }\n",
       "\n",
       "    .dataframe thead th {\n",
       "        text-align: right;\n",
       "    }\n",
       "</style>\n",
       "<table border=\"1\" class=\"dataframe\">\n",
       "  <thead>\n",
       "    <tr style=\"text-align: right;\">\n",
       "      <th></th>\n",
       "      <th>date</th>\n",
       "      <th>sentiment_score</th>\n",
       "    </tr>\n",
       "  </thead>\n",
       "  <tbody>\n",
       "    <tr>\n",
       "      <th>0</th>\n",
       "      <td>20200901</td>\n",
       "      <td>1.132737</td>\n",
       "    </tr>\n",
       "    <tr>\n",
       "      <th>1</th>\n",
       "      <td>20200902</td>\n",
       "      <td>9.976435</td>\n",
       "    </tr>\n",
       "    <tr>\n",
       "      <th>2</th>\n",
       "      <td>20200903</td>\n",
       "      <td>8.414232</td>\n",
       "    </tr>\n",
       "    <tr>\n",
       "      <th>3</th>\n",
       "      <td>20200904</td>\n",
       "      <td>6.710577</td>\n",
       "    </tr>\n",
       "    <tr>\n",
       "      <th>4</th>\n",
       "      <td>20200905</td>\n",
       "      <td>1.580076</td>\n",
       "    </tr>\n",
       "    <tr>\n",
       "      <th>5</th>\n",
       "      <td>20200906</td>\n",
       "      <td>3.290361</td>\n",
       "    </tr>\n",
       "    <tr>\n",
       "      <th>6</th>\n",
       "      <td>20200907</td>\n",
       "      <td>3.607998</td>\n",
       "    </tr>\n",
       "    <tr>\n",
       "      <th>7</th>\n",
       "      <td>20200908</td>\n",
       "      <td>8.998715</td>\n",
       "    </tr>\n",
       "    <tr>\n",
       "      <th>8</th>\n",
       "      <td>20200909</td>\n",
       "      <td>6.097884</td>\n",
       "    </tr>\n",
       "    <tr>\n",
       "      <th>9</th>\n",
       "      <td>20200910</td>\n",
       "      <td>3.471963</td>\n",
       "    </tr>\n",
       "    <tr>\n",
       "      <th>10</th>\n",
       "      <td>20200911</td>\n",
       "      <td>3.693090</td>\n",
       "    </tr>\n",
       "    <tr>\n",
       "      <th>11</th>\n",
       "      <td>20200912</td>\n",
       "      <td>1.230233</td>\n",
       "    </tr>\n",
       "    <tr>\n",
       "      <th>12</th>\n",
       "      <td>20200913</td>\n",
       "      <td>3.776500</td>\n",
       "    </tr>\n",
       "    <tr>\n",
       "      <th>13</th>\n",
       "      <td>20200914</td>\n",
       "      <td>3.084860</td>\n",
       "    </tr>\n",
       "    <tr>\n",
       "      <th>14</th>\n",
       "      <td>20200915</td>\n",
       "      <td>2.748819</td>\n",
       "    </tr>\n",
       "    <tr>\n",
       "      <th>15</th>\n",
       "      <td>20200916</td>\n",
       "      <td>4.995061</td>\n",
       "    </tr>\n",
       "    <tr>\n",
       "      <th>16</th>\n",
       "      <td>20200917</td>\n",
       "      <td>3.407770</td>\n",
       "    </tr>\n",
       "    <tr>\n",
       "      <th>17</th>\n",
       "      <td>20200918</td>\n",
       "      <td>3.039009</td>\n",
       "    </tr>\n",
       "    <tr>\n",
       "      <th>18</th>\n",
       "      <td>20200919</td>\n",
       "      <td>2.151128</td>\n",
       "    </tr>\n",
       "    <tr>\n",
       "      <th>19</th>\n",
       "      <td>20200920</td>\n",
       "      <td>2.261104</td>\n",
       "    </tr>\n",
       "    <tr>\n",
       "      <th>20</th>\n",
       "      <td>20200921</td>\n",
       "      <td>5.062647</td>\n",
       "    </tr>\n",
       "    <tr>\n",
       "      <th>21</th>\n",
       "      <td>20200922</td>\n",
       "      <td>4.166118</td>\n",
       "    </tr>\n",
       "    <tr>\n",
       "      <th>22</th>\n",
       "      <td>20200923</td>\n",
       "      <td>1.760465</td>\n",
       "    </tr>\n",
       "    <tr>\n",
       "      <th>23</th>\n",
       "      <td>20200924</td>\n",
       "      <td>3.715903</td>\n",
       "    </tr>\n",
       "    <tr>\n",
       "      <th>24</th>\n",
       "      <td>20200925</td>\n",
       "      <td>3.752125</td>\n",
       "    </tr>\n",
       "    <tr>\n",
       "      <th>25</th>\n",
       "      <td>20200926</td>\n",
       "      <td>0.817194</td>\n",
       "    </tr>\n",
       "    <tr>\n",
       "      <th>26</th>\n",
       "      <td>20200927</td>\n",
       "      <td>0.602948</td>\n",
       "    </tr>\n",
       "    <tr>\n",
       "      <th>27</th>\n",
       "      <td>20200928</td>\n",
       "      <td>3.882129</td>\n",
       "    </tr>\n",
       "    <tr>\n",
       "      <th>28</th>\n",
       "      <td>20200929</td>\n",
       "      <td>3.726630</td>\n",
       "    </tr>\n",
       "  </tbody>\n",
       "</table>\n",
       "</div>"
      ],
      "text/plain": [
       "        date  sentiment_score\n",
       "0   20200901         1.132737\n",
       "1   20200902         9.976435\n",
       "2   20200903         8.414232\n",
       "3   20200904         6.710577\n",
       "4   20200905         1.580076\n",
       "5   20200906         3.290361\n",
       "6   20200907         3.607998\n",
       "7   20200908         8.998715\n",
       "8   20200909         6.097884\n",
       "9   20200910         3.471963\n",
       "10  20200911         3.693090\n",
       "11  20200912         1.230233\n",
       "12  20200913         3.776500\n",
       "13  20200914         3.084860\n",
       "14  20200915         2.748819\n",
       "15  20200916         4.995061\n",
       "16  20200917         3.407770\n",
       "17  20200918         3.039009\n",
       "18  20200919         2.151128\n",
       "19  20200920         2.261104\n",
       "20  20200921         5.062647\n",
       "21  20200922         4.166118\n",
       "22  20200923         1.760465\n",
       "23  20200924         3.715903\n",
       "24  20200925         3.752125\n",
       "25  20200926         0.817194\n",
       "26  20200927         0.602948\n",
       "27  20200928         3.882129\n",
       "28  20200929         3.726630"
      ]
     },
     "execution_count": 141,
     "metadata": {
      "tags": []
     },
     "output_type": "execute_result"
    }
   ],
   "source": [
    "sentiment_data"
   ]
  },
  {
   "cell_type": "code",
   "execution_count": 142,
   "metadata": {
    "colab": {
     "base_uri": "https://localhost:8080/",
     "height": 948
    },
    "collapsed": true,
    "executionInfo": {
     "elapsed": 3235,
     "status": "ok",
     "timestamp": 1608986839350,
     "user": {
      "displayName": "Xingming Zeng",
      "photoUrl": "https://lh3.googleusercontent.com/a-/AOh14Gg1zAEwRE9l60AQWAypJxdyFdkCJKuTmpgRLAOe=s64",
      "userId": "17085929984053572921"
     },
     "user_tz": -480
    },
    "id": "uv3DlV_ZxCzZ",
    "outputId": "e5e83762-9de8-4b41-ae6a-aa7394705eb7"
   },
   "outputs": [
    {
     "data": {
      "text/html": [
       "<div>\n",
       "<style scoped>\n",
       "    .dataframe tbody tr th:only-of-type {\n",
       "        vertical-align: middle;\n",
       "    }\n",
       "\n",
       "    .dataframe tbody tr th {\n",
       "        vertical-align: top;\n",
       "    }\n",
       "\n",
       "    .dataframe thead th {\n",
       "        text-align: right;\n",
       "    }\n",
       "</style>\n",
       "<table border=\"1\" class=\"dataframe\">\n",
       "  <thead>\n",
       "    <tr style=\"text-align: right;\">\n",
       "      <th></th>\n",
       "      <th>date</th>\n",
       "      <th>value</th>\n",
       "    </tr>\n",
       "  </thead>\n",
       "  <tbody>\n",
       "    <tr>\n",
       "      <th>0</th>\n",
       "      <td>20200902</td>\n",
       "      <td>3404.8017</td>\n",
       "    </tr>\n",
       "    <tr>\n",
       "      <th>1</th>\n",
       "      <td>20200903</td>\n",
       "      <td>3384.9806</td>\n",
       "    </tr>\n",
       "    <tr>\n",
       "      <th>2</th>\n",
       "      <td>20200904</td>\n",
       "      <td>3355.3666</td>\n",
       "    </tr>\n",
       "    <tr>\n",
       "      <th>3</th>\n",
       "      <td>20200905</td>\n",
       "      <td>3355.3666</td>\n",
       "    </tr>\n",
       "    <tr>\n",
       "      <th>4</th>\n",
       "      <td>20200906</td>\n",
       "      <td>3292.5907</td>\n",
       "    </tr>\n",
       "    <tr>\n",
       "      <th>5</th>\n",
       "      <td>20200907</td>\n",
       "      <td>3292.5907</td>\n",
       "    </tr>\n",
       "    <tr>\n",
       "      <th>6</th>\n",
       "      <td>20200908</td>\n",
       "      <td>3316.4170</td>\n",
       "    </tr>\n",
       "    <tr>\n",
       "      <th>7</th>\n",
       "      <td>20200909</td>\n",
       "      <td>3254.6279</td>\n",
       "    </tr>\n",
       "    <tr>\n",
       "      <th>8</th>\n",
       "      <td>20200910</td>\n",
       "      <td>3234.8234</td>\n",
       "    </tr>\n",
       "    <tr>\n",
       "      <th>9</th>\n",
       "      <td>20200911</td>\n",
       "      <td>3260.3461</td>\n",
       "    </tr>\n",
       "    <tr>\n",
       "      <th>10</th>\n",
       "      <td>20200912</td>\n",
       "      <td>3260.3461</td>\n",
       "    </tr>\n",
       "    <tr>\n",
       "      <th>11</th>\n",
       "      <td>20200913</td>\n",
       "      <td>3278.8138</td>\n",
       "    </tr>\n",
       "    <tr>\n",
       "      <th>12</th>\n",
       "      <td>20200914</td>\n",
       "      <td>3278.8138</td>\n",
       "    </tr>\n",
       "    <tr>\n",
       "      <th>13</th>\n",
       "      <td>20200915</td>\n",
       "      <td>3295.6795</td>\n",
       "    </tr>\n",
       "    <tr>\n",
       "      <th>14</th>\n",
       "      <td>20200916</td>\n",
       "      <td>3283.9244</td>\n",
       "    </tr>\n",
       "    <tr>\n",
       "      <th>15</th>\n",
       "      <td>20200917</td>\n",
       "      <td>3270.4350</td>\n",
       "    </tr>\n",
       "    <tr>\n",
       "      <th>16</th>\n",
       "      <td>20200918</td>\n",
       "      <td>3338.0897</td>\n",
       "    </tr>\n",
       "    <tr>\n",
       "      <th>17</th>\n",
       "      <td>20200919</td>\n",
       "      <td>3338.0897</td>\n",
       "    </tr>\n",
       "    <tr>\n",
       "      <th>18</th>\n",
       "      <td>20200920</td>\n",
       "      <td>3316.9351</td>\n",
       "    </tr>\n",
       "    <tr>\n",
       "      <th>19</th>\n",
       "      <td>20200921</td>\n",
       "      <td>3316.9351</td>\n",
       "    </tr>\n",
       "    <tr>\n",
       "      <th>20</th>\n",
       "      <td>20200922</td>\n",
       "      <td>3274.3015</td>\n",
       "    </tr>\n",
       "    <tr>\n",
       "      <th>21</th>\n",
       "      <td>20200923</td>\n",
       "      <td>3279.7105</td>\n",
       "    </tr>\n",
       "    <tr>\n",
       "      <th>22</th>\n",
       "      <td>20200924</td>\n",
       "      <td>3223.1764</td>\n",
       "    </tr>\n",
       "    <tr>\n",
       "      <th>23</th>\n",
       "      <td>20200925</td>\n",
       "      <td>3219.4179</td>\n",
       "    </tr>\n",
       "    <tr>\n",
       "      <th>24</th>\n",
       "      <td>20200926</td>\n",
       "      <td>3219.4179</td>\n",
       "    </tr>\n",
       "    <tr>\n",
       "      <th>25</th>\n",
       "      <td>20200927</td>\n",
       "      <td>3217.5346</td>\n",
       "    </tr>\n",
       "    <tr>\n",
       "      <th>26</th>\n",
       "      <td>20200928</td>\n",
       "      <td>3217.5346</td>\n",
       "    </tr>\n",
       "    <tr>\n",
       "      <th>27</th>\n",
       "      <td>20200929</td>\n",
       "      <td>3224.3593</td>\n",
       "    </tr>\n",
       "    <tr>\n",
       "      <th>28</th>\n",
       "      <td>20200930</td>\n",
       "      <td>3218.0521</td>\n",
       "    </tr>\n",
       "  </tbody>\n",
       "</table>\n",
       "</div>"
      ],
      "text/plain": [
       "        date      value\n",
       "0   20200902  3404.8017\n",
       "1   20200903  3384.9806\n",
       "2   20200904  3355.3666\n",
       "3   20200905  3355.3666\n",
       "4   20200906  3292.5907\n",
       "5   20200907  3292.5907\n",
       "6   20200908  3316.4170\n",
       "7   20200909  3254.6279\n",
       "8   20200910  3234.8234\n",
       "9   20200911  3260.3461\n",
       "10  20200912  3260.3461\n",
       "11  20200913  3278.8138\n",
       "12  20200914  3278.8138\n",
       "13  20200915  3295.6795\n",
       "14  20200916  3283.9244\n",
       "15  20200917  3270.4350\n",
       "16  20200918  3338.0897\n",
       "17  20200919  3338.0897\n",
       "18  20200920  3316.9351\n",
       "19  20200921  3316.9351\n",
       "20  20200922  3274.3015\n",
       "21  20200923  3279.7105\n",
       "22  20200924  3223.1764\n",
       "23  20200925  3219.4179\n",
       "24  20200926  3219.4179\n",
       "25  20200927  3217.5346\n",
       "26  20200928  3217.5346\n",
       "27  20200929  3224.3593\n",
       "28  20200930  3218.0521"
      ]
     },
     "execution_count": 142,
     "metadata": {
      "tags": []
     },
     "output_type": "execute_result"
    }
   ],
   "source": [
    "value_data"
   ]
  },
  {
   "cell_type": "code",
   "execution_count": 143,
   "metadata": {
    "colab": {
     "base_uri": "https://localhost:8080/"
    },
    "executionInfo": {
     "elapsed": 3216,
     "status": "ok",
     "timestamp": 1608986839353,
     "user": {
      "displayName": "Xingming Zeng",
      "photoUrl": "https://lh3.googleusercontent.com/a-/AOh14Gg1zAEwRE9l60AQWAypJxdyFdkCJKuTmpgRLAOe=s64",
      "userId": "17085929984053572921"
     },
     "user_tz": -480
    },
    "id": "V1gbx6jBsusU",
    "outputId": "d1af10e8-6609-4bef-be6e-4f34ecc6777a"
   },
   "outputs": [
    {
     "name": "stdout",
     "output_type": "stream",
     "text": [
      "stat=0.937, p=0.082\n",
      "不能拒绝原假设，样本数据服从正态分布\n"
     ]
    }
   ],
   "source": [
    "from scipy.stats import shapiro\n",
    "data1 = value_data.value\n",
    "stat, p = shapiro(data1)\n",
    "print('stat=%.3f, p=%.3f' % (stat, p))\n",
    "if p > 0.05:\n",
    "    print('不能拒绝原假设，样本数据服从正态分布')\n",
    "else:\n",
    "    print('不服从正态分布')"
   ]
  },
  {
   "cell_type": "code",
   "execution_count": 144,
   "metadata": {
    "colab": {
     "base_uri": "https://localhost:8080/"
    },
    "executionInfo": {
     "elapsed": 3200,
     "status": "ok",
     "timestamp": 1608986839355,
     "user": {
      "displayName": "Xingming Zeng",
      "photoUrl": "https://lh3.googleusercontent.com/a-/AOh14Gg1zAEwRE9l60AQWAypJxdyFdkCJKuTmpgRLAOe=s64",
      "userId": "17085929984053572921"
     },
     "user_tz": -480
    },
    "id": "FpWxUk0cvTjG",
    "outputId": "d9b5d9b9-a7b6-4992-d2ce-3670f115beea"
   },
   "outputs": [
    {
     "name": "stdout",
     "output_type": "stream",
     "text": [
      "stat=0.948, p=0.161\n",
      "不能拒绝原假设，样本数据服从正态分布\n"
     ]
    }
   ],
   "source": [
    "from scipy.stats import shapiro\n",
    "import numpy as np\n",
    "\n",
    "data2 = np.log(sentiment_data.sentiment_score)\n",
    "stat, p = shapiro(data2)\n",
    "print('stat=%.3f, p=%.3f' % (stat, p))\n",
    "if p > 0.05:\n",
    "    print('不能拒绝原假设，样本数据服从正态分布')\n",
    "else:\n",
    "    print('不服从正态分布')"
   ]
  },
  {
   "cell_type": "code",
   "execution_count": 145,
   "metadata": {
    "colab": {
     "base_uri": "https://localhost:8080/"
    },
    "executionInfo": {
     "elapsed": 3184,
     "status": "ok",
     "timestamp": 1608986839356,
     "user": {
      "displayName": "Xingming Zeng",
      "photoUrl": "https://lh3.googleusercontent.com/a-/AOh14Gg1zAEwRE9l60AQWAypJxdyFdkCJKuTmpgRLAOe=s64",
      "userId": "17085929984053572921"
     },
     "user_tz": -480
    },
    "id": "xlRONbyXvVBd",
    "outputId": "6ee42ff0-8f43-4db8-cd9d-02857caf9099"
   },
   "outputs": [
    {
     "name": "stdout",
     "output_type": "stream",
     "text": [
      "stat=0.207, p=0.280\n",
      "两变量相互独立\n"
     ]
    }
   ],
   "source": [
    "from scipy.stats import pearsonr\n",
    "stat, p = pearsonr(data1, data2)\n",
    "print('stat=%.3f, p=%.3f' % (stat, p))\n",
    "if p > 0.05:\n",
    "    print('两变量相互独立')\n",
    "else:\n",
    "    print('两变量可能存在线性相关关系')"
   ]
  },
  {
   "cell_type": "code",
   "execution_count": 146,
   "metadata": {
    "colab": {
     "base_uri": "https://localhost:8080/"
    },
    "executionInfo": {
     "elapsed": 3166,
     "status": "ok",
     "timestamp": 1608986839356,
     "user": {
      "displayName": "Xingming Zeng",
      "photoUrl": "https://lh3.googleusercontent.com/a-/AOh14Gg1zAEwRE9l60AQWAypJxdyFdkCJKuTmpgRLAOe=s64",
      "userId": "17085929984053572921"
     },
     "user_tz": -480
    },
    "id": "FiEclL15v97I",
    "outputId": "578e51c2-2b12-487a-c9ee-504026370f53"
   },
   "outputs": [
    {
     "name": "stdout",
     "output_type": "stream",
     "text": [
      "stat=0.069, p=0.721\n",
      "两变量相互独立\n"
     ]
    }
   ],
   "source": [
    "from scipy.stats import spearmanr\n",
    "\n",
    "stat, p = spearmanr(data1, data2)\n",
    "print('stat=%.3f, p=%.3f' % (stat, p))\n",
    "if p > 0.05:\n",
    "    print('两变量相互独立')\n",
    "else:\n",
    "    print('两变量可能存在相关关系')"
   ]
  },
  {
   "cell_type": "code",
   "execution_count": 147,
   "metadata": {
    "colab": {
     "base_uri": "https://localhost:8080/",
     "height": 111
    },
    "executionInfo": {
     "elapsed": 3151,
     "status": "ok",
     "timestamp": 1608986839357,
     "user": {
      "displayName": "Xingming Zeng",
      "photoUrl": "https://lh3.googleusercontent.com/a-/AOh14Gg1zAEwRE9l60AQWAypJxdyFdkCJKuTmpgRLAOe=s64",
      "userId": "17085929984053572921"
     },
     "user_tz": -480
    },
    "id": "6dc8bwkc1-6r",
    "outputId": "1edb33b0-3467-4558-c713-21b7bce8cfaf"
   },
   "outputs": [
    {
     "data": {
      "text/html": [
       "<div>\n",
       "<style scoped>\n",
       "    .dataframe tbody tr th:only-of-type {\n",
       "        vertical-align: middle;\n",
       "    }\n",
       "\n",
       "    .dataframe tbody tr th {\n",
       "        vertical-align: top;\n",
       "    }\n",
       "\n",
       "    .dataframe thead th {\n",
       "        text-align: right;\n",
       "    }\n",
       "</style>\n",
       "<table border=\"1\" class=\"dataframe\">\n",
       "  <thead>\n",
       "    <tr style=\"text-align: right;\">\n",
       "      <th></th>\n",
       "      <th>sentiment_score</th>\n",
       "      <th>value</th>\n",
       "    </tr>\n",
       "  </thead>\n",
       "  <tbody>\n",
       "    <tr>\n",
       "      <th>sentiment_score</th>\n",
       "      <td>1.000000</td>\n",
       "      <td>0.262053</td>\n",
       "    </tr>\n",
       "    <tr>\n",
       "      <th>value</th>\n",
       "      <td>0.262053</td>\n",
       "      <td>1.000000</td>\n",
       "    </tr>\n",
       "  </tbody>\n",
       "</table>\n",
       "</div>"
      ],
      "text/plain": [
       "                 sentiment_score     value\n",
       "sentiment_score         1.000000  0.262053\n",
       "value                   0.262053  1.000000"
      ]
     },
     "execution_count": 147,
     "metadata": {
      "tags": []
     },
     "output_type": "execute_result"
    }
   ],
   "source": [
    "cor = pd.DataFrame({'sentiment_score':sentiment_data.sentiment_score, \n",
    "       'value':value_data.value,\n",
    "        })\n",
    "cor.corr()"
   ]
  },
  {
   "cell_type": "code",
   "execution_count": 147,
   "metadata": {
    "executionInfo": {
     "elapsed": 3135,
     "status": "ok",
     "timestamp": 1608986839358,
     "user": {
      "displayName": "Xingming Zeng",
      "photoUrl": "https://lh3.googleusercontent.com/a-/AOh14Gg1zAEwRE9l60AQWAypJxdyFdkCJKuTmpgRLAOe=s64",
      "userId": "17085929984053572921"
     },
     "user_tz": -480
    },
    "id": "RUuQp2OYDtTn"
   },
   "outputs": [],
   "source": []
  }
 ],
 "metadata": {
  "accelerator": "GPU",
  "colab": {
   "collapsed_sections": [],
   "name": "main.ipynb",
   "provenance": []
  },
  "kernelspec": {
   "display_name": "Python 3",
   "language": "python",
   "name": "python3"
  },
  "language_info": {
   "codemirror_mode": {
    "name": "ipython",
    "version": 3
   },
   "file_extension": ".py",
   "mimetype": "text/x-python",
   "name": "python",
   "nbconvert_exporter": "python",
   "pygments_lexer": "ipython3",
   "version": "3.7.6"
  },
  "toc": {
   "base_numbering": 1,
   "nav_menu": {},
   "number_sections": true,
   "sideBar": true,
   "skip_h1_title": false,
   "title_cell": "Table of Contents",
   "title_sidebar": "Contents",
   "toc_cell": false,
   "toc_position": {},
   "toc_section_display": true,
   "toc_window_display": false
  },
  "varInspector": {
   "cols": {
    "lenName": 16,
    "lenType": 16,
    "lenVar": 40
   },
   "kernels_config": {
    "python": {
     "delete_cmd_postfix": "",
     "delete_cmd_prefix": "del ",
     "library": "var_list.py",
     "varRefreshCmd": "print(var_dic_list())"
    },
    "r": {
     "delete_cmd_postfix": ") ",
     "delete_cmd_prefix": "rm(",
     "library": "var_list.r",
     "varRefreshCmd": "cat(var_dic_list()) "
    }
   },
   "types_to_exclude": [
    "module",
    "function",
    "builtin_function_or_method",
    "instance",
    "_Feature"
   ],
   "window_display": false
  },
  "widgets": {
   "application/vnd.jupyter.widget-state+json": {
    "14ca68aa1be84c518cdafadea7a7d39f": {
     "model_module": "@jupyter-widgets/controls",
     "model_name": "ProgressStyleModel",
     "state": {
      "_model_module": "@jupyter-widgets/controls",
      "_model_module_version": "1.5.0",
      "_model_name": "ProgressStyleModel",
      "_view_count": null,
      "_view_module": "@jupyter-widgets/base",
      "_view_module_version": "1.2.0",
      "_view_name": "StyleView",
      "bar_color": null,
      "description_width": "initial"
     }
    },
    "1a52c621796548aea2b265099b4e3336": {
     "model_module": "@jupyter-widgets/controls",
     "model_name": "ProgressStyleModel",
     "state": {
      "_model_module": "@jupyter-widgets/controls",
      "_model_module_version": "1.5.0",
      "_model_name": "ProgressStyleModel",
      "_view_count": null,
      "_view_module": "@jupyter-widgets/base",
      "_view_module_version": "1.2.0",
      "_view_name": "StyleView",
      "bar_color": null,
      "description_width": "initial"
     }
    },
    "221f0e32aa094e6989a138f8dc1a49d2": {
     "model_module": "@jupyter-widgets/base",
     "model_name": "LayoutModel",
     "state": {
      "_model_module": "@jupyter-widgets/base",
      "_model_module_version": "1.2.0",
      "_model_name": "LayoutModel",
      "_view_count": null,
      "_view_module": "@jupyter-widgets/base",
      "_view_module_version": "1.2.0",
      "_view_name": "LayoutView",
      "align_content": null,
      "align_items": null,
      "align_self": null,
      "border": null,
      "bottom": null,
      "display": null,
      "flex": null,
      "flex_flow": null,
      "grid_area": null,
      "grid_auto_columns": null,
      "grid_auto_flow": null,
      "grid_auto_rows": null,
      "grid_column": null,
      "grid_gap": null,
      "grid_row": null,
      "grid_template_areas": null,
      "grid_template_columns": null,
      "grid_template_rows": null,
      "height": null,
      "justify_content": null,
      "justify_items": null,
      "left": null,
      "margin": null,
      "max_height": null,
      "max_width": null,
      "min_height": null,
      "min_width": null,
      "object_fit": null,
      "object_position": null,
      "order": null,
      "overflow": null,
      "overflow_x": null,
      "overflow_y": null,
      "padding": null,
      "right": null,
      "top": null,
      "visibility": null,
      "width": null
     }
    },
    "2cb8196e450a4cb5be0a4af735636ff6": {
     "model_module": "@jupyter-widgets/base",
     "model_name": "LayoutModel",
     "state": {
      "_model_module": "@jupyter-widgets/base",
      "_model_module_version": "1.2.0",
      "_model_name": "LayoutModel",
      "_view_count": null,
      "_view_module": "@jupyter-widgets/base",
      "_view_module_version": "1.2.0",
      "_view_name": "LayoutView",
      "align_content": null,
      "align_items": null,
      "align_self": null,
      "border": null,
      "bottom": null,
      "display": null,
      "flex": null,
      "flex_flow": null,
      "grid_area": null,
      "grid_auto_columns": null,
      "grid_auto_flow": null,
      "grid_auto_rows": null,
      "grid_column": null,
      "grid_gap": null,
      "grid_row": null,
      "grid_template_areas": null,
      "grid_template_columns": null,
      "grid_template_rows": null,
      "height": null,
      "justify_content": null,
      "justify_items": null,
      "left": null,
      "margin": null,
      "max_height": null,
      "max_width": null,
      "min_height": null,
      "min_width": null,
      "object_fit": null,
      "object_position": null,
      "order": null,
      "overflow": null,
      "overflow_x": null,
      "overflow_y": null,
      "padding": null,
      "right": null,
      "top": null,
      "visibility": null,
      "width": null
     }
    },
    "4d6238452cff4b7e8272111190f3f2bf": {
     "model_module": "@jupyter-widgets/controls",
     "model_name": "HTMLModel",
     "state": {
      "_dom_classes": [],
      "_model_module": "@jupyter-widgets/controls",
      "_model_module_version": "1.5.0",
      "_model_name": "HTMLModel",
      "_view_count": null,
      "_view_module": "@jupyter-widgets/controls",
      "_view_module_version": "1.5.0",
      "_view_name": "HTMLView",
      "description": "",
      "description_tooltip": null,
      "layout": "IPY_MODEL_5960c5e22fc54250954cd6fb1aae51d1",
      "placeholder": "​",
      "style": "IPY_MODEL_fc67d2556ed245559406a9e6bb7a842f",
      "value": " 32/32 [03:16&lt;00:00,  6.13s/it]"
     }
    },
    "5960c5e22fc54250954cd6fb1aae51d1": {
     "model_module": "@jupyter-widgets/base",
     "model_name": "LayoutModel",
     "state": {
      "_model_module": "@jupyter-widgets/base",
      "_model_module_version": "1.2.0",
      "_model_name": "LayoutModel",
      "_view_count": null,
      "_view_module": "@jupyter-widgets/base",
      "_view_module_version": "1.2.0",
      "_view_name": "LayoutView",
      "align_content": null,
      "align_items": null,
      "align_self": null,
      "border": null,
      "bottom": null,
      "display": null,
      "flex": null,
      "flex_flow": null,
      "grid_area": null,
      "grid_auto_columns": null,
      "grid_auto_flow": null,
      "grid_auto_rows": null,
      "grid_column": null,
      "grid_gap": null,
      "grid_row": null,
      "grid_template_areas": null,
      "grid_template_columns": null,
      "grid_template_rows": null,
      "height": null,
      "justify_content": null,
      "justify_items": null,
      "left": null,
      "margin": null,
      "max_height": null,
      "max_width": null,
      "min_height": null,
      "min_width": null,
      "object_fit": null,
      "object_position": null,
      "order": null,
      "overflow": null,
      "overflow_x": null,
      "overflow_y": null,
      "padding": null,
      "right": null,
      "top": null,
      "visibility": null,
      "width": null
     }
    },
    "66723a011adc4704880644660022aeea": {
     "model_module": "@jupyter-widgets/controls",
     "model_name": "HTMLModel",
     "state": {
      "_dom_classes": [],
      "_model_module": "@jupyter-widgets/controls",
      "_model_module_version": "1.5.0",
      "_model_name": "HTMLModel",
      "_view_count": null,
      "_view_module": "@jupyter-widgets/controls",
      "_view_module_version": "1.5.0",
      "_view_name": "HTMLView",
      "description": "",
      "description_tooltip": null,
      "layout": "IPY_MODEL_221f0e32aa094e6989a138f8dc1a49d2",
      "placeholder": "​",
      "style": "IPY_MODEL_8093eb6f15e947d79b612d5299a31811",
      "value": " 275/1113 [27:55&lt;1:24:31,  6.05s/it]"
     }
    },
    "70a1a30affd44a728f5e2a2c1180848a": {
     "model_module": "@jupyter-widgets/controls",
     "model_name": "FloatProgressModel",
     "state": {
      "_dom_classes": [],
      "_model_module": "@jupyter-widgets/controls",
      "_model_module_version": "1.5.0",
      "_model_name": "FloatProgressModel",
      "_view_count": null,
      "_view_module": "@jupyter-widgets/controls",
      "_view_module_version": "1.5.0",
      "_view_name": "ProgressView",
      "bar_style": "success",
      "description": "Iteration: 100%",
      "description_tooltip": null,
      "layout": "IPY_MODEL_ccac799053b648a7a823cba2a660aa53",
      "max": 32,
      "min": 0,
      "orientation": "horizontal",
      "style": "IPY_MODEL_1a52c621796548aea2b265099b4e3336",
      "value": 32
     }
    },
    "71c647bae2984bd3a757dd1c2a7b28a9": {
     "model_module": "@jupyter-widgets/controls",
     "model_name": "HBoxModel",
     "state": {
      "_dom_classes": [],
      "_model_module": "@jupyter-widgets/controls",
      "_model_module_version": "1.5.0",
      "_model_name": "HBoxModel",
      "_view_count": null,
      "_view_module": "@jupyter-widgets/controls",
      "_view_module_version": "1.5.0",
      "_view_name": "HBoxView",
      "box_style": "",
      "children": [
       "IPY_MODEL_70a1a30affd44a728f5e2a2c1180848a",
       "IPY_MODEL_4d6238452cff4b7e8272111190f3f2bf"
      ],
      "layout": "IPY_MODEL_e836c17c985b4192878f1ec80c00a575"
     }
    },
    "72a57f4435ee4a1ba98aa411e22de359": {
     "model_module": "@jupyter-widgets/base",
     "model_name": "LayoutModel",
     "state": {
      "_model_module": "@jupyter-widgets/base",
      "_model_module_version": "1.2.0",
      "_model_name": "LayoutModel",
      "_view_count": null,
      "_view_module": "@jupyter-widgets/base",
      "_view_module_version": "1.2.0",
      "_view_name": "LayoutView",
      "align_content": null,
      "align_items": null,
      "align_self": null,
      "border": null,
      "bottom": null,
      "display": null,
      "flex": null,
      "flex_flow": null,
      "grid_area": null,
      "grid_auto_columns": null,
      "grid_auto_flow": null,
      "grid_auto_rows": null,
      "grid_column": null,
      "grid_gap": null,
      "grid_row": null,
      "grid_template_areas": null,
      "grid_template_columns": null,
      "grid_template_rows": null,
      "height": null,
      "justify_content": null,
      "justify_items": null,
      "left": null,
      "margin": null,
      "max_height": null,
      "max_width": null,
      "min_height": null,
      "min_width": null,
      "object_fit": null,
      "object_position": null,
      "order": null,
      "overflow": null,
      "overflow_x": null,
      "overflow_y": null,
      "padding": null,
      "right": null,
      "top": null,
      "visibility": null,
      "width": null
     }
    },
    "8093eb6f15e947d79b612d5299a31811": {
     "model_module": "@jupyter-widgets/controls",
     "model_name": "DescriptionStyleModel",
     "state": {
      "_model_module": "@jupyter-widgets/controls",
      "_model_module_version": "1.5.0",
      "_model_name": "DescriptionStyleModel",
      "_view_count": null,
      "_view_module": "@jupyter-widgets/base",
      "_view_module_version": "1.2.0",
      "_view_name": "StyleView",
      "description_width": ""
     }
    },
    "90b5497f444b4713a85b10d99eede7b8": {
     "model_module": "@jupyter-widgets/controls",
     "model_name": "HBoxModel",
     "state": {
      "_dom_classes": [],
      "_model_module": "@jupyter-widgets/controls",
      "_model_module_version": "1.5.0",
      "_model_name": "HBoxModel",
      "_view_count": null,
      "_view_module": "@jupyter-widgets/controls",
      "_view_module_version": "1.5.0",
      "_view_name": "HBoxView",
      "box_style": "",
      "children": [
       "IPY_MODEL_c8bc22e9a49d4603bb8a9e779430c88e",
       "IPY_MODEL_66723a011adc4704880644660022aeea"
      ],
      "layout": "IPY_MODEL_72a57f4435ee4a1ba98aa411e22de359"
     }
    },
    "c8bc22e9a49d4603bb8a9e779430c88e": {
     "model_module": "@jupyter-widgets/controls",
     "model_name": "FloatProgressModel",
     "state": {
      "_dom_classes": [],
      "_model_module": "@jupyter-widgets/controls",
      "_model_module_version": "1.5.0",
      "_model_name": "FloatProgressModel",
      "_view_count": null,
      "_view_module": "@jupyter-widgets/controls",
      "_view_module_version": "1.5.0",
      "_view_name": "ProgressView",
      "bar_style": "",
      "description": "Iteration:  25%",
      "description_tooltip": null,
      "layout": "IPY_MODEL_2cb8196e450a4cb5be0a4af735636ff6",
      "max": 1113,
      "min": 0,
      "orientation": "horizontal",
      "style": "IPY_MODEL_14ca68aa1be84c518cdafadea7a7d39f",
      "value": 275
     }
    },
    "ccac799053b648a7a823cba2a660aa53": {
     "model_module": "@jupyter-widgets/base",
     "model_name": "LayoutModel",
     "state": {
      "_model_module": "@jupyter-widgets/base",
      "_model_module_version": "1.2.0",
      "_model_name": "LayoutModel",
      "_view_count": null,
      "_view_module": "@jupyter-widgets/base",
      "_view_module_version": "1.2.0",
      "_view_name": "LayoutView",
      "align_content": null,
      "align_items": null,
      "align_self": null,
      "border": null,
      "bottom": null,
      "display": null,
      "flex": null,
      "flex_flow": null,
      "grid_area": null,
      "grid_auto_columns": null,
      "grid_auto_flow": null,
      "grid_auto_rows": null,
      "grid_column": null,
      "grid_gap": null,
      "grid_row": null,
      "grid_template_areas": null,
      "grid_template_columns": null,
      "grid_template_rows": null,
      "height": null,
      "justify_content": null,
      "justify_items": null,
      "left": null,
      "margin": null,
      "max_height": null,
      "max_width": null,
      "min_height": null,
      "min_width": null,
      "object_fit": null,
      "object_position": null,
      "order": null,
      "overflow": null,
      "overflow_x": null,
      "overflow_y": null,
      "padding": null,
      "right": null,
      "top": null,
      "visibility": null,
      "width": null
     }
    },
    "e836c17c985b4192878f1ec80c00a575": {
     "model_module": "@jupyter-widgets/base",
     "model_name": "LayoutModel",
     "state": {
      "_model_module": "@jupyter-widgets/base",
      "_model_module_version": "1.2.0",
      "_model_name": "LayoutModel",
      "_view_count": null,
      "_view_module": "@jupyter-widgets/base",
      "_view_module_version": "1.2.0",
      "_view_name": "LayoutView",
      "align_content": null,
      "align_items": null,
      "align_self": null,
      "border": null,
      "bottom": null,
      "display": null,
      "flex": null,
      "flex_flow": null,
      "grid_area": null,
      "grid_auto_columns": null,
      "grid_auto_flow": null,
      "grid_auto_rows": null,
      "grid_column": null,
      "grid_gap": null,
      "grid_row": null,
      "grid_template_areas": null,
      "grid_template_columns": null,
      "grid_template_rows": null,
      "height": null,
      "justify_content": null,
      "justify_items": null,
      "left": null,
      "margin": null,
      "max_height": null,
      "max_width": null,
      "min_height": null,
      "min_width": null,
      "object_fit": null,
      "object_position": null,
      "order": null,
      "overflow": null,
      "overflow_x": null,
      "overflow_y": null,
      "padding": null,
      "right": null,
      "top": null,
      "visibility": null,
      "width": null
     }
    },
    "fc67d2556ed245559406a9e6bb7a842f": {
     "model_module": "@jupyter-widgets/controls",
     "model_name": "DescriptionStyleModel",
     "state": {
      "_model_module": "@jupyter-widgets/controls",
      "_model_module_version": "1.5.0",
      "_model_name": "DescriptionStyleModel",
      "_view_count": null,
      "_view_module": "@jupyter-widgets/base",
      "_view_module_version": "1.2.0",
      "_view_name": "StyleView",
      "description_width": ""
     }
    }
   }
  }
 },
 "nbformat": 4,
 "nbformat_minor": 1
}
